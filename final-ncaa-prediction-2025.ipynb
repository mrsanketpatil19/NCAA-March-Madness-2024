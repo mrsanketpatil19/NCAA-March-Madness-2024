{
 "cells": [
  {
   "cell_type": "code",
   "execution_count": 1,
   "id": "c395799b",
   "metadata": {
    "_cell_guid": "24df3aef-01c2-41c4-9412-2c197da62c5c",
    "_uuid": "8f4b2195-d152-44fd-b501-30644f03f6a6",
    "collapsed": false,
    "execution": {
     "iopub.execute_input": "2025-03-18T15:18:10.618548Z",
     "iopub.status.busy": "2025-03-18T15:18:10.618013Z",
     "iopub.status.idle": "2025-03-18T15:18:10.646086Z",
     "shell.execute_reply": "2025-03-18T15:18:10.644594Z"
    },
    "id": "GnAH2FmoKGCY",
    "jupyter": {
     "outputs_hidden": false
    },
    "outputId": "bffca791-aaf6-4057-d1dc-100973d082a4",
    "papermill": {
     "duration": 0.079857,
     "end_time": "2025-03-18T15:18:10.648401",
     "exception": false,
     "start_time": "2025-03-18T15:18:10.568544",
     "status": "completed"
    },
    "tags": []
   },
   "outputs": [
    {
     "name": "stdout",
     "output_type": "stream",
     "text": [
      "/kaggle/input/march-machine-learning-mania-2025/Conferences.csv\n",
      "/kaggle/input/march-machine-learning-mania-2025/SeedBenchmarkStage1.csv\n",
      "/kaggle/input/march-machine-learning-mania-2025/WNCAATourneyDetailedResults.csv\n",
      "/kaggle/input/march-machine-learning-mania-2025/WRegularSeasonCompactResults.csv\n",
      "/kaggle/input/march-machine-learning-mania-2025/MNCAATourneySeedRoundSlots.csv\n",
      "/kaggle/input/march-machine-learning-mania-2025/MRegularSeasonDetailedResults.csv\n",
      "/kaggle/input/march-machine-learning-mania-2025/MNCAATourneyCompactResults.csv\n",
      "/kaggle/input/march-machine-learning-mania-2025/MGameCities.csv\n",
      "/kaggle/input/march-machine-learning-mania-2025/WSecondaryTourneyCompactResults.csv\n",
      "/kaggle/input/march-machine-learning-mania-2025/WGameCities.csv\n",
      "/kaggle/input/march-machine-learning-mania-2025/MSeasons.csv\n",
      "/kaggle/input/march-machine-learning-mania-2025/WNCAATourneySlots.csv\n",
      "/kaggle/input/march-machine-learning-mania-2025/MSecondaryTourneyTeams.csv\n",
      "/kaggle/input/march-machine-learning-mania-2025/SampleSubmissionStage2.csv\n",
      "/kaggle/input/march-machine-learning-mania-2025/Cities.csv\n",
      "/kaggle/input/march-machine-learning-mania-2025/MTeamSpellings.csv\n",
      "/kaggle/input/march-machine-learning-mania-2025/MRegularSeasonCompactResults.csv\n",
      "/kaggle/input/march-machine-learning-mania-2025/MMasseyOrdinals.csv\n",
      "/kaggle/input/march-machine-learning-mania-2025/MSecondaryTourneyCompactResults.csv\n",
      "/kaggle/input/march-machine-learning-mania-2025/WTeams.csv\n",
      "/kaggle/input/march-machine-learning-mania-2025/WConferenceTourneyGames.csv\n",
      "/kaggle/input/march-machine-learning-mania-2025/MNCAATourneySlots.csv\n",
      "/kaggle/input/march-machine-learning-mania-2025/MNCAATourneySeeds.csv\n",
      "/kaggle/input/march-machine-learning-mania-2025/WNCAATourneyCompactResults.csv\n",
      "/kaggle/input/march-machine-learning-mania-2025/WSeasons.csv\n",
      "/kaggle/input/march-machine-learning-mania-2025/WNCAATourneySeeds.csv\n",
      "/kaggle/input/march-machine-learning-mania-2025/MTeamCoaches.csv\n",
      "/kaggle/input/march-machine-learning-mania-2025/MConferenceTourneyGames.csv\n",
      "/kaggle/input/march-machine-learning-mania-2025/WRegularSeasonDetailedResults.csv\n",
      "/kaggle/input/march-machine-learning-mania-2025/MNCAATourneyDetailedResults.csv\n",
      "/kaggle/input/march-machine-learning-mania-2025/WTeamSpellings.csv\n",
      "/kaggle/input/march-machine-learning-mania-2025/MTeamConferences.csv\n",
      "/kaggle/input/march-machine-learning-mania-2025/MTeams.csv\n",
      "/kaggle/input/march-machine-learning-mania-2025/WTeamConferences.csv\n",
      "/kaggle/input/march-machine-learning-mania-2025/SampleSubmissionStage1.csv\n",
      "/kaggle/input/march-machine-learning-mania-2025/WSecondaryTourneyTeams.csv\n"
     ]
    }
   ],
   "source": [
    "import os\n",
    "for dirname, _, filenames in os.walk('/kaggle/input'):\n",
    "    for filename in filenames:\n",
    "        print(os.path.join(dirname, filename))"
   ]
  },
  {
   "cell_type": "code",
   "execution_count": 2,
   "id": "4a5bda98",
   "metadata": {
    "_cell_guid": "ccdf5c19-9b92-4532-9dab-4a65cbb62d9f",
    "_uuid": "7a47cea4-0d9b-4b88-a86d-b92038d8f0e5",
    "collapsed": false,
    "execution": {
     "iopub.execute_input": "2025-03-18T15:18:10.736409Z",
     "iopub.status.busy": "2025-03-18T15:18:10.736009Z",
     "iopub.status.idle": "2025-03-18T15:18:10.880277Z",
     "shell.execute_reply": "2025-03-18T15:18:10.878857Z"
    },
    "id": "unRmQwGJKGCg",
    "jupyter": {
     "outputs_hidden": false
    },
    "outputId": "50750104-ee1a-443c-93ba-6c29d666de7f",
    "papermill": {
     "duration": 0.190611,
     "end_time": "2025-03-18T15:18:10.882775",
     "exception": false,
     "start_time": "2025-03-18T15:18:10.692164",
     "status": "completed"
    },
    "tags": []
   },
   "outputs": [
    {
     "name": "stdout",
     "output_type": "stream",
     "text": [
      "total 175M\r\n",
      "   0 drwxr-xr-x 2 nobody    0 Mar 17 03:22 ./\r\n",
      "4.0K drwxr-xr-x 3 root   4.0K Mar 18 15:18 ../\r\n",
      " 12K -rw-r--r-- 1 nobody 9.5K Mar 17 03:22 Cities.csv\r\n",
      "4.0K -rw-r--r-- 1 nobody 1.7K Mar 17 03:22 Conferences.csv\r\n",
      "176K -rw-r--r-- 1 nobody 175K Mar 17 03:22 MConferenceTourneyGames.csv\r\n",
      "2.7M -rw-r--r-- 1 nobody 2.7M Mar 17 03:22 MGameCities.csv\r\n",
      "117M -rw-r--r-- 1 nobody 117M Mar 17 03:22 MMasseyOrdinals.csv\r\n",
      " 76K -rw-r--r-- 1 nobody  74K Mar 17 03:22 MNCAATourneyCompactResults.csv\r\n",
      "136K -rw-r--r-- 1 nobody 135K Mar 17 03:22 MNCAATourneyDetailedResults.csv\r\n",
      " 16K -rw-r--r-- 1 nobody  16K Mar 17 03:22 MNCAATourneySeedRoundSlots.csv\r\n",
      " 40K -rw-r--r-- 1 nobody  39K Mar 17 03:22 MNCAATourneySeeds.csv\r\n",
      " 52K -rw-r--r-- 1 nobody  51K Mar 17 03:22 MNCAATourneySlots.csv\r\n",
      "5.4M -rw-r--r-- 1 nobody 5.4M Mar 17 03:22 MRegularSeasonCompactResults.csv\r\n",
      " 12M -rw-r--r-- 1 nobody  12M Mar 17 03:22 MRegularSeasonDetailedResults.csv\r\n",
      "4.0K -rw-r--r-- 1 nobody 1.8K Mar 17 03:22 MSeasons.csv\r\n",
      " 64K -rw-r--r-- 1 nobody  61K Mar 17 03:22 MSecondaryTourneyCompactResults.csv\r\n",
      " 28K -rw-r--r-- 1 nobody  27K Mar 17 03:22 MSecondaryTourneyTeams.csv\r\n",
      "396K -rw-r--r-- 1 nobody 395K Mar 17 03:22 MTeamCoaches.csv\r\n",
      "228K -rw-r--r-- 1 nobody 226K Mar 17 03:22 MTeamConferences.csv\r\n",
      " 12K -rw-r--r-- 1 nobody 9.8K Mar 17 03:22 MTeams.csv\r\n",
      " 24K -rw-r--r-- 1 nobody  23K Mar 17 03:22 MTeamSpellings.csv\r\n",
      "9.7M -rw-r--r-- 1 nobody 9.7M Mar 17 03:22 SampleSubmissionStage1.csv\r\n",
      "2.6M -rw-r--r-- 1 nobody 2.6M Mar 17 03:22 SampleSubmissionStage2.csv\r\n",
      " 11M -rw-r--r-- 1 nobody  11M Mar 17 03:22 SeedBenchmarkStage1.csv\r\n",
      "168K -rw-r--r-- 1 nobody 167K Mar 17 03:22 WConferenceTourneyGames.csv\r\n",
      "2.6M -rw-r--r-- 1 nobody 2.6M Mar 17 03:22 WGameCities.csv\r\n",
      " 52K -rw-r--r-- 1 nobody  49K Mar 17 03:22 WNCAATourneyCompactResults.csv\r\n",
      " 88K -rw-r--r-- 1 nobody  88K Mar 17 03:22 WNCAATourneyDetailedResults.csv\r\n",
      " 28K -rw-r--r-- 1 nobody  26K Mar 17 03:22 WNCAATourneySeeds.csv\r\n",
      " 36K -rw-r--r-- 1 nobody  35K Mar 17 03:22 WNCAATourneySlots.csv\r\n",
      "3.9M -rw-r--r-- 1 nobody 3.9M Mar 17 03:22 WRegularSeasonCompactResults.csv\r\n",
      "7.8M -rw-r--r-- 1 nobody 7.8M Mar 17 03:22 WRegularSeasonDetailedResults.csv\r\n",
      "4.0K -rw-r--r-- 1 nobody 1.5K Mar 17 03:22 WSeasons.csv\r\n",
      " 32K -rw-r--r-- 1 nobody  29K Mar 17 03:22 WSecondaryTourneyCompactResults.csv\r\n",
      " 16K -rw-r--r-- 1 nobody  13K Mar 17 03:22 WSecondaryTourneyTeams.csv\r\n",
      "164K -rw-r--r-- 1 nobody 161K Mar 17 03:22 WTeamConferences.csv\r\n",
      "8.0K -rw-r--r-- 1 nobody 6.1K Mar 17 03:22 WTeams.csv\r\n",
      " 24K -rw-r--r-- 1 nobody  23K Mar 17 03:22 WTeamSpellings.csv\r\n"
     ]
    }
   ],
   "source": [
    "!ls -GFlash ../input/march-machine-learning-mania-2025"
   ]
  },
  {
   "cell_type": "code",
   "execution_count": 3,
   "id": "74d44842",
   "metadata": {
    "_cell_guid": "da865d60-bc60-46de-aae2-b096736d496d",
    "_uuid": "ac4c64cb-c884-4bd7-8307-d67666e02dd5",
    "collapsed": false,
    "execution": {
     "iopub.execute_input": "2025-03-18T15:18:10.972361Z",
     "iopub.status.busy": "2025-03-18T15:18:10.971837Z",
     "iopub.status.idle": "2025-03-18T15:18:14.165485Z",
     "shell.execute_reply": "2025-03-18T15:18:14.164240Z"
    },
    "id": "sy8mzPvGrHSM",
    "jupyter": {
     "outputs_hidden": false
    },
    "papermill": {
     "duration": 3.240751,
     "end_time": "2025-03-18T15:18:14.167695",
     "exception": false,
     "start_time": "2025-03-18T15:18:10.926944",
     "status": "completed"
    },
    "tags": []
   },
   "outputs": [],
   "source": [
    "import pandas as pd\n",
    "import os\n",
    "from xgboost import XGBClassifier\n",
    "import xgboost as xgb\n",
    "from sklearn.metrics import accuracy_score, log_loss, roc_auc_score\n",
    "from sklearn.model_selection import GridSearchCV"
   ]
  },
  {
   "cell_type": "code",
   "execution_count": 4,
   "id": "201adfb5",
   "metadata": {
    "_cell_guid": "ebee7442-f1c1-45ea-bec1-c0966c608c6b",
    "_uuid": "92b8559a-7a68-49bf-a4bb-8a87f6858392",
    "collapsed": false,
    "execution": {
     "iopub.execute_input": "2025-03-18T15:18:14.256446Z",
     "iopub.status.busy": "2025-03-18T15:18:14.255472Z",
     "iopub.status.idle": "2025-03-18T15:18:14.261373Z",
     "shell.execute_reply": "2025-03-18T15:18:14.260028Z"
    },
    "id": "OKcBa_vWrH2b",
    "jupyter": {
     "outputs_hidden": false
    },
    "papermill": {
     "duration": 0.051916,
     "end_time": "2025-03-18T15:18:14.263536",
     "exception": false,
     "start_time": "2025-03-18T15:18:14.211620",
     "status": "completed"
    },
    "tags": []
   },
   "outputs": [],
   "source": [
    "base_path = \"../input/march-machine-learning-mania-2025/\"  # Change this path as needed"
   ]
  },
  {
   "cell_type": "code",
   "execution_count": 5,
   "id": "5e487a6d",
   "metadata": {
    "_cell_guid": "454e48c7-aa09-412b-a4b9-7627eea31f2a",
    "_uuid": "ab228693-70f9-4bba-805f-e02a8735f555",
    "collapsed": false,
    "execution": {
     "iopub.execute_input": "2025-03-18T15:18:14.363118Z",
     "iopub.status.busy": "2025-03-18T15:18:14.362666Z",
     "iopub.status.idle": "2025-03-18T15:18:14.446476Z",
     "shell.execute_reply": "2025-03-18T15:18:14.445239Z"
    },
    "id": "UGiKP7T1rH50",
    "jupyter": {
     "outputs_hidden": false
    },
    "papermill": {
     "duration": 0.133482,
     "end_time": "2025-03-18T15:18:14.449087",
     "exception": false,
     "start_time": "2025-03-18T15:18:14.315605",
     "status": "completed"
    },
    "tags": []
   },
   "outputs": [],
   "source": [
    "# Load datasets\n",
    "tourney_results = pd.read_csv(os.path.join(base_path, \"MNCAATourneyDetailedResults.csv\"))\n",
    "tourney_seeds = pd.read_csv(os.path.join(base_path, \"MNCAATourneySeeds.csv\"))\n",
    "tourney_slots = pd.read_csv(os.path.join(base_path, \"MNCAATourneySlots.csv\"))\n",
    "tourney_seed_round_slots = pd.read_csv(os.path.join(base_path, \"MNCAATourneySeedRoundSlots.csv\"))\n",
    "seasons = pd.read_csv(os.path.join(base_path, \"MSeasons.csv\"))\n",
    "\n",
    "wtourney_results = pd.read_csv(os.path.join(base_path, \"WNCAATourneyDetailedResults.csv\"))\n",
    "wtourney_seeds = pd.read_csv(os.path.join(base_path, \"WNCAATourneySeeds.csv\"))\n",
    "wtourney_slots = pd.read_csv(os.path.join(base_path, \"WNCAATourneySlots.csv\"))\n",
    "# wtourney_seed_round_slots = pd.read_csv(os.path.join(base_path, \"WNCAATourneySeedRoundSlots.csv\"))\n",
    "wseasons = pd.read_csv(os.path.join(base_path, \"WSeasons.csv\"))"
   ]
  },
  {
   "cell_type": "code",
   "execution_count": null,
   "id": "f6b774b1",
   "metadata": {
    "papermill": {
     "duration": 0.043875,
     "end_time": "2025-03-18T15:18:14.538833",
     "exception": false,
     "start_time": "2025-03-18T15:18:14.494958",
     "status": "completed"
    },
    "tags": []
   },
   "outputs": [],
   "source": []
  },
  {
   "cell_type": "code",
   "execution_count": 6,
   "id": "5c70ec2f",
   "metadata": {
    "_cell_guid": "299e7721-7b45-4a4f-99bd-3943dc172c04",
    "_uuid": "edeb8d44-42cf-448a-9346-587071cdc08f",
    "collapsed": false,
    "execution": {
     "iopub.execute_input": "2025-03-18T15:18:14.721883Z",
     "iopub.status.busy": "2025-03-18T15:18:14.721405Z",
     "iopub.status.idle": "2025-03-18T15:18:14.768602Z",
     "shell.execute_reply": "2025-03-18T15:18:14.767183Z"
    },
    "id": "irsLoqa0rH9K",
    "jupyter": {
     "outputs_hidden": false
    },
    "papermill": {
     "duration": 0.096392,
     "end_time": "2025-03-18T15:18:14.771503",
     "exception": false,
     "start_time": "2025-03-18T15:18:14.675111",
     "status": "completed"
    },
    "tags": []
   },
   "outputs": [],
   "source": [
    "# Merge winner and loser seeds\n",
    "tourney_results = tourney_results.merge(\n",
    "    tourney_seeds, left_on=['Season', 'WTeamID'], right_on=['Season', 'TeamID'], how=\"left\"\n",
    ").rename(columns={'Seed': 'WSeed'}).drop(columns=['TeamID'])\n",
    "\n",
    "tourney_results = tourney_results.merge(\n",
    "    tourney_seeds, left_on=['Season', 'LTeamID'], right_on=['Season', 'TeamID'], how=\"left\"\n",
    ").rename(columns={'Seed': 'LSeed'}).drop(columns=['TeamID'])"
   ]
  },
  {
   "cell_type": "code",
   "execution_count": 7,
   "id": "864316eb",
   "metadata": {
    "execution": {
     "iopub.execute_input": "2025-03-18T15:18:14.867458Z",
     "iopub.status.busy": "2025-03-18T15:18:14.866935Z",
     "iopub.status.idle": "2025-03-18T15:18:14.888311Z",
     "shell.execute_reply": "2025-03-18T15:18:14.886264Z"
    },
    "papermill": {
     "duration": 0.06863,
     "end_time": "2025-03-18T15:18:14.891215",
     "exception": false,
     "start_time": "2025-03-18T15:18:14.822585",
     "status": "completed"
    },
    "tags": []
   },
   "outputs": [],
   "source": [
    "#woman Merge winner and loser seeds\n",
    "wtourney_results = wtourney_results.merge(\n",
    "    wtourney_seeds, left_on=['Season', 'WTeamID'], right_on=['Season', 'TeamID'], how=\"left\"\n",
    ").rename(columns={'Seed': 'WSeed'}).drop(columns=['TeamID'])\n",
    "\n",
    "wtourney_results = wtourney_results.merge(\n",
    "    wtourney_seeds, left_on=['Season', 'LTeamID'], right_on=['Season', 'TeamID'], how=\"left\"\n",
    ").rename(columns={'Seed': 'LSeed'}).drop(columns=['TeamID'])"
   ]
  },
  {
   "cell_type": "code",
   "execution_count": 8,
   "id": "92e48312",
   "metadata": {
    "_cell_guid": "26e6415d-cacd-4cd5-b31c-8e354b506e10",
    "_uuid": "26b53f08-5065-4b26-b9e5-cdc66fc0e749",
    "collapsed": false,
    "execution": {
     "iopub.execute_input": "2025-03-18T15:18:15.030020Z",
     "iopub.status.busy": "2025-03-18T15:18:15.029511Z",
     "iopub.status.idle": "2025-03-18T15:18:20.255633Z",
     "shell.execute_reply": "2025-03-18T15:18:20.254427Z"
    },
    "id": "S2uJ5DqKrIAR",
    "jupyter": {
     "outputs_hidden": false
    },
    "papermill": {
     "duration": 5.298446,
     "end_time": "2025-03-18T15:18:20.258196",
     "exception": false,
     "start_time": "2025-03-18T15:18:14.959750",
     "status": "completed"
    },
    "tags": []
   },
   "outputs": [],
   "source": [
    "# Merge slots (outer join to prevent data loss)\n",
    "tourney_results = tourney_results.merge(tourney_slots, on=[\"Season\"], how=\"outer\")\n",
    "tourney_results = tourney_results.merge(tourney_seed_round_slots, left_on=\"WSeed\", right_on=\"Seed\", how=\"left\").drop(columns=[\"Seed\"])\n",
    "tourney_results = tourney_results.merge(tourney_seed_round_slots, left_on=\"LSeed\", right_on=\"Seed\", how=\"left\").drop(columns=[\"Seed\"])"
   ]
  },
  {
   "cell_type": "code",
   "execution_count": 9,
   "id": "a912e601",
   "metadata": {
    "execution": {
     "iopub.execute_input": "2025-03-18T15:18:20.351194Z",
     "iopub.status.busy": "2025-03-18T15:18:20.350653Z",
     "iopub.status.idle": "2025-03-18T15:18:20.371774Z",
     "shell.execute_reply": "2025-03-18T15:18:20.370509Z"
    },
    "papermill": {
     "duration": 0.070498,
     "end_time": "2025-03-18T15:18:20.374259",
     "exception": false,
     "start_time": "2025-03-18T15:18:20.303761",
     "status": "completed"
    },
    "tags": []
   },
   "outputs": [],
   "source": [
    "#woman Merge slots (outer join to prevent data loss)\n",
    "wtourney_results = wtourney_results.merge(wtourney_slots, on=[\"Season\"], how=\"outer\")\n"
   ]
  },
  {
   "cell_type": "code",
   "execution_count": 10,
   "id": "7e0765e3",
   "metadata": {
    "_cell_guid": "286bed04-bd0a-4e64-9d0e-105560eb0ce3",
    "_uuid": "dcca9007-89e7-4d88-8f88-3c6fd1832474",
    "collapsed": false,
    "execution": {
     "iopub.execute_input": "2025-03-18T15:18:20.465000Z",
     "iopub.status.busy": "2025-03-18T15:18:20.464644Z",
     "iopub.status.idle": "2025-03-18T15:18:20.471559Z",
     "shell.execute_reply": "2025-03-18T15:18:20.470013Z"
    },
    "id": "njB6YM8orIDf",
    "jupyter": {
     "outputs_hidden": false
    },
    "outputId": "a628a425-c10e-47c7-8e9b-a298397de522",
    "papermill": {
     "duration": 0.05507,
     "end_time": "2025-03-18T15:18:20.473656",
     "exception": false,
     "start_time": "2025-03-18T15:18:20.418586",
     "status": "completed"
    },
    "tags": []
   },
   "outputs": [
    {
     "name": "stdout",
     "output_type": "stream",
     "text": [
      "Columns in tourney_results: Index(['Season', 'DayNum', 'WTeamID', 'WScore', 'LTeamID', 'LScore', 'WLoc',\n",
      "       'NumOT', 'WFGM', 'WFGA', 'WFGM3', 'WFGA3', 'WFTM', 'WFTA', 'WOR', 'WDR',\n",
      "       'WAst', 'WTO', 'WStl', 'WBlk', 'WPF', 'LFGM', 'LFGA', 'LFGM3', 'LFGA3',\n",
      "       'LFTM', 'LFTA', 'LOR', 'LDR', 'LAst', 'LTO', 'LStl', 'LBlk', 'LPF',\n",
      "       'WSeed', 'LSeed', 'Slot', 'StrongSeed', 'WeakSeed', 'GameRound_x',\n",
      "       'GameSlot_x', 'EarlyDayNum_x', 'LateDayNum_x', 'GameRound_y',\n",
      "       'GameSlot_y', 'EarlyDayNum_y', 'LateDayNum_y'],\n",
      "      dtype='object')\n"
     ]
    }
   ],
   "source": [
    "print(\"Columns in tourney_results:\", tourney_results.columns)"
   ]
  },
  {
   "cell_type": "code",
   "execution_count": 11,
   "id": "44635422",
   "metadata": {
    "execution": {
     "iopub.execute_input": "2025-03-18T15:18:20.564497Z",
     "iopub.status.busy": "2025-03-18T15:18:20.564086Z",
     "iopub.status.idle": "2025-03-18T15:18:20.569657Z",
     "shell.execute_reply": "2025-03-18T15:18:20.568252Z"
    },
    "papermill": {
     "duration": 0.053512,
     "end_time": "2025-03-18T15:18:20.571839",
     "exception": false,
     "start_time": "2025-03-18T15:18:20.518327",
     "status": "completed"
    },
    "tags": []
   },
   "outputs": [
    {
     "name": "stdout",
     "output_type": "stream",
     "text": [
      "Columns in tourney_results: Index(['Season', 'DayNum', 'WTeamID', 'WScore', 'LTeamID', 'LScore', 'WLoc',\n",
      "       'NumOT', 'WFGM', 'WFGA', 'WFGM3', 'WFGA3', 'WFTM', 'WFTA', 'WOR', 'WDR',\n",
      "       'WAst', 'WTO', 'WStl', 'WBlk', 'WPF', 'LFGM', 'LFGA', 'LFGM3', 'LFGA3',\n",
      "       'LFTM', 'LFTA', 'LOR', 'LDR', 'LAst', 'LTO', 'LStl', 'LBlk', 'LPF',\n",
      "       'WSeed', 'LSeed', 'Slot', 'StrongSeed', 'WeakSeed'],\n",
      "      dtype='object')\n"
     ]
    }
   ],
   "source": [
    "#woman\n",
    "print(\"Columns in tourney_results:\", wtourney_results.columns)"
   ]
  },
  {
   "cell_type": "code",
   "execution_count": 12,
   "id": "acf5ab6c",
   "metadata": {
    "_cell_guid": "9ae8200a-1e7b-417c-ac73-ccc1476e2e72",
    "_uuid": "c8143fc3-8bdb-41c4-918b-611b17361b49",
    "collapsed": false,
    "execution": {
     "iopub.execute_input": "2025-03-18T15:18:20.665974Z",
     "iopub.status.busy": "2025-03-18T15:18:20.665556Z",
     "iopub.status.idle": "2025-03-18T15:18:20.852250Z",
     "shell.execute_reply": "2025-03-18T15:18:20.850157Z"
    },
    "id": "V_HrH8KrrIGk",
    "jupyter": {
     "outputs_hidden": false
    },
    "outputId": "78d4b97d-4f3e-484d-dffe-b07b8adda041",
    "papermill": {
     "duration": 0.237026,
     "end_time": "2025-03-18T15:18:20.854778",
     "exception": false,
     "start_time": "2025-03-18T15:18:20.617752",
     "status": "completed"
    },
    "tags": []
   },
   "outputs": [
    {
     "name": "stdout",
     "output_type": "stream",
     "text": [
      "['W01' 'W02' 'W03' 'W04' 'W05' 'W06' 'W07' 'W08' 'X01' 'X02' 'X03' 'X04'\n",
      " 'X05' 'X06' 'X07' 'X08' 'Y01' 'Y02' 'Y03' 'Y04' 'Y05' 'Y06' 'Y07' 'Y08'\n",
      " 'Z01' 'Z02' 'Z03' 'Z04' 'Z05' 'Z06' 'Z07' 'Z08' 'R1W1' 'R1W2' 'R1W3'\n",
      " 'R1W4' 'R1X1' 'R1X2' 'R1X3' 'R1X4' 'R1Y1' 'R1Y2' 'R1Y3' 'R1Y4' 'R1Z1'\n",
      " 'R1Z2' 'R1Z3' 'R1Z4' 'R2W1' 'R2W2' 'R2X1' 'R2X2' 'R2Y1' 'R2Y2' 'R2Z1'\n",
      " 'R2Z2' 'R3W1' 'R3X1' 'R3Y1' 'R3Z1' 'R4W1' 'R4Y1' 'R5WX' 'Y16a' 'W16a'\n",
      " 'X16a' 'Z16a' 'W12a' 'Z11a' 'X12a' 'Z14a' 'Y11a' 'Z13a' 'Y12a' 'W11a'\n",
      " 'X11a' 'Y10a' 'Z10a']\n"
     ]
    }
   ],
   "source": [
    "print(tourney_results[\"StrongSeed\"].unique())"
   ]
  },
  {
   "cell_type": "code",
   "execution_count": 13,
   "id": "88df318a",
   "metadata": {
    "execution": {
     "iopub.execute_input": "2025-03-18T15:18:20.945784Z",
     "iopub.status.busy": "2025-03-18T15:18:20.945372Z",
     "iopub.status.idle": "2025-03-18T15:18:20.954397Z",
     "shell.execute_reply": "2025-03-18T15:18:20.952886Z"
    },
    "papermill": {
     "duration": 0.057282,
     "end_time": "2025-03-18T15:18:20.956749",
     "exception": false,
     "start_time": "2025-03-18T15:18:20.899467",
     "status": "completed"
    },
    "tags": []
   },
   "outputs": [
    {
     "name": "stdout",
     "output_type": "stream",
     "text": [
      "['W01' 'W02' 'W03' 'W04' 'W05' 'W06' 'W07' 'W08' 'X01' 'X02' 'X03' 'X04'\n",
      " 'X05' 'X06' 'X07' 'X08' 'Y01' 'Y02' 'Y03' 'Y04' 'Y05' 'Y06' 'Y07' 'Y08'\n",
      " 'Z01' 'Z02' 'Z03' 'Z04' 'Z05' 'Z06' 'Z07' 'Z08' 'R1W1' 'R1W2' 'R1W3'\n",
      " 'R1W4' 'R1X1' 'R1X2' 'R1X3' 'R1X4' 'R1Y1' 'R1Y2' 'R1Y3' 'R1Y4' 'R1Z1'\n",
      " 'R1Z2' 'R1Z3' 'R1Z4' 'R2W1' 'R2W2' 'R2X1' 'R2X2' 'R2Y1' 'R2Y2' 'R2Z1'\n",
      " 'R2Z2' 'R3W1' 'R3X1' 'R3Y1' 'R3Z1' 'R4W1' 'R4Y1' 'R5WX' 'W16a' 'X11a'\n",
      " 'Y11a' 'Y16a' 'W11a' 'X16a' 'Z11a' 'Z12a']\n"
     ]
    }
   ],
   "source": [
    "#woman\n",
    "print(wtourney_results[\"StrongSeed\"].unique())"
   ]
  },
  {
   "cell_type": "code",
   "execution_count": 14,
   "id": "d7165fae",
   "metadata": {
    "_cell_guid": "7e511c47-fa82-4d33-94e4-c1fd507d4fdb",
    "_uuid": "64503e81-007e-47d7-89c5-28753f9953de",
    "collapsed": false,
    "execution": {
     "iopub.execute_input": "2025-03-18T15:18:21.046326Z",
     "iopub.status.busy": "2025-03-18T15:18:21.045897Z",
     "iopub.status.idle": "2025-03-18T15:18:21.105013Z",
     "shell.execute_reply": "2025-03-18T15:18:21.103623Z"
    },
    "id": "m-KygThnDsB-",
    "jupyter": {
     "outputs_hidden": false
    },
    "outputId": "5f1fe1c7-bccc-4bd6-b388-9586224c569e",
    "papermill": {
     "duration": 0.107244,
     "end_time": "2025-03-18T15:18:21.107386",
     "exception": false,
     "start_time": "2025-03-18T15:18:21.000142",
     "status": "completed"
    },
    "tags": []
   },
   "outputs": [
    {
     "name": "stdout",
     "output_type": "stream",
     "text": [
      "[nan 'N']\n"
     ]
    }
   ],
   "source": [
    "print(tourney_results[\"WLoc\"].unique())"
   ]
  },
  {
   "cell_type": "code",
   "execution_count": 15,
   "id": "dc7c92c4",
   "metadata": {
    "execution": {
     "iopub.execute_input": "2025-03-18T15:18:21.201862Z",
     "iopub.status.busy": "2025-03-18T15:18:21.201504Z",
     "iopub.status.idle": "2025-03-18T15:18:21.208755Z",
     "shell.execute_reply": "2025-03-18T15:18:21.207246Z"
    },
    "papermill": {
     "duration": 0.058753,
     "end_time": "2025-03-18T15:18:21.210722",
     "exception": false,
     "start_time": "2025-03-18T15:18:21.151969",
     "status": "completed"
    },
    "tags": []
   },
   "outputs": [
    {
     "name": "stdout",
     "output_type": "stream",
     "text": [
      "[nan 'N' 'H' 'A']\n"
     ]
    }
   ],
   "source": [
    "\n",
    "print(wtourney_results[\"WLoc\"].unique())"
   ]
  },
  {
   "cell_type": "code",
   "execution_count": 16,
   "id": "6ff056db",
   "metadata": {
    "_cell_guid": "b81bc353-25b2-4277-b66f-e246c42685f5",
    "_uuid": "e229e0ce-0097-4a2f-9816-a4509757442d",
    "collapsed": false,
    "execution": {
     "iopub.execute_input": "2025-03-18T15:18:21.299879Z",
     "iopub.status.busy": "2025-03-18T15:18:21.299370Z",
     "iopub.status.idle": "2025-03-18T15:18:24.319681Z",
     "shell.execute_reply": "2025-03-18T15:18:24.318434Z"
    },
    "id": "chpsOKRYrIJq",
    "jupyter": {
     "outputs_hidden": false
    },
    "papermill": {
     "duration": 3.068318,
     "end_time": "2025-03-18T15:18:24.322117",
     "exception": false,
     "start_time": "2025-03-18T15:18:21.253799",
     "status": "completed"
    },
    "tags": []
   },
   "outputs": [],
   "source": [
    "tourney_results_cleaned = tourney_results.merge(seasons, on=\"Season\", how=\"left\")"
   ]
  },
  {
   "cell_type": "code",
   "execution_count": 17,
   "id": "56187e1b",
   "metadata": {
    "execution": {
     "iopub.execute_input": "2025-03-18T15:18:24.413131Z",
     "iopub.status.busy": "2025-03-18T15:18:24.412698Z",
     "iopub.status.idle": "2025-03-18T15:18:24.433157Z",
     "shell.execute_reply": "2025-03-18T15:18:24.432031Z"
    },
    "papermill": {
     "duration": 0.068715,
     "end_time": "2025-03-18T15:18:24.435528",
     "exception": false,
     "start_time": "2025-03-18T15:18:24.366813",
     "status": "completed"
    },
    "tags": []
   },
   "outputs": [],
   "source": [
    "wtourney_results_cleaned = wtourney_results.merge(seasons, on=\"Season\", how=\"left\")"
   ]
  },
  {
   "cell_type": "code",
   "execution_count": 18,
   "id": "e2f58d48",
   "metadata": {
    "_cell_guid": "91d85708-c01d-4266-84ee-cbba03069b59",
    "_uuid": "9826589f-f3d2-4c8b-8bb3-10122643d835",
    "collapsed": false,
    "execution": {
     "iopub.execute_input": "2025-03-18T15:18:24.531038Z",
     "iopub.status.busy": "2025-03-18T15:18:24.530670Z",
     "iopub.status.idle": "2025-03-18T15:18:25.354233Z",
     "shell.execute_reply": "2025-03-18T15:18:25.352810Z"
    },
    "id": "OMK36TYRrIN2",
    "jupyter": {
     "outputs_hidden": false
    },
    "papermill": {
     "duration": 0.874528,
     "end_time": "2025-03-18T15:18:25.356424",
     "exception": false,
     "start_time": "2025-03-18T15:18:24.481896",
     "status": "completed"
    },
    "tags": []
   },
   "outputs": [],
   "source": [
    "# Drop unnecessary columns\n",
    "drop_columns = [\"DayZero\", \"RegionW\", \"RegionX\", \"RegionY\", \"RegionZ\"]\n",
    "tourney_results_cleaned.drop(columns=drop_columns, inplace=True, errors=\"ignore\")"
   ]
  },
  {
   "cell_type": "code",
   "execution_count": 19,
   "id": "98db6aa6",
   "metadata": {
    "execution": {
     "iopub.execute_input": "2025-03-18T15:18:25.451508Z",
     "iopub.status.busy": "2025-03-18T15:18:25.451100Z",
     "iopub.status.idle": "2025-03-18T15:18:25.463330Z",
     "shell.execute_reply": "2025-03-18T15:18:25.462186Z"
    },
    "papermill": {
     "duration": 0.062544,
     "end_time": "2025-03-18T15:18:25.465464",
     "exception": false,
     "start_time": "2025-03-18T15:18:25.402920",
     "status": "completed"
    },
    "tags": []
   },
   "outputs": [],
   "source": [
    "# woman Drop unnecessary columns\n",
    "wdrop_columns = [\"DayZero\", \"RegionW\", \"RegionX\", \"RegionY\", \"RegionZ\"]\n",
    "wtourney_results_cleaned.drop(columns=drop_columns, inplace=True, errors=\"ignore\")"
   ]
  },
  {
   "cell_type": "code",
   "execution_count": 20,
   "id": "af344ff3",
   "metadata": {
    "_cell_guid": "5114ee60-231c-478d-8d20-cb4fee8af0d5",
    "_uuid": "03e1b526-db42-42cc-b10f-f216445c9179",
    "collapsed": false,
    "execution": {
     "iopub.execute_input": "2025-03-18T15:18:25.552973Z",
     "iopub.status.busy": "2025-03-18T15:18:25.552609Z",
     "iopub.status.idle": "2025-03-18T15:18:25.559122Z",
     "shell.execute_reply": "2025-03-18T15:18:25.557421Z"
    },
    "id": "o1svo3H3rIRB",
    "jupyter": {
     "outputs_hidden": false
    },
    "outputId": "13c6bd1e-46f9-48b0-ddf2-104be182c621",
    "papermill": {
     "duration": 0.052433,
     "end_time": "2025-03-18T15:18:25.561187",
     "exception": false,
     "start_time": "2025-03-18T15:18:25.508754",
     "status": "completed"
    },
    "tags": []
   },
   "outputs": [
    {
     "name": "stdout",
     "output_type": "stream",
     "text": [
      "Columns in tourney_results: Index(['Season', 'DayNum', 'WTeamID', 'WScore', 'LTeamID', 'LScore', 'WLoc',\n",
      "       'NumOT', 'WFGM', 'WFGA', 'WFGM3', 'WFGA3', 'WFTM', 'WFTA', 'WOR', 'WDR',\n",
      "       'WAst', 'WTO', 'WStl', 'WBlk', 'WPF', 'LFGM', 'LFGA', 'LFGM3', 'LFGA3',\n",
      "       'LFTM', 'LFTA', 'LOR', 'LDR', 'LAst', 'LTO', 'LStl', 'LBlk', 'LPF',\n",
      "       'WSeed', 'LSeed', 'Slot', 'StrongSeed', 'WeakSeed', 'GameRound_x',\n",
      "       'GameSlot_x', 'EarlyDayNum_x', 'LateDayNum_x', 'GameRound_y',\n",
      "       'GameSlot_y', 'EarlyDayNum_y', 'LateDayNum_y'],\n",
      "      dtype='object')\n"
     ]
    }
   ],
   "source": [
    "print(\"Columns in tourney_results:\", tourney_results.columns)"
   ]
  },
  {
   "cell_type": "code",
   "execution_count": 21,
   "id": "2d80de3d",
   "metadata": {
    "execution": {
     "iopub.execute_input": "2025-03-18T15:18:25.652842Z",
     "iopub.status.busy": "2025-03-18T15:18:25.652502Z",
     "iopub.status.idle": "2025-03-18T15:18:25.658705Z",
     "shell.execute_reply": "2025-03-18T15:18:25.657219Z"
    },
    "papermill": {
     "duration": 0.054685,
     "end_time": "2025-03-18T15:18:25.660651",
     "exception": false,
     "start_time": "2025-03-18T15:18:25.605966",
     "status": "completed"
    },
    "tags": []
   },
   "outputs": [
    {
     "name": "stdout",
     "output_type": "stream",
     "text": [
      "Columns in wtourney_results: Index(['Season', 'DayNum', 'WTeamID', 'WScore', 'LTeamID', 'LScore', 'WLoc',\n",
      "       'NumOT', 'WFGM', 'WFGA', 'WFGM3', 'WFGA3', 'WFTM', 'WFTA', 'WOR', 'WDR',\n",
      "       'WAst', 'WTO', 'WStl', 'WBlk', 'WPF', 'LFGM', 'LFGA', 'LFGM3', 'LFGA3',\n",
      "       'LFTM', 'LFTA', 'LOR', 'LDR', 'LAst', 'LTO', 'LStl', 'LBlk', 'LPF',\n",
      "       'WSeed', 'LSeed', 'Slot', 'StrongSeed', 'WeakSeed'],\n",
      "      dtype='object')\n"
     ]
    }
   ],
   "source": [
    "#woman\n",
    "print(\"Columns in wtourney_results:\", wtourney_results.columns)"
   ]
  },
  {
   "cell_type": "code",
   "execution_count": 22,
   "id": "f0147cc5",
   "metadata": {
    "_cell_guid": "352bc3fb-d58e-4f12-9773-ea05e40b3d04",
    "_uuid": "ff973e63-ac56-4792-a237-35185aee2250",
    "collapsed": false,
    "execution": {
     "iopub.execute_input": "2025-03-18T15:18:25.752814Z",
     "iopub.status.busy": "2025-03-18T15:18:25.752474Z",
     "iopub.status.idle": "2025-03-18T15:18:28.081284Z",
     "shell.execute_reply": "2025-03-18T15:18:28.079914Z"
    },
    "id": "jwhoTx45rIUp",
    "jupyter": {
     "outputs_hidden": false
    },
    "papermill": {
     "duration": 2.377215,
     "end_time": "2025-03-18T15:18:28.083546",
     "exception": false,
     "start_time": "2025-03-18T15:18:25.706331",
     "status": "completed"
    },
    "tags": []
   },
   "outputs": [],
   "source": [
    "# Extract Region and Seed Number\n",
    "tourney_results_cleaned[\"WRegion\"] = tourney_results_cleaned[\"WSeed\"].str[0]\n",
    "tourney_results_cleaned[\"LRegion\"] = tourney_results_cleaned[\"LSeed\"].str[0]"
   ]
  },
  {
   "cell_type": "code",
   "execution_count": 23,
   "id": "2a72dc13",
   "metadata": {
    "execution": {
     "iopub.execute_input": "2025-03-18T15:18:28.174785Z",
     "iopub.status.busy": "2025-03-18T15:18:28.174439Z",
     "iopub.status.idle": "2025-03-18T15:18:30.351227Z",
     "shell.execute_reply": "2025-03-18T15:18:30.349943Z"
    },
    "papermill": {
     "duration": 2.2245,
     "end_time": "2025-03-18T15:18:30.353447",
     "exception": false,
     "start_time": "2025-03-18T15:18:28.128947",
     "status": "completed"
    },
    "tags": []
   },
   "outputs": [],
   "source": [
    "# Extract Region and Seed Number\n",
    "wtourney_results_cleaned[\"WRegion\"] = tourney_results_cleaned[\"WSeed\"].str[0]\n",
    "wtourney_results_cleaned[\"LRegion\"] = tourney_results_cleaned[\"LSeed\"].str[0]"
   ]
  },
  {
   "cell_type": "code",
   "execution_count": 24,
   "id": "2f999957",
   "metadata": {
    "_cell_guid": "2a4309dd-97e6-4e3b-9389-dc30d8d36c8c",
    "_uuid": "d6f2f2f7-714c-46c3-bdb6-edf6aca9e867",
    "collapsed": false,
    "execution": {
     "iopub.execute_input": "2025-03-18T15:18:30.445243Z",
     "iopub.status.busy": "2025-03-18T15:18:30.444750Z",
     "iopub.status.idle": "2025-03-18T15:18:30.506897Z",
     "shell.execute_reply": "2025-03-18T15:18:30.504859Z"
    },
    "id": "Mf3o2-_idw_Y",
    "jupyter": {
     "outputs_hidden": false
    },
    "outputId": "d4a54f67-6ed4-4eea-d3b6-8a32b2bd18a9",
    "papermill": {
     "duration": 0.110995,
     "end_time": "2025-03-18T15:18:30.509485",
     "exception": false,
     "start_time": "2025-03-18T15:18:30.398490",
     "status": "completed"
    },
    "tags": []
   },
   "outputs": [
    {
     "name": "stdout",
     "output_type": "stream",
     "text": [
      "[nan 'X' 'Z' 'W' 'Y']\n"
     ]
    }
   ],
   "source": [
    "print(tourney_results_cleaned[\"WRegion\"].unique())"
   ]
  },
  {
   "cell_type": "code",
   "execution_count": 25,
   "id": "450c8307",
   "metadata": {
    "_cell_guid": "b98fe038-48d6-4813-a99a-31523b532faa",
    "_uuid": "45981268-ecf5-41ad-a3db-942c014496be",
    "collapsed": false,
    "execution": {
     "iopub.execute_input": "2025-03-18T15:18:30.600939Z",
     "iopub.status.busy": "2025-03-18T15:18:30.600494Z",
     "iopub.status.idle": "2025-03-18T15:18:30.659858Z",
     "shell.execute_reply": "2025-03-18T15:18:30.658434Z"
    },
    "id": "_w_o41LLdxNf",
    "jupyter": {
     "outputs_hidden": false
    },
    "outputId": "d2bb0e9c-a00b-4316-ff71-5c66d1ea5777",
    "papermill": {
     "duration": 0.107713,
     "end_time": "2025-03-18T15:18:30.661732",
     "exception": false,
     "start_time": "2025-03-18T15:18:30.554019",
     "status": "completed"
    },
    "tags": []
   },
   "outputs": [
    {
     "name": "stdout",
     "output_type": "stream",
     "text": [
      "[nan 'X' 'Z' 'W' 'Y']\n"
     ]
    }
   ],
   "source": [
    "print(tourney_results_cleaned[\"LRegion\"].unique())"
   ]
  },
  {
   "cell_type": "code",
   "execution_count": 26,
   "id": "812408d9",
   "metadata": {
    "execution": {
     "iopub.execute_input": "2025-03-18T15:18:30.749801Z",
     "iopub.status.busy": "2025-03-18T15:18:30.749453Z",
     "iopub.status.idle": "2025-03-18T15:18:30.758238Z",
     "shell.execute_reply": "2025-03-18T15:18:30.756986Z"
    },
    "papermill": {
     "duration": 0.055028,
     "end_time": "2025-03-18T15:18:30.760026",
     "exception": false,
     "start_time": "2025-03-18T15:18:30.704998",
     "status": "completed"
    },
    "tags": []
   },
   "outputs": [
    {
     "name": "stdout",
     "output_type": "stream",
     "text": [
      "[nan 'X' 'Z' 'W' 'Y']\n",
      "[nan 'X' 'Z' 'W' 'Y']\n"
     ]
    }
   ],
   "source": [
    "print(wtourney_results_cleaned[\"WRegion\"].unique())\n",
    "print(wtourney_results_cleaned[\"LRegion\"].unique())"
   ]
  },
  {
   "cell_type": "code",
   "execution_count": 27,
   "id": "36124673",
   "metadata": {
    "_cell_guid": "ff83c925-85d3-4a26-916e-7b8fcd3cc94b",
    "_uuid": "28e8b70f-ee4f-4a91-9811-c09ce1cb4dab",
    "collapsed": false,
    "execution": {
     "iopub.execute_input": "2025-03-18T15:18:30.849658Z",
     "iopub.status.busy": "2025-03-18T15:18:30.849321Z",
     "iopub.status.idle": "2025-03-18T15:18:33.246379Z",
     "shell.execute_reply": "2025-03-18T15:18:33.245310Z"
    },
    "id": "uuWlna3DrIZ2",
    "jupyter": {
     "outputs_hidden": false
    },
    "papermill": {
     "duration": 2.446005,
     "end_time": "2025-03-18T15:18:33.248596",
     "exception": false,
     "start_time": "2025-03-18T15:18:30.802591",
     "status": "completed"
    },
    "tags": []
   },
   "outputs": [],
   "source": [
    "# Extract play-in flag before removing a/b\n",
    "tourney_results_cleaned[\"WPlayIn\"] = tourney_results_cleaned[\"WSeed\"].str[-1].isin([\"a\", \"b\"]).astype(int)\n",
    "tourney_results_cleaned[\"LPlayIn\"] = tourney_results_cleaned[\"LSeed\"].str[-1].isin([\"a\", \"b\"]).astype(int)"
   ]
  },
  {
   "cell_type": "code",
   "execution_count": 28,
   "id": "45689779",
   "metadata": {
    "execution": {
     "iopub.execute_input": "2025-03-18T15:18:33.340771Z",
     "iopub.status.busy": "2025-03-18T15:18:33.340352Z",
     "iopub.status.idle": "2025-03-18T15:18:33.393666Z",
     "shell.execute_reply": "2025-03-18T15:18:33.392232Z"
    },
    "papermill": {
     "duration": 0.101771,
     "end_time": "2025-03-18T15:18:33.395624",
     "exception": false,
     "start_time": "2025-03-18T15:18:33.293853",
     "status": "completed"
    },
    "tags": []
   },
   "outputs": [],
   "source": [
    "# Woman Extract play-in flag before removing a/b\n",
    "wtourney_results_cleaned[\"WPlayIn\"] = wtourney_results_cleaned[\"WSeed\"].str[-1].isin([\"a\", \"b\"]).astype(int)\n",
    "wtourney_results_cleaned[\"LPlayIn\"] = wtourney_results_cleaned[\"LSeed\"].str[-1].isin([\"a\", \"b\"]).astype(int)"
   ]
  },
  {
   "cell_type": "code",
   "execution_count": 29,
   "id": "b067dbb8",
   "metadata": {
    "_cell_guid": "e99fae3a-fced-4a29-8fc5-9aeb9464fafc",
    "_uuid": "d659abc8-4755-4a04-8394-9db5cfedfdcf",
    "collapsed": false,
    "execution": {
     "iopub.execute_input": "2025-03-18T15:18:33.484583Z",
     "iopub.status.busy": "2025-03-18T15:18:33.484127Z",
     "iopub.status.idle": "2025-03-18T15:18:33.511777Z",
     "shell.execute_reply": "2025-03-18T15:18:33.510394Z"
    },
    "id": "jRDQOZA_e9m1",
    "jupyter": {
     "outputs_hidden": false
    },
    "outputId": "e9dc4cf9-570f-4731-92a9-f486ce902883",
    "papermill": {
     "duration": 0.074323,
     "end_time": "2025-03-18T15:18:33.513725",
     "exception": false,
     "start_time": "2025-03-18T15:18:33.439402",
     "status": "completed"
    },
    "tags": []
   },
   "outputs": [
    {
     "name": "stdout",
     "output_type": "stream",
     "text": [
      "[0 1]\n"
     ]
    }
   ],
   "source": [
    "print(tourney_results_cleaned[\"WPlayIn\"].unique())"
   ]
  },
  {
   "cell_type": "code",
   "execution_count": 30,
   "id": "817a8684",
   "metadata": {
    "execution": {
     "iopub.execute_input": "2025-03-18T15:18:33.602163Z",
     "iopub.status.busy": "2025-03-18T15:18:33.601691Z",
     "iopub.status.idle": "2025-03-18T15:18:33.608565Z",
     "shell.execute_reply": "2025-03-18T15:18:33.606906Z"
    },
    "papermill": {
     "duration": 0.053617,
     "end_time": "2025-03-18T15:18:33.610645",
     "exception": false,
     "start_time": "2025-03-18T15:18:33.557028",
     "status": "completed"
    },
    "tags": []
   },
   "outputs": [
    {
     "name": "stdout",
     "output_type": "stream",
     "text": [
      "[0 1]\n"
     ]
    }
   ],
   "source": [
    "print(wtourney_results_cleaned[\"WPlayIn\"].unique())"
   ]
  },
  {
   "cell_type": "code",
   "execution_count": 31,
   "id": "5d55ed4d",
   "metadata": {
    "_cell_guid": "4d7a86c8-4d21-4c72-9e0f-26bc852103fa",
    "_uuid": "b7cef6d2-dfe2-4a4e-9c5c-39f18294d949",
    "collapsed": false,
    "execution": {
     "iopub.execute_input": "2025-03-18T15:18:33.703578Z",
     "iopub.status.busy": "2025-03-18T15:18:33.703167Z",
     "iopub.status.idle": "2025-03-18T15:18:38.906987Z",
     "shell.execute_reply": "2025-03-18T15:18:38.905939Z"
    },
    "id": "RN2T9_derIdD",
    "jupyter": {
     "outputs_hidden": false
    },
    "papermill": {
     "duration": 5.252741,
     "end_time": "2025-03-18T15:18:38.909347",
     "exception": false,
     "start_time": "2025-03-18T15:18:33.656606",
     "status": "completed"
    },
    "tags": []
   },
   "outputs": [],
   "source": [
    "# Remove 'a'/'b' before converting to integer\n",
    "tourney_results_cleaned[\"WSeedNum\"] = tourney_results_cleaned[\"WSeed\"].str[1:3].str.replace(r\"[ab]\", \"\", regex=True).astype(float)\n",
    "tourney_results_cleaned[\"LSeedNum\"] = tourney_results_cleaned[\"LSeed\"].str[1:3].str.replace(r\"[ab]\", \"\", regex=True).astype(float)"
   ]
  },
  {
   "cell_type": "code",
   "execution_count": 32,
   "id": "cb2202be",
   "metadata": {
    "execution": {
     "iopub.execute_input": "2025-03-18T15:18:38.999889Z",
     "iopub.status.busy": "2025-03-18T15:18:38.999486Z",
     "iopub.status.idle": "2025-03-18T15:18:39.102594Z",
     "shell.execute_reply": "2025-03-18T15:18:39.101219Z"
    },
    "papermill": {
     "duration": 0.15076,
     "end_time": "2025-03-18T15:18:39.104642",
     "exception": false,
     "start_time": "2025-03-18T15:18:38.953882",
     "status": "completed"
    },
    "tags": []
   },
   "outputs": [],
   "source": [
    "# Remove 'a'/'b' before converting to integer\n",
    "wtourney_results_cleaned[\"WSeedNum\"] = wtourney_results_cleaned[\"WSeed\"].str[1:3].str.replace(r\"[ab]\", \"\", regex=True).astype(float)\n",
    "wtourney_results_cleaned[\"LSeedNum\"] = wtourney_results_cleaned[\"LSeed\"].str[1:3].str.replace(r\"[ab]\", \"\", regex=True).astype(float)"
   ]
  },
  {
   "cell_type": "code",
   "execution_count": 33,
   "id": "13b59211",
   "metadata": {
    "_cell_guid": "2a7b64af-f5f0-4d68-9cd8-f2b6c5892001",
    "_uuid": "f365e82d-f805-403a-91f5-d3615ea8afd3",
    "collapsed": false,
    "execution": {
     "iopub.execute_input": "2025-03-18T15:18:39.192696Z",
     "iopub.status.busy": "2025-03-18T15:18:39.192325Z",
     "iopub.status.idle": "2025-03-18T15:18:39.234442Z",
     "shell.execute_reply": "2025-03-18T15:18:39.233128Z"
    },
    "id": "_Hnv1wTDfHEP",
    "jupyter": {
     "outputs_hidden": false
    },
    "outputId": "42aeee11-d144-4f71-ee0f-3877d5a60caf",
    "papermill": {
     "duration": 0.088192,
     "end_time": "2025-03-18T15:18:39.236535",
     "exception": false,
     "start_time": "2025-03-18T15:18:39.148343",
     "status": "completed"
    },
    "tags": []
   },
   "outputs": [
    {
     "name": "stdout",
     "output_type": "stream",
     "text": [
      "[nan 16.  1. 10. 11.  8.  5.  3.  9.  4.  2.  6. 13. 12.  7. 14. 15.]\n"
     ]
    }
   ],
   "source": [
    "print(tourney_results_cleaned[\"WSeedNum\"].unique())"
   ]
  },
  {
   "cell_type": "code",
   "execution_count": 34,
   "id": "2425f5a9",
   "metadata": {
    "execution": {
     "iopub.execute_input": "2025-03-18T15:18:39.330615Z",
     "iopub.status.busy": "2025-03-18T15:18:39.330254Z",
     "iopub.status.idle": "2025-03-18T15:18:39.337112Z",
     "shell.execute_reply": "2025-03-18T15:18:39.335903Z"
    },
    "papermill": {
     "duration": 0.057469,
     "end_time": "2025-03-18T15:18:39.338986",
     "exception": false,
     "start_time": "2025-03-18T15:18:39.281517",
     "status": "completed"
    },
    "tags": []
   },
   "outputs": [
    {
     "name": "stdout",
     "output_type": "stream",
     "text": [
      "[nan  4.  8.  2.  3.  5.  7.  6.  1. 11. 10. 12.  9. 13. 16.]\n"
     ]
    }
   ],
   "source": [
    "print(wtourney_results_cleaned[\"WSeedNum\"].unique())"
   ]
  },
  {
   "cell_type": "code",
   "execution_count": 35,
   "id": "84c34256",
   "metadata": {
    "_cell_guid": "357c5307-8fb1-4236-956e-e33e9c0f1531",
    "_uuid": "5a1cabdb-a570-45cb-a87a-89a59d80bd47",
    "collapsed": false,
    "execution": {
     "iopub.execute_input": "2025-03-18T15:18:39.431079Z",
     "iopub.status.busy": "2025-03-18T15:18:39.430634Z",
     "iopub.status.idle": "2025-03-18T15:18:40.308115Z",
     "shell.execute_reply": "2025-03-18T15:18:40.306923Z"
    },
    "id": "iwlZPfdhrIfx",
    "jupyter": {
     "outputs_hidden": false
    },
    "papermill": {
     "duration": 0.926112,
     "end_time": "2025-03-18T15:18:40.310476",
     "exception": false,
     "start_time": "2025-03-18T15:18:39.384364",
     "status": "completed"
    },
    "tags": []
   },
   "outputs": [],
   "source": [
    "# Drop old seed columns if no longer needed\n",
    "tourney_results_cleaned.drop(columns=[\"WSeed\", \"LSeed\"], inplace=True)"
   ]
  },
  {
   "cell_type": "code",
   "execution_count": 36,
   "id": "09476da1",
   "metadata": {
    "execution": {
     "iopub.execute_input": "2025-03-18T15:18:40.402670Z",
     "iopub.status.busy": "2025-03-18T15:18:40.402333Z",
     "iopub.status.idle": "2025-03-18T15:18:40.414346Z",
     "shell.execute_reply": "2025-03-18T15:18:40.413250Z"
    },
    "papermill": {
     "duration": 0.060032,
     "end_time": "2025-03-18T15:18:40.416511",
     "exception": false,
     "start_time": "2025-03-18T15:18:40.356479",
     "status": "completed"
    },
    "tags": []
   },
   "outputs": [],
   "source": [
    "# Drop old seed columns if no longer needed\n",
    "wtourney_results_cleaned.drop(columns=[\"WSeed\", \"LSeed\"], inplace=True)"
   ]
  },
  {
   "cell_type": "code",
   "execution_count": 37,
   "id": "85e240ac",
   "metadata": {
    "_cell_guid": "b1c2c8eb-9c1d-4d58-9488-5c93882d0181",
    "_uuid": "9c860233-4657-4671-9e0d-e6f704a0d0d9",
    "collapsed": false,
    "execution": {
     "iopub.execute_input": "2025-03-18T15:18:40.508562Z",
     "iopub.status.busy": "2025-03-18T15:18:40.508106Z",
     "iopub.status.idle": "2025-03-18T15:18:41.322417Z",
     "shell.execute_reply": "2025-03-18T15:18:41.321107Z"
    },
    "id": "rSg8FmTXyK-0",
    "jupyter": {
     "outputs_hidden": false
    },
    "papermill": {
     "duration": 0.863261,
     "end_time": "2025-03-18T15:18:41.324478",
     "exception": false,
     "start_time": "2025-03-18T15:18:40.461217",
     "status": "completed"
    },
    "tags": []
   },
   "outputs": [],
   "source": [
    "columns_to_drop = ['StrongSeed', 'WeakSeed', 'GameRound_x', 'GameSlot_x', 'EarlyDayNum_x', 'LateDayNum_x',\n",
    "                   'GameRound_y', 'GameSlot_y', 'EarlyDayNum_y', 'LateDayNum_y']\n",
    "tourney_results_cleaned.drop(columns=columns_to_drop, inplace=True, errors=\"ignore\")"
   ]
  },
  {
   "cell_type": "code",
   "execution_count": 38,
   "id": "58db66e4",
   "metadata": {
    "execution": {
     "iopub.execute_input": "2025-03-18T15:18:41.413928Z",
     "iopub.status.busy": "2025-03-18T15:18:41.413525Z",
     "iopub.status.idle": "2025-03-18T15:18:41.429296Z",
     "shell.execute_reply": "2025-03-18T15:18:41.427990Z"
    },
    "papermill": {
     "duration": 0.062879,
     "end_time": "2025-03-18T15:18:41.431584",
     "exception": false,
     "start_time": "2025-03-18T15:18:41.368705",
     "status": "completed"
    },
    "tags": []
   },
   "outputs": [],
   "source": [
    "wcolumns_to_drop = ['StrongSeed', 'WeakSeed', 'GameRound_x', 'GameSlot_x', 'EarlyDayNum_x', 'LateDayNum_x',\n",
    "                   'GameRound_y', 'GameSlot_y', 'EarlyDayNum_y', 'LateDayNum_y']\n",
    "wtourney_results_cleaned.drop(columns=columns_to_drop, inplace=True, errors=\"ignore\")"
   ]
  },
  {
   "cell_type": "code",
   "execution_count": 39,
   "id": "e3d02198",
   "metadata": {
    "_cell_guid": "0df783cb-4b9d-444f-987b-9acf86e1897d",
    "_uuid": "61999848-48d4-48c0-bfa3-4250fa70aa1f",
    "collapsed": false,
    "execution": {
     "iopub.execute_input": "2025-03-18T15:18:41.522221Z",
     "iopub.status.busy": "2025-03-18T15:18:41.521754Z",
     "iopub.status.idle": "2025-03-18T15:18:41.528552Z",
     "shell.execute_reply": "2025-03-18T15:18:41.527198Z"
    },
    "id": "xPtNZf1MyLCv",
    "jupyter": {
     "outputs_hidden": false
    },
    "outputId": "d3733d24-b3a7-4927-fb1c-8e81fc8146fa",
    "papermill": {
     "duration": 0.053863,
     "end_time": "2025-03-18T15:18:41.530470",
     "exception": false,
     "start_time": "2025-03-18T15:18:41.476607",
     "status": "completed"
    },
    "tags": []
   },
   "outputs": [
    {
     "name": "stdout",
     "output_type": "stream",
     "text": [
      "Updated Columns: Index(['Season', 'DayNum', 'WTeamID', 'WScore', 'LTeamID', 'LScore', 'WLoc',\n",
      "       'NumOT', 'WFGM', 'WFGA', 'WFGM3', 'WFGA3', 'WFTM', 'WFTA', 'WOR', 'WDR',\n",
      "       'WAst', 'WTO', 'WStl', 'WBlk', 'WPF', 'LFGM', 'LFGA', 'LFGM3', 'LFGA3',\n",
      "       'LFTM', 'LFTA', 'LOR', 'LDR', 'LAst', 'LTO', 'LStl', 'LBlk', 'LPF',\n",
      "       'Slot', 'WRegion', 'LRegion', 'WPlayIn', 'LPlayIn', 'WSeedNum',\n",
      "       'LSeedNum'],\n",
      "      dtype='object')\n"
     ]
    }
   ],
   "source": [
    "# Display cleaned columns\n",
    "print(\"Updated Columns:\", tourney_results_cleaned.columns)"
   ]
  },
  {
   "cell_type": "code",
   "execution_count": 40,
   "id": "4ecd7fda",
   "metadata": {
    "execution": {
     "iopub.execute_input": "2025-03-18T15:18:41.620390Z",
     "iopub.status.busy": "2025-03-18T15:18:41.619910Z",
     "iopub.status.idle": "2025-03-18T15:18:41.626826Z",
     "shell.execute_reply": "2025-03-18T15:18:41.625417Z"
    },
    "papermill": {
     "duration": 0.053254,
     "end_time": "2025-03-18T15:18:41.628788",
     "exception": false,
     "start_time": "2025-03-18T15:18:41.575534",
     "status": "completed"
    },
    "tags": []
   },
   "outputs": [
    {
     "name": "stdout",
     "output_type": "stream",
     "text": [
      "Updated Columns: Index(['Season', 'DayNum', 'WTeamID', 'WScore', 'LTeamID', 'LScore', 'WLoc',\n",
      "       'NumOT', 'WFGM', 'WFGA', 'WFGM3', 'WFGA3', 'WFTM', 'WFTA', 'WOR', 'WDR',\n",
      "       'WAst', 'WTO', 'WStl', 'WBlk', 'WPF', 'LFGM', 'LFGA', 'LFGM3', 'LFGA3',\n",
      "       'LFTM', 'LFTA', 'LOR', 'LDR', 'LAst', 'LTO', 'LStl', 'LBlk', 'LPF',\n",
      "       'Slot', 'WRegion', 'LRegion', 'WPlayIn', 'LPlayIn', 'WSeedNum',\n",
      "       'LSeedNum'],\n",
      "      dtype='object')\n"
     ]
    }
   ],
   "source": [
    "# Display cleaned columns\n",
    "print(\"Updated Columns:\", wtourney_results_cleaned.columns)"
   ]
  },
  {
   "cell_type": "code",
   "execution_count": 41,
   "id": "60afdde1",
   "metadata": {
    "_cell_guid": "2c446512-b609-455b-9b16-67e3ed825778",
    "_uuid": "c1f2f53d-8121-4c17-9d8e-e387c268eee7",
    "collapsed": false,
    "execution": {
     "iopub.execute_input": "2025-03-18T15:18:41.717256Z",
     "iopub.status.busy": "2025-03-18T15:18:41.716707Z",
     "iopub.status.idle": "2025-03-18T15:18:41.741942Z",
     "shell.execute_reply": "2025-03-18T15:18:41.740016Z"
    },
    "id": "oaNr61pLyLGQ",
    "jupyter": {
     "outputs_hidden": false
    },
    "outputId": "09110030-4ad3-4e25-e9ae-6418b0990424",
    "papermill": {
     "duration": 0.071813,
     "end_time": "2025-03-18T15:18:41.744137",
     "exception": false,
     "start_time": "2025-03-18T15:18:41.672324",
     "status": "completed"
    },
    "tags": []
   },
   "outputs": [
    {
     "name": "stdout",
     "output_type": "stream",
     "text": [
      "   Season  DayNum  WTeamID  WScore  LTeamID  LScore WLoc  NumOT  WFGM  WFGA  \\\n",
      "0    1985     NaN      NaN     NaN      NaN     NaN  NaN    NaN   NaN   NaN   \n",
      "1    1985     NaN      NaN     NaN      NaN     NaN  NaN    NaN   NaN   NaN   \n",
      "2    1985     NaN      NaN     NaN      NaN     NaN  NaN    NaN   NaN   NaN   \n",
      "3    1985     NaN      NaN     NaN      NaN     NaN  NaN    NaN   NaN   NaN   \n",
      "4    1985     NaN      NaN     NaN      NaN     NaN  NaN    NaN   NaN   NaN   \n",
      "\n",
      "   ...  LStl  LBlk  LPF  Slot  WRegion  LRegion  WPlayIn  LPlayIn  WSeedNum  \\\n",
      "0  ...   NaN   NaN  NaN  R1W1      NaN      NaN        0        0       NaN   \n",
      "1  ...   NaN   NaN  NaN  R1W2      NaN      NaN        0        0       NaN   \n",
      "2  ...   NaN   NaN  NaN  R1W3      NaN      NaN        0        0       NaN   \n",
      "3  ...   NaN   NaN  NaN  R1W4      NaN      NaN        0        0       NaN   \n",
      "4  ...   NaN   NaN  NaN  R1W5      NaN      NaN        0        0       NaN   \n",
      "\n",
      "   LSeedNum  \n",
      "0       NaN  \n",
      "1       NaN  \n",
      "2       NaN  \n",
      "3       NaN  \n",
      "4       NaN  \n",
      "\n",
      "[5 rows x 41 columns]\n"
     ]
    },
    {
     "name": "stderr",
     "output_type": "stream",
     "text": [
      "/usr/local/lib/python3.10/dist-packages/pandas/io/formats/format.py:1458: RuntimeWarning: invalid value encountered in greater\n",
      "  has_large_values = (abs_vals > 1e6).any()\n",
      "/usr/local/lib/python3.10/dist-packages/pandas/io/formats/format.py:1459: RuntimeWarning: invalid value encountered in less\n",
      "  has_small_values = ((abs_vals < 10 ** (-self.digits)) & (abs_vals > 0)).any()\n",
      "/usr/local/lib/python3.10/dist-packages/pandas/io/formats/format.py:1459: RuntimeWarning: invalid value encountered in greater\n",
      "  has_small_values = ((abs_vals < 10 ** (-self.digits)) & (abs_vals > 0)).any()\n"
     ]
    }
   ],
   "source": [
    "print(tourney_results_cleaned.head())"
   ]
  },
  {
   "cell_type": "code",
   "execution_count": 42,
   "id": "5a4e88f7",
   "metadata": {
    "execution": {
     "iopub.execute_input": "2025-03-18T15:18:41.840453Z",
     "iopub.status.busy": "2025-03-18T15:18:41.840085Z",
     "iopub.status.idle": "2025-03-18T15:18:41.855830Z",
     "shell.execute_reply": "2025-03-18T15:18:41.854210Z"
    },
    "papermill": {
     "duration": 0.067871,
     "end_time": "2025-03-18T15:18:41.857718",
     "exception": false,
     "start_time": "2025-03-18T15:18:41.789847",
     "status": "completed"
    },
    "tags": []
   },
   "outputs": [
    {
     "name": "stdout",
     "output_type": "stream",
     "text": [
      "   Season  DayNum  WTeamID  WScore  LTeamID  LScore WLoc  NumOT  WFGM  WFGA  \\\n",
      "0    1998     NaN      NaN     NaN      NaN     NaN  NaN    NaN   NaN   NaN   \n",
      "1    1998     NaN      NaN     NaN      NaN     NaN  NaN    NaN   NaN   NaN   \n",
      "2    1998     NaN      NaN     NaN      NaN     NaN  NaN    NaN   NaN   NaN   \n",
      "3    1998     NaN      NaN     NaN      NaN     NaN  NaN    NaN   NaN   NaN   \n",
      "4    1998     NaN      NaN     NaN      NaN     NaN  NaN    NaN   NaN   NaN   \n",
      "\n",
      "   ...  LStl  LBlk  LPF  Slot  WRegion  LRegion  WPlayIn  LPlayIn  WSeedNum  \\\n",
      "0  ...   NaN   NaN  NaN  R1W1      NaN      NaN        0        0       NaN   \n",
      "1  ...   NaN   NaN  NaN  R1W2      NaN      NaN        0        0       NaN   \n",
      "2  ...   NaN   NaN  NaN  R1W3      NaN      NaN        0        0       NaN   \n",
      "3  ...   NaN   NaN  NaN  R1W4      NaN      NaN        0        0       NaN   \n",
      "4  ...   NaN   NaN  NaN  R1W5      NaN      NaN        0        0       NaN   \n",
      "\n",
      "   LSeedNum  \n",
      "0       NaN  \n",
      "1       NaN  \n",
      "2       NaN  \n",
      "3       NaN  \n",
      "4       NaN  \n",
      "\n",
      "[5 rows x 41 columns]\n"
     ]
    },
    {
     "name": "stderr",
     "output_type": "stream",
     "text": [
      "/usr/local/lib/python3.10/dist-packages/pandas/io/formats/format.py:1458: RuntimeWarning: invalid value encountered in greater\n",
      "  has_large_values = (abs_vals > 1e6).any()\n",
      "/usr/local/lib/python3.10/dist-packages/pandas/io/formats/format.py:1459: RuntimeWarning: invalid value encountered in less\n",
      "  has_small_values = ((abs_vals < 10 ** (-self.digits)) & (abs_vals > 0)).any()\n",
      "/usr/local/lib/python3.10/dist-packages/pandas/io/formats/format.py:1459: RuntimeWarning: invalid value encountered in greater\n",
      "  has_small_values = ((abs_vals < 10 ** (-self.digits)) & (abs_vals > 0)).any()\n"
     ]
    }
   ],
   "source": [
    "print(wtourney_results_cleaned.head())"
   ]
  },
  {
   "cell_type": "code",
   "execution_count": 43,
   "id": "7015851a",
   "metadata": {
    "_cell_guid": "5c5270ca-40f3-4f93-8a3a-146ecbb02343",
    "_uuid": "c9c89dc9-4a9a-484f-965d-e417fa5d7246",
    "collapsed": false,
    "execution": {
     "iopub.execute_input": "2025-03-18T15:18:41.954409Z",
     "iopub.status.busy": "2025-03-18T15:18:41.953995Z",
     "iopub.status.idle": "2025-03-18T15:18:41.967638Z",
     "shell.execute_reply": "2025-03-18T15:18:41.966540Z"
    },
    "id": "Uaxp_6CHyLJe",
    "jupyter": {
     "outputs_hidden": false
    },
    "papermill": {
     "duration": 0.063228,
     "end_time": "2025-03-18T15:18:41.969620",
     "exception": false,
     "start_time": "2025-03-18T15:18:41.906392",
     "status": "completed"
    },
    "tags": []
   },
   "outputs": [],
   "source": [
    "# Load Compact Results\n",
    "tourney_compact = pd.read_csv(os.path.join(base_path, \"MNCAATourneyCompactResults.csv\"))"
   ]
  },
  {
   "cell_type": "code",
   "execution_count": 44,
   "id": "88fea292",
   "metadata": {
    "execution": {
     "iopub.execute_input": "2025-03-18T15:18:42.061779Z",
     "iopub.status.busy": "2025-03-18T15:18:42.061353Z",
     "iopub.status.idle": "2025-03-18T15:18:42.072661Z",
     "shell.execute_reply": "2025-03-18T15:18:42.071499Z"
    },
    "papermill": {
     "duration": 0.059436,
     "end_time": "2025-03-18T15:18:42.074685",
     "exception": false,
     "start_time": "2025-03-18T15:18:42.015249",
     "status": "completed"
    },
    "tags": []
   },
   "outputs": [],
   "source": [
    "# Load Compact Results\n",
    "wtourney_compact = pd.read_csv(os.path.join(base_path, \"WNCAATourneyCompactResults.csv\"))"
   ]
  },
  {
   "cell_type": "code",
   "execution_count": 45,
   "id": "fcfd1326",
   "metadata": {
    "_cell_guid": "3154fd28-2a1f-4d7a-8857-527eb18dc788",
    "_uuid": "0dad9594-5a37-4da2-be51-b489a48a9b77",
    "collapsed": false,
    "execution": {
     "iopub.execute_input": "2025-03-18T15:18:42.166821Z",
     "iopub.status.busy": "2025-03-18T15:18:42.166381Z",
     "iopub.status.idle": "2025-03-18T15:18:42.912367Z",
     "shell.execute_reply": "2025-03-18T15:18:42.911279Z"
    },
    "id": "tcXDVyzzyLNV",
    "jupyter": {
     "outputs_hidden": false
    },
    "papermill": {
     "duration": 0.793729,
     "end_time": "2025-03-18T15:18:42.914539",
     "exception": false,
     "start_time": "2025-03-18T15:18:42.120810",
     "status": "completed"
    },
    "tags": []
   },
   "outputs": [],
   "source": [
    "# Merge with existing results (fill in missing older data)\n",
    "tourney_results = pd.concat([tourney_compact, tourney_results_cleaned], ignore_index=True)"
   ]
  },
  {
   "cell_type": "code",
   "execution_count": 46,
   "id": "ab610ce8",
   "metadata": {
    "execution": {
     "iopub.execute_input": "2025-03-18T15:18:43.101102Z",
     "iopub.status.busy": "2025-03-18T15:18:43.100704Z",
     "iopub.status.idle": "2025-03-18T15:18:43.119258Z",
     "shell.execute_reply": "2025-03-18T15:18:43.117803Z"
    },
    "papermill": {
     "duration": 0.162345,
     "end_time": "2025-03-18T15:18:43.121698",
     "exception": false,
     "start_time": "2025-03-18T15:18:42.959353",
     "status": "completed"
    },
    "tags": []
   },
   "outputs": [],
   "source": [
    "# Woman Merge with existing results (fill in missing older data)\n",
    "wtourney_results = pd.concat([wtourney_compact, wtourney_results_cleaned], ignore_index=True)"
   ]
  },
  {
   "cell_type": "code",
   "execution_count": 47,
   "id": "8cc0f181",
   "metadata": {
    "_cell_guid": "ec55befe-a410-4334-b161-b989480a22f1",
    "_uuid": "12d2e1ce-1461-4358-a989-2899969c1383",
    "collapsed": false,
    "execution": {
     "iopub.execute_input": "2025-03-18T15:18:43.214265Z",
     "iopub.status.busy": "2025-03-18T15:18:43.213814Z",
     "iopub.status.idle": "2025-03-18T15:18:43.239914Z",
     "shell.execute_reply": "2025-03-18T15:18:43.238268Z"
    },
    "id": "OGObvKo4yLQm",
    "jupyter": {
     "outputs_hidden": false
    },
    "outputId": "815646a2-6693-48a7-9545-93986b8527f9",
    "papermill": {
     "duration": 0.074673,
     "end_time": "2025-03-18T15:18:43.242143",
     "exception": false,
     "start_time": "2025-03-18T15:18:43.167470",
     "status": "completed"
    },
    "tags": []
   },
   "outputs": [
    {
     "name": "stdout",
     "output_type": "stream",
     "text": [
      "   Season  DayNum  WTeamID  WScore  LTeamID  LScore WLoc  NumOT  WFGM  WFGA  \\\n",
      "0    1985   136.0   1116.0    63.0   1234.0    54.0    N    0.0   NaN   NaN   \n",
      "1    1985   136.0   1120.0    59.0   1345.0    58.0    N    0.0   NaN   NaN   \n",
      "2    1985   136.0   1207.0    68.0   1250.0    43.0    N    0.0   NaN   NaN   \n",
      "3    1985   136.0   1229.0    58.0   1425.0    55.0    N    0.0   NaN   NaN   \n",
      "4    1985   136.0   1242.0    49.0   1325.0    38.0    N    0.0   NaN   NaN   \n",
      "\n",
      "   ...  LStl  LBlk  LPF  Slot  WRegion  LRegion  WPlayIn  LPlayIn  WSeedNum  \\\n",
      "0  ...   NaN   NaN  NaN   NaN      NaN      NaN      NaN      NaN       NaN   \n",
      "1  ...   NaN   NaN  NaN   NaN      NaN      NaN      NaN      NaN       NaN   \n",
      "2  ...   NaN   NaN  NaN   NaN      NaN      NaN      NaN      NaN       NaN   \n",
      "3  ...   NaN   NaN  NaN   NaN      NaN      NaN      NaN      NaN       NaN   \n",
      "4  ...   NaN   NaN  NaN   NaN      NaN      NaN      NaN      NaN       NaN   \n",
      "\n",
      "   LSeedNum  \n",
      "0       NaN  \n",
      "1       NaN  \n",
      "2       NaN  \n",
      "3       NaN  \n",
      "4       NaN  \n",
      "\n",
      "[5 rows x 41 columns]\n",
      "1985 to 2025\n"
     ]
    },
    {
     "name": "stderr",
     "output_type": "stream",
     "text": [
      "/usr/local/lib/python3.10/dist-packages/pandas/io/formats/format.py:1458: RuntimeWarning: invalid value encountered in greater\n",
      "  has_large_values = (abs_vals > 1e6).any()\n",
      "/usr/local/lib/python3.10/dist-packages/pandas/io/formats/format.py:1459: RuntimeWarning: invalid value encountered in less\n",
      "  has_small_values = ((abs_vals < 10 ** (-self.digits)) & (abs_vals > 0)).any()\n",
      "/usr/local/lib/python3.10/dist-packages/pandas/io/formats/format.py:1459: RuntimeWarning: invalid value encountered in greater\n",
      "  has_small_values = ((abs_vals < 10 ** (-self.digits)) & (abs_vals > 0)).any()\n"
     ]
    }
   ],
   "source": [
    "# Display updated dataset\n",
    "print(tourney_results.head())  # Check first few rows\n",
    "print(tourney_results['Season'].min(), \"to\", tourney_results['Season'].max())  # Check season range"
   ]
  },
  {
   "cell_type": "code",
   "execution_count": 48,
   "id": "603c0335",
   "metadata": {
    "execution": {
     "iopub.execute_input": "2025-03-18T15:18:43.337630Z",
     "iopub.status.busy": "2025-03-18T15:18:43.337216Z",
     "iopub.status.idle": "2025-03-18T15:18:43.356627Z",
     "shell.execute_reply": "2025-03-18T15:18:43.355063Z"
    },
    "papermill": {
     "duration": 0.070021,
     "end_time": "2025-03-18T15:18:43.358887",
     "exception": false,
     "start_time": "2025-03-18T15:18:43.288866",
     "status": "completed"
    },
    "tags": []
   },
   "outputs": [
    {
     "name": "stdout",
     "output_type": "stream",
     "text": [
      "   Season  DayNum  WTeamID  WScore  LTeamID  LScore WLoc  NumOT  WFGM  WFGA  \\\n",
      "0    1998   137.0   3104.0    94.0   3422.0    46.0    H    0.0   NaN   NaN   \n",
      "1    1998   137.0   3112.0    75.0   3365.0    63.0    H    0.0   NaN   NaN   \n",
      "2    1998   137.0   3163.0    93.0   3193.0    52.0    H    0.0   NaN   NaN   \n",
      "3    1998   137.0   3198.0    59.0   3266.0    45.0    H    0.0   NaN   NaN   \n",
      "4    1998   137.0   3203.0    74.0   3208.0    72.0    A    0.0   NaN   NaN   \n",
      "\n",
      "   ...  LStl  LBlk  LPF  Slot  WRegion  LRegion  WPlayIn  LPlayIn  WSeedNum  \\\n",
      "0  ...   NaN   NaN  NaN   NaN      NaN      NaN      NaN      NaN       NaN   \n",
      "1  ...   NaN   NaN  NaN   NaN      NaN      NaN      NaN      NaN       NaN   \n",
      "2  ...   NaN   NaN  NaN   NaN      NaN      NaN      NaN      NaN       NaN   \n",
      "3  ...   NaN   NaN  NaN   NaN      NaN      NaN      NaN      NaN       NaN   \n",
      "4  ...   NaN   NaN  NaN   NaN      NaN      NaN      NaN      NaN       NaN   \n",
      "\n",
      "   LSeedNum  \n",
      "0       NaN  \n",
      "1       NaN  \n",
      "2       NaN  \n",
      "3       NaN  \n",
      "4       NaN  \n",
      "\n",
      "[5 rows x 41 columns]\n",
      "1998 to 2025\n"
     ]
    },
    {
     "name": "stderr",
     "output_type": "stream",
     "text": [
      "/usr/local/lib/python3.10/dist-packages/pandas/io/formats/format.py:1458: RuntimeWarning: invalid value encountered in greater\n",
      "  has_large_values = (abs_vals > 1e6).any()\n",
      "/usr/local/lib/python3.10/dist-packages/pandas/io/formats/format.py:1459: RuntimeWarning: invalid value encountered in less\n",
      "  has_small_values = ((abs_vals < 10 ** (-self.digits)) & (abs_vals > 0)).any()\n",
      "/usr/local/lib/python3.10/dist-packages/pandas/io/formats/format.py:1459: RuntimeWarning: invalid value encountered in greater\n",
      "  has_small_values = ((abs_vals < 10 ** (-self.digits)) & (abs_vals > 0)).any()\n"
     ]
    }
   ],
   "source": [
    "# Display updated dataset\n",
    "print(wtourney_results.head())  # Check first few rows\n",
    "print(wtourney_results['Season'].min(), \"to\", wtourney_results['Season'].max())  # Check season range"
   ]
  },
  {
   "cell_type": "code",
   "execution_count": 49,
   "id": "0d287ef6",
   "metadata": {
    "_cell_guid": "a28b04fd-f5aa-4443-8afa-80f6f6427a68",
    "_uuid": "47fea568-a743-4e34-b5ba-89f308494828",
    "collapsed": false,
    "execution": {
     "iopub.execute_input": "2025-03-18T15:18:43.453431Z",
     "iopub.status.busy": "2025-03-18T15:18:43.452969Z",
     "iopub.status.idle": "2025-03-18T15:18:43.458329Z",
     "shell.execute_reply": "2025-03-18T15:18:43.457076Z"
    },
    "id": "LpACaNN8yLX2",
    "jupyter": {
     "outputs_hidden": false
    },
    "papermill": {
     "duration": 0.054981,
     "end_time": "2025-03-18T15:18:43.460504",
     "exception": false,
     "start_time": "2025-03-18T15:18:43.405523",
     "status": "completed"
    },
    "tags": []
   },
   "outputs": [],
   "source": [
    "# List of numeric columns to fill\n",
    "numeric_columns = [\"WFGM\", \"WFGA\", \"WFGM3\", \"WFGA3\", \"WFTM\", \"WFTA\", \"WOR\", \"WDR\",\n",
    "                   \"WAst\", \"WTO\", \"WStl\", \"WBlk\", \"WPF\", \"LFGM\", \"LFGA\", \"LFGM3\",\n",
    "                   \"LFGA3\", \"LFTM\", \"LFTA\", \"LOR\", \"LDR\", \"LAst\", \"LTO\", \"LStl\", \"LBlk\", \"LPF\"]"
   ]
  },
  {
   "cell_type": "code",
   "execution_count": 50,
   "id": "a325c13f",
   "metadata": {
    "execution": {
     "iopub.execute_input": "2025-03-18T15:18:43.552954Z",
     "iopub.status.busy": "2025-03-18T15:18:43.552490Z",
     "iopub.status.idle": "2025-03-18T15:18:43.558161Z",
     "shell.execute_reply": "2025-03-18T15:18:43.556851Z"
    },
    "papermill": {
     "duration": 0.053946,
     "end_time": "2025-03-18T15:18:43.559893",
     "exception": false,
     "start_time": "2025-03-18T15:18:43.505947",
     "status": "completed"
    },
    "tags": []
   },
   "outputs": [],
   "source": [
    "#Woman List of numeric columns to fill\n",
    "wnumeric_columns = [\"WFGM\", \"WFGA\", \"WFGM3\", \"WFGA3\", \"WFTM\", \"WFTA\", \"WOR\", \"WDR\",\n",
    "                   \"WAst\", \"WTO\", \"WStl\", \"WBlk\", \"WPF\", \"LFGM\", \"LFGA\", \"LFGM3\",\n",
    "                   \"LFGA3\", \"LFTM\", \"LFTA\", \"LOR\", \"LDR\", \"LAst\", \"LTO\", \"LStl\", \"LBlk\", \"LPF\"]"
   ]
  },
  {
   "cell_type": "code",
   "execution_count": 51,
   "id": "5099d4bc",
   "metadata": {
    "_cell_guid": "21b8e8eb-de80-4446-a050-cef3975143c8",
    "_uuid": "783eab60-eb73-4b54-bb1e-f7e0762a4c59",
    "collapsed": false,
    "execution": {
     "iopub.execute_input": "2025-03-18T15:18:43.652495Z",
     "iopub.status.busy": "2025-03-18T15:18:43.651987Z",
     "iopub.status.idle": "2025-03-18T15:18:45.322830Z",
     "shell.execute_reply": "2025-03-18T15:18:45.321541Z"
    },
    "id": "vz0qZyXa6QDZ",
    "jupyter": {
     "outputs_hidden": false
    },
    "papermill": {
     "duration": 1.719465,
     "end_time": "2025-03-18T15:18:45.324750",
     "exception": false,
     "start_time": "2025-03-18T15:18:43.605285",
     "status": "completed"
    },
    "tags": []
   },
   "outputs": [],
   "source": [
    "# Compute average values using only 2003+ data\n",
    "avg_stats = tourney_results[tourney_results[\"Season\"] >= 2003][numeric_columns].mean()"
   ]
  },
  {
   "cell_type": "code",
   "execution_count": 52,
   "id": "e286a2db",
   "metadata": {
    "execution": {
     "iopub.execute_input": "2025-03-18T15:18:45.414783Z",
     "iopub.status.busy": "2025-03-18T15:18:45.414322Z",
     "iopub.status.idle": "2025-03-18T15:18:45.447736Z",
     "shell.execute_reply": "2025-03-18T15:18:45.446412Z"
    },
    "papermill": {
     "duration": 0.08108,
     "end_time": "2025-03-18T15:18:45.449839",
     "exception": false,
     "start_time": "2025-03-18T15:18:45.368759",
     "status": "completed"
    },
    "tags": []
   },
   "outputs": [],
   "source": [
    "#Woman Compute average values using only 2003+ data\n",
    "wavg_stats = wtourney_results[wtourney_results[\"Season\"] >= 2003][wnumeric_columns].mean()"
   ]
  },
  {
   "cell_type": "code",
   "execution_count": 53,
   "id": "b6770f50",
   "metadata": {
    "_cell_guid": "dd3c259e-3438-4e3a-bd9a-7a90798a4444",
    "_uuid": "aa564cae-e34c-43b6-a48a-7ce3fcea85da",
    "collapsed": false,
    "execution": {
     "iopub.execute_input": "2025-03-18T15:18:45.539935Z",
     "iopub.status.busy": "2025-03-18T15:18:45.539490Z",
     "iopub.status.idle": "2025-03-18T15:18:47.176185Z",
     "shell.execute_reply": "2025-03-18T15:18:47.175036Z"
    },
    "id": "rjD9mdZ76QGz",
    "jupyter": {
     "outputs_hidden": false
    },
    "papermill": {
     "duration": 1.68427,
     "end_time": "2025-03-18T15:18:47.178406",
     "exception": false,
     "start_time": "2025-03-18T15:18:45.494136",
     "status": "completed"
    },
    "tags": []
   },
   "outputs": [],
   "source": [
    "# Fill missing values with computed averages\n",
    "tourney_results[numeric_columns] = tourney_results[numeric_columns].fillna(avg_stats)"
   ]
  },
  {
   "cell_type": "code",
   "execution_count": 54,
   "id": "2a8f60ad",
   "metadata": {
    "execution": {
     "iopub.execute_input": "2025-03-18T15:18:47.273115Z",
     "iopub.status.busy": "2025-03-18T15:18:47.272700Z",
     "iopub.status.idle": "2025-03-18T15:18:47.309249Z",
     "shell.execute_reply": "2025-03-18T15:18:47.308022Z"
    },
    "papermill": {
     "duration": 0.086328,
     "end_time": "2025-03-18T15:18:47.311581",
     "exception": false,
     "start_time": "2025-03-18T15:18:47.225253",
     "status": "completed"
    },
    "tags": []
   },
   "outputs": [],
   "source": [
    "# Fill missing values with computed averages\n",
    "wtourney_results[wnumeric_columns] = wtourney_results[wnumeric_columns].fillna(wavg_stats)"
   ]
  },
  {
   "cell_type": "code",
   "execution_count": 55,
   "id": "c83a31af",
   "metadata": {
    "_cell_guid": "9d463766-7503-451a-b231-601a1c286dbd",
    "_uuid": "75897de4-2ca3-4bff-8753-7c7f05a3f40f",
    "collapsed": false,
    "execution": {
     "iopub.execute_input": "2025-03-18T15:18:47.408672Z",
     "iopub.status.busy": "2025-03-18T15:18:47.408287Z",
     "iopub.status.idle": "2025-03-18T15:18:48.619648Z",
     "shell.execute_reply": "2025-03-18T15:18:48.618523Z"
    },
    "id": "3UwCvdWl6QKi",
    "jupyter": {
     "outputs_hidden": false
    },
    "papermill": {
     "duration": 1.262641,
     "end_time": "2025-03-18T15:18:48.621906",
     "exception": false,
     "start_time": "2025-03-18T15:18:47.359265",
     "status": "completed"
    },
    "tags": []
   },
   "outputs": [],
   "source": [
    "# Fill categorical columns with the most common value\n",
    "categorical_columns = [\"WLoc\", \"WRegion\", \"LRegion\"]\n",
    "for col in categorical_columns:\n",
    "    mode_value = tourney_results[col].mode()[0]  # Get the most common value\n",
    "    tourney_results[col] = tourney_results[col].fillna(mode_value)"
   ]
  },
  {
   "cell_type": "code",
   "execution_count": 56,
   "id": "3d7bc555",
   "metadata": {
    "execution": {
     "iopub.execute_input": "2025-03-18T15:18:48.715848Z",
     "iopub.status.busy": "2025-03-18T15:18:48.715520Z",
     "iopub.status.idle": "2025-03-18T15:18:48.745738Z",
     "shell.execute_reply": "2025-03-18T15:18:48.744632Z"
    },
    "papermill": {
     "duration": 0.080207,
     "end_time": "2025-03-18T15:18:48.747950",
     "exception": false,
     "start_time": "2025-03-18T15:18:48.667743",
     "status": "completed"
    },
    "tags": []
   },
   "outputs": [],
   "source": [
    "# Fill categorical columns with the most common value\n",
    "wcategorical_columns = [\"WLoc\", \"WRegion\", \"LRegion\"]\n",
    "for col in wcategorical_columns:\n",
    "    wmode_value = wtourney_results[col].mode()[0]  # Get the most common value\n",
    "    wtourney_results[col] = wtourney_results[col].fillna(wmode_value)"
   ]
  },
  {
   "cell_type": "code",
   "execution_count": 57,
   "id": "1e4ebde4",
   "metadata": {
    "_cell_guid": "e94dfe91-28f6-43d4-8f4a-fa7c654d4810",
    "_uuid": "d398abcb-c07a-436f-8ed4-aa11132e9df1",
    "collapsed": false,
    "execution": {
     "iopub.execute_input": "2025-03-18T15:18:48.839498Z",
     "iopub.status.busy": "2025-03-18T15:18:48.839147Z",
     "iopub.status.idle": "2025-03-18T15:18:49.163224Z",
     "shell.execute_reply": "2025-03-18T15:18:49.162134Z"
    },
    "id": "2cQwQIFz6QOI",
    "jupyter": {
     "outputs_hidden": false
    },
    "papermill": {
     "duration": 0.373428,
     "end_time": "2025-03-18T15:18:49.165606",
     "exception": false,
     "start_time": "2025-03-18T15:18:48.792178",
     "status": "completed"
    },
    "tags": []
   },
   "outputs": [],
   "source": [
    "#Fill Missing Slot, WPlayIn, and LPlayIn with 0\n",
    "tourney_results[\"Slot\"] = tourney_results[\"Slot\"].fillna(\"Unknown\")\n",
    "tourney_results[\"WPlayIn\"] = tourney_results[\"WPlayIn\"].fillna(0).astype(int)\n",
    "tourney_results[\"LPlayIn\"] = tourney_results[\"LPlayIn\"].fillna(0).astype(int)"
   ]
  },
  {
   "cell_type": "code",
   "execution_count": 58,
   "id": "cb5b3810",
   "metadata": {
    "execution": {
     "iopub.execute_input": "2025-03-18T15:18:49.259492Z",
     "iopub.status.busy": "2025-03-18T15:18:49.259079Z",
     "iopub.status.idle": "2025-03-18T15:18:49.271651Z",
     "shell.execute_reply": "2025-03-18T15:18:49.270582Z"
    },
    "papermill": {
     "duration": 0.062192,
     "end_time": "2025-03-18T15:18:49.273691",
     "exception": false,
     "start_time": "2025-03-18T15:18:49.211499",
     "status": "completed"
    },
    "tags": []
   },
   "outputs": [],
   "source": [
    "#Woman Fill Missing Slot, WPlayIn, and LPlayIn with 0\n",
    "wtourney_results[\"Slot\"] = wtourney_results[\"Slot\"].fillna(\"Unknown\")\n",
    "wtourney_results[\"WPlayIn\"] = wtourney_results[\"WPlayIn\"].fillna(0).astype(int)\n",
    "wtourney_results[\"LPlayIn\"] = wtourney_results[\"LPlayIn\"].fillna(0).astype(int)"
   ]
  },
  {
   "cell_type": "code",
   "execution_count": 59,
   "id": "ae7e162e",
   "metadata": {
    "_cell_guid": "6fe6438c-c740-4907-bbb5-800f1e63dae2",
    "_uuid": "55a8c4df-4a8f-43a6-bb13-cd822d062f00",
    "collapsed": false,
    "execution": {
     "iopub.execute_input": "2025-03-18T15:18:49.369617Z",
     "iopub.status.busy": "2025-03-18T15:18:49.369237Z",
     "iopub.status.idle": "2025-03-18T15:18:50.408485Z",
     "shell.execute_reply": "2025-03-18T15:18:50.406197Z"
    },
    "id": "RiV4MLzu6QRd",
    "jupyter": {
     "outputs_hidden": false
    },
    "outputId": "4b8aedb9-3c54-43b4-c9d1-8c9f9b0e84a5",
    "papermill": {
     "duration": 1.091714,
     "end_time": "2025-03-18T15:18:50.411929",
     "exception": false,
     "start_time": "2025-03-18T15:18:49.320215",
     "status": "completed"
    },
    "tags": []
   },
   "outputs": [
    {
     "name": "stdout",
     "output_type": "stream",
     "text": [
      "DayNum      1203\n",
      "WTeamID     1203\n",
      "WScore      1203\n",
      "LTeamID     1203\n",
      "LScore      1203\n",
      "NumOT       1203\n",
      "WSeedNum    3721\n",
      "LSeedNum    3721\n",
      "dtype: int64\n"
     ]
    }
   ],
   "source": [
    "# Check if there are still missing values\n",
    "missing_values_after = tourney_results.isnull().sum()\n",
    "print(missing_values_after[missing_values_after > 0])  # Should return empty if all missing values are handled"
   ]
  },
  {
   "cell_type": "code",
   "execution_count": 60,
   "id": "f87cc733",
   "metadata": {
    "execution": {
     "iopub.execute_input": "2025-03-18T15:18:50.529988Z",
     "iopub.status.busy": "2025-03-18T15:18:50.529511Z",
     "iopub.status.idle": "2025-03-18T15:18:50.573303Z",
     "shell.execute_reply": "2025-03-18T15:18:50.571839Z"
    },
    "papermill": {
     "duration": 0.109808,
     "end_time": "2025-03-18T15:18:50.575374",
     "exception": false,
     "start_time": "2025-03-18T15:18:50.465566",
     "status": "completed"
    },
    "tags": []
   },
   "outputs": [
    {
     "name": "stdout",
     "output_type": "stream",
     "text": [
      "DayNum       886\n",
      "WTeamID      886\n",
      "WScore       886\n",
      "LTeamID      886\n",
      "LScore       886\n",
      "NumOT        886\n",
      "WSeedNum    2536\n",
      "LSeedNum    2536\n",
      "dtype: int64\n"
     ]
    }
   ],
   "source": [
    "# Woman Check if there are still missing values\n",
    "wmissing_values_after = wtourney_results.isnull().sum()\n",
    "print(wmissing_values_after[wmissing_values_after > 0])  # Should return empty if all missing values are handled"
   ]
  },
  {
   "cell_type": "code",
   "execution_count": 61,
   "id": "f2901ec6",
   "metadata": {
    "_cell_guid": "2d27d3a9-7344-474b-afed-6eafbeb1c8da",
    "_uuid": "1f55646a-ecdf-46f5-ac3a-4214d4f6dfba",
    "collapsed": false,
    "execution": {
     "iopub.execute_input": "2025-03-18T15:18:50.685596Z",
     "iopub.status.busy": "2025-03-18T15:18:50.685166Z",
     "iopub.status.idle": "2025-03-18T15:18:50.889377Z",
     "shell.execute_reply": "2025-03-18T15:18:50.887918Z"
    },
    "id": "4L3a6koR6QT-",
    "jupyter": {
     "outputs_hidden": false
    },
    "outputId": "bb386325-df1f-4845-a721-adbaa807a9b6",
    "papermill": {
     "duration": 0.268215,
     "end_time": "2025-03-18T15:18:50.891486",
     "exception": false,
     "start_time": "2025-03-18T15:18:50.623271",
     "status": "completed"
    },
    "tags": []
   },
   "outputs": [
    {
     "name": "stderr",
     "output_type": "stream",
     "text": [
      "<ipython-input-61-6837b32ab088>:3: FutureWarning: Series.fillna with 'method' is deprecated and will raise in a future version. Use obj.ffill() or obj.bfill() instead.\n",
      "  tourney_results[col] = tourney_results[col].fillna(method=\"ffill\")  # Forward fill\n"
     ]
    }
   ],
   "source": [
    "# Fill missing values using tournament compact results (only if available)\n",
    "for col in [\"DayNum\", \"WTeamID\", \"LTeamID\", \"WScore\", \"LScore\", \"NumOT\"]:\n",
    "    tourney_results[col] = tourney_results[col].fillna(method=\"ffill\")  # Forward fill"
   ]
  },
  {
   "cell_type": "code",
   "execution_count": 62,
   "id": "5313951b",
   "metadata": {
    "execution": {
     "iopub.execute_input": "2025-03-18T15:18:51.013986Z",
     "iopub.status.busy": "2025-03-18T15:18:51.013525Z",
     "iopub.status.idle": "2025-03-18T15:18:51.028759Z",
     "shell.execute_reply": "2025-03-18T15:18:51.027375Z"
    },
    "papermill": {
     "duration": 0.07376,
     "end_time": "2025-03-18T15:18:51.030996",
     "exception": false,
     "start_time": "2025-03-18T15:18:50.957236",
     "status": "completed"
    },
    "tags": []
   },
   "outputs": [
    {
     "name": "stderr",
     "output_type": "stream",
     "text": [
      "<ipython-input-62-fe638c949c09>:3: FutureWarning: Series.fillna with 'method' is deprecated and will raise in a future version. Use obj.ffill() or obj.bfill() instead.\n",
      "  wtourney_results[col] = wtourney_results[col].fillna(method=\"ffill\")  # Forward fill\n"
     ]
    }
   ],
   "source": [
    "# Fill missing values using tournament compact results (only if available)\n",
    "for col in [\"DayNum\", \"WTeamID\", \"LTeamID\", \"WScore\", \"LScore\", \"NumOT\"]:\n",
    "    wtourney_results[col] = wtourney_results[col].fillna(method=\"ffill\")  # Forward fill"
   ]
  },
  {
   "cell_type": "code",
   "execution_count": 63,
   "id": "b078388c",
   "metadata": {
    "_cell_guid": "8102945f-5234-4f3d-9772-20a2517c80ca",
    "_uuid": "c291adbe-4add-47a6-9109-a88db28c757e",
    "collapsed": false,
    "execution": {
     "iopub.execute_input": "2025-03-18T15:18:51.129012Z",
     "iopub.status.busy": "2025-03-18T15:18:51.128551Z",
     "iopub.status.idle": "2025-03-18T15:18:52.450874Z",
     "shell.execute_reply": "2025-03-18T15:18:52.449602Z"
    },
    "id": "dWCBCr6q6QXK",
    "jupyter": {
     "outputs_hidden": false
    },
    "papermill": {
     "duration": 1.375052,
     "end_time": "2025-03-18T15:18:52.452910",
     "exception": false,
     "start_time": "2025-03-18T15:18:51.077858",
     "status": "completed"
    },
    "tags": []
   },
   "outputs": [],
   "source": [
    "# Fill missing seeds with the most common value per team\n",
    "tourney_results[\"WSeedNum\"] = tourney_results.groupby(\"WTeamID\")[\"WSeedNum\"].transform(lambda x: x.fillna(x.mode()[0] if not x.mode().empty else 16))\n",
    "tourney_results[\"LSeedNum\"] = tourney_results.groupby(\"LTeamID\")[\"LSeedNum\"].transform(lambda x: x.fillna(x.mode()[0] if not x.mode().empty else 16))"
   ]
  },
  {
   "cell_type": "code",
   "execution_count": 64,
   "id": "9df87b08",
   "metadata": {
    "execution": {
     "iopub.execute_input": "2025-03-18T15:18:52.545651Z",
     "iopub.status.busy": "2025-03-18T15:18:52.545171Z",
     "iopub.status.idle": "2025-03-18T15:18:52.741892Z",
     "shell.execute_reply": "2025-03-18T15:18:52.740517Z"
    },
    "papermill": {
     "duration": 0.246851,
     "end_time": "2025-03-18T15:18:52.744206",
     "exception": false,
     "start_time": "2025-03-18T15:18:52.497355",
     "status": "completed"
    },
    "tags": []
   },
   "outputs": [],
   "source": [
    "# Fill missing seeds with the most common value per team\n",
    "wtourney_results[\"WSeedNum\"] = wtourney_results.groupby(\"WTeamID\")[\"WSeedNum\"].transform(lambda x: x.fillna(x.mode()[0] if not x.mode().empty else 16))\n",
    "wtourney_results[\"LSeedNum\"] = wtourney_results.groupby(\"LTeamID\")[\"LSeedNum\"].transform(lambda x: x.fillna(x.mode()[0] if not x.mode().empty else 16))"
   ]
  },
  {
   "cell_type": "code",
   "execution_count": 65,
   "id": "fb5402ec",
   "metadata": {
    "_cell_guid": "b72d7547-8def-48d0-a099-735795d492df",
    "_uuid": "00913b2b-fb12-4675-b8f9-ddaeee361cd3",
    "collapsed": false,
    "execution": {
     "iopub.execute_input": "2025-03-18T15:18:52.835199Z",
     "iopub.status.busy": "2025-03-18T15:18:52.834689Z",
     "iopub.status.idle": "2025-03-18T15:18:53.883378Z",
     "shell.execute_reply": "2025-03-18T15:18:53.881888Z"
    },
    "id": "O7iW5M0j6QaF",
    "jupyter": {
     "outputs_hidden": false
    },
    "outputId": "5fc8726e-5258-453d-e4d2-cb0d3710f8fd",
    "papermill": {
     "duration": 1.096652,
     "end_time": "2025-03-18T15:18:53.885617",
     "exception": false,
     "start_time": "2025-03-18T15:18:52.788965",
     "status": "completed"
    },
    "tags": []
   },
   "outputs": [
    {
     "name": "stdout",
     "output_type": "stream",
     "text": [
      "Series([], dtype: int64)\n"
     ]
    }
   ],
   "source": [
    "missing_values_after = tourney_results.isnull().sum()\n",
    "print(missing_values_after[missing_values_after > 0])"
   ]
  },
  {
   "cell_type": "code",
   "execution_count": 66,
   "id": "1ebdac48",
   "metadata": {
    "execution": {
     "iopub.execute_input": "2025-03-18T15:18:53.985538Z",
     "iopub.status.busy": "2025-03-18T15:18:53.985125Z",
     "iopub.status.idle": "2025-03-18T15:18:54.015839Z",
     "shell.execute_reply": "2025-03-18T15:18:54.014606Z"
    },
    "papermill": {
     "duration": 0.081762,
     "end_time": "2025-03-18T15:18:54.018009",
     "exception": false,
     "start_time": "2025-03-18T15:18:53.936247",
     "status": "completed"
    },
    "tags": []
   },
   "outputs": [
    {
     "name": "stdout",
     "output_type": "stream",
     "text": [
      "Series([], dtype: int64)\n"
     ]
    }
   ],
   "source": [
    "wmissing_values_after = wtourney_results.isnull().sum()\n",
    "print(wmissing_values_after[wmissing_values_after > 0])"
   ]
  },
  {
   "cell_type": "code",
   "execution_count": 67,
   "id": "fefd6326",
   "metadata": {
    "_cell_guid": "69bdadd8-f9c8-45fe-9cf5-a916d2f6e56e",
    "_uuid": "b1d6b27b-6284-4ec6-8120-3c9aac0baf97",
    "collapsed": false,
    "execution": {
     "iopub.execute_input": "2025-03-18T15:18:54.112851Z",
     "iopub.status.busy": "2025-03-18T15:18:54.112450Z",
     "iopub.status.idle": "2025-03-18T15:18:54.130777Z",
     "shell.execute_reply": "2025-03-18T15:18:54.128988Z"
    },
    "id": "JvKbejms6Qdd",
    "jupyter": {
     "outputs_hidden": false
    },
    "outputId": "e28b6e73-fb59-449d-e991-c14b3d0923ce",
    "papermill": {
     "duration": 0.069334,
     "end_time": "2025-03-18T15:18:54.133358",
     "exception": false,
     "start_time": "2025-03-18T15:18:54.064024",
     "status": "completed"
    },
    "tags": []
   },
   "outputs": [
    {
     "name": "stdout",
     "output_type": "stream",
     "text": [
      "   Season  DayNum  WTeamID  WScore  LTeamID  LScore WLoc  NumOT       WFGM  \\\n",
      "0    1985   136.0   1116.0    63.0   1234.0    54.0    N    0.0  26.485341   \n",
      "1    1985   136.0   1120.0    59.0   1345.0    58.0    N    0.0  26.485341   \n",
      "2    1985   136.0   1207.0    68.0   1250.0    43.0    N    0.0  26.485341   \n",
      "3    1985   136.0   1229.0    58.0   1425.0    55.0    N    0.0  26.485341   \n",
      "4    1985   136.0   1242.0    49.0   1325.0    38.0    N    0.0  26.485341   \n",
      "\n",
      "        WFGA  ...      LStl      LBlk       LPF     Slot  WRegion  LRegion  \\\n",
      "0  55.827448  ...  5.671245  2.946253  18.59166  Unknown        Y        W   \n",
      "1  55.827448  ...  5.671245  2.946253  18.59166  Unknown        Y        W   \n",
      "2  55.827448  ...  5.671245  2.946253  18.59166  Unknown        Y        W   \n",
      "3  55.827448  ...  5.671245  2.946253  18.59166  Unknown        Y        W   \n",
      "4  55.827448  ...  5.671245  2.946253  18.59166  Unknown        Y        W   \n",
      "\n",
      "   WPlayIn  LPlayIn  WSeedNum  LSeedNum  \n",
      "0        0        0       3.0       7.0  \n",
      "1        0        0       5.0       3.0  \n",
      "2        0        0       2.0      16.0  \n",
      "3        0        0      16.0      11.0  \n",
      "4        0        0       1.0      13.0  \n",
      "\n",
      "[5 rows x 41 columns]\n"
     ]
    }
   ],
   "source": [
    "print(tourney_results.head())"
   ]
  },
  {
   "cell_type": "code",
   "execution_count": 68,
   "id": "1432913a",
   "metadata": {
    "execution": {
     "iopub.execute_input": "2025-03-18T15:18:54.228720Z",
     "iopub.status.busy": "2025-03-18T15:18:54.228290Z",
     "iopub.status.idle": "2025-03-18T15:18:54.245961Z",
     "shell.execute_reply": "2025-03-18T15:18:54.244498Z"
    },
    "papermill": {
     "duration": 0.068179,
     "end_time": "2025-03-18T15:18:54.248273",
     "exception": false,
     "start_time": "2025-03-18T15:18:54.180094",
     "status": "completed"
    },
    "tags": []
   },
   "outputs": [
    {
     "name": "stdout",
     "output_type": "stream",
     "text": [
      "   Season  DayNum  WTeamID  WScore  LTeamID  LScore WLoc  NumOT       WFGM  \\\n",
      "0    1998   137.0   3104.0    94.0   3422.0    46.0    H    0.0  27.838585   \n",
      "1    1998   137.0   3112.0    75.0   3365.0    63.0    H    0.0  27.838585   \n",
      "2    1998   137.0   3163.0    93.0   3193.0    52.0    H    0.0  27.838585   \n",
      "3    1998   137.0   3198.0    59.0   3266.0    45.0    H    0.0  27.838585   \n",
      "4    1998   137.0   3203.0    74.0   3208.0    72.0    A    0.0  27.838585   \n",
      "\n",
      "        WFGA  ...      LStl      LBlk        LPF     Slot  WRegion  LRegion  \\\n",
      "0  60.098432  ...  6.642177  3.020849  17.833508  Unknown        Z        Z   \n",
      "1  60.098432  ...  6.642177  3.020849  17.833508  Unknown        Z        Z   \n",
      "2  60.098432  ...  6.642177  3.020849  17.833508  Unknown        Z        Z   \n",
      "3  60.098432  ...  6.642177  3.020849  17.833508  Unknown        Z        Z   \n",
      "4  60.098432  ...  6.642177  3.020849  17.833508  Unknown        Z        Z   \n",
      "\n",
      "   WPlayIn  LPlayIn  WSeedNum  LSeedNum  \n",
      "0        0        0       8.0      16.0  \n",
      "1        0        0       3.0      16.0  \n",
      "2        0        0       1.0      13.0  \n",
      "3        0        0      16.0      10.0  \n",
      "4        0        0      16.0       4.0  \n",
      "\n",
      "[5 rows x 41 columns]\n"
     ]
    }
   ],
   "source": [
    "print(wtourney_results.head())"
   ]
  },
  {
   "cell_type": "code",
   "execution_count": 69,
   "id": "692a53bf",
   "metadata": {
    "_cell_guid": "8d45359a-bbe0-4122-9636-d6aba10fcc76",
    "_uuid": "8a3ead7f-5d44-495e-821c-350da516cb24",
    "collapsed": false,
    "execution": {
     "iopub.execute_input": "2025-03-18T15:18:54.410927Z",
     "iopub.status.busy": "2025-03-18T15:18:54.410509Z",
     "iopub.status.idle": "2025-03-18T15:18:54.433382Z",
     "shell.execute_reply": "2025-03-18T15:18:54.431885Z"
    },
    "id": "txzhsSRv6Qg1",
    "jupyter": {
     "outputs_hidden": false
    },
    "papermill": {
     "duration": 0.141643,
     "end_time": "2025-03-18T15:18:54.435844",
     "exception": false,
     "start_time": "2025-03-18T15:18:54.294201",
     "status": "completed"
    },
    "tags": []
   },
   "outputs": [],
   "source": [
    "# Load the team conference data\n",
    "team_conferences = pd.read_csv(os.path.join(base_path, \"MTeamConferences.csv\"))"
   ]
  },
  {
   "cell_type": "code",
   "execution_count": 70,
   "id": "c3dbde66",
   "metadata": {
    "execution": {
     "iopub.execute_input": "2025-03-18T15:18:54.534231Z",
     "iopub.status.busy": "2025-03-18T15:18:54.533750Z",
     "iopub.status.idle": "2025-03-18T15:18:54.548521Z",
     "shell.execute_reply": "2025-03-18T15:18:54.547210Z"
    },
    "papermill": {
     "duration": 0.066043,
     "end_time": "2025-03-18T15:18:54.550724",
     "exception": false,
     "start_time": "2025-03-18T15:18:54.484681",
     "status": "completed"
    },
    "tags": []
   },
   "outputs": [],
   "source": [
    "# Load the team conference data\n",
    "wteam_conferences = pd.read_csv(os.path.join(base_path, \"WTeamConferences.csv\"))"
   ]
  },
  {
   "cell_type": "code",
   "execution_count": 71,
   "id": "db8e4c7d",
   "metadata": {
    "_cell_guid": "33e3f3a7-299a-46b6-81ea-d5472eee2797",
    "_uuid": "3a1ad75c-61d0-4825-9d17-22862f5738a4",
    "collapsed": false,
    "execution": {
     "iopub.execute_input": "2025-03-18T15:18:54.648200Z",
     "iopub.status.busy": "2025-03-18T15:18:54.647766Z",
     "iopub.status.idle": "2025-03-18T15:18:58.420536Z",
     "shell.execute_reply": "2025-03-18T15:18:58.419409Z"
    },
    "id": "CkZiGl_X6Qjr",
    "jupyter": {
     "outputs_hidden": false
    },
    "papermill": {
     "duration": 3.823382,
     "end_time": "2025-03-18T15:18:58.422798",
     "exception": false,
     "start_time": "2025-03-18T15:18:54.599416",
     "status": "completed"
    },
    "tags": []
   },
   "outputs": [],
   "source": [
    "# Merge Winner Team's Conference (WConf)\n",
    "tourney_results = tourney_results.merge(\n",
    "    team_conferences,\n",
    "    left_on=['Season', 'WTeamID'],\n",
    "    right_on=['Season', 'TeamID'],\n",
    "    how=\"left\"\n",
    ").rename(columns={'ConfAbbrev': 'WConf'}).drop(columns=['TeamID'])"
   ]
  },
  {
   "cell_type": "code",
   "execution_count": 72,
   "id": "f088c2a7",
   "metadata": {
    "execution": {
     "iopub.execute_input": "2025-03-18T15:18:58.518825Z",
     "iopub.status.busy": "2025-03-18T15:18:58.518467Z",
     "iopub.status.idle": "2025-03-18T15:18:58.566330Z",
     "shell.execute_reply": "2025-03-18T15:18:58.565204Z"
    },
    "papermill": {
     "duration": 0.099352,
     "end_time": "2025-03-18T15:18:58.568649",
     "exception": false,
     "start_time": "2025-03-18T15:18:58.469297",
     "status": "completed"
    },
    "tags": []
   },
   "outputs": [],
   "source": [
    "#Woman Merge Winner Team's Conference (WConf)\n",
    "wtourney_results = wtourney_results.merge(\n",
    "    wteam_conferences,\n",
    "    left_on=['Season', 'WTeamID'],\n",
    "    right_on=['Season', 'TeamID'],\n",
    "    how=\"left\"\n",
    ").rename(columns={'ConfAbbrev': 'WConf'}).drop(columns=['TeamID'])"
   ]
  },
  {
   "cell_type": "code",
   "execution_count": 73,
   "id": "e4171906",
   "metadata": {
    "_cell_guid": "73181658-7cbc-4f10-a144-0024fe43a9d5",
    "_uuid": "404cddbd-44d4-4c43-a56b-23a1baf40370",
    "collapsed": false,
    "execution": {
     "iopub.execute_input": "2025-03-18T15:18:58.667766Z",
     "iopub.status.busy": "2025-03-18T15:18:58.667398Z",
     "iopub.status.idle": "2025-03-18T15:19:01.435492Z",
     "shell.execute_reply": "2025-03-18T15:19:01.434099Z"
    },
    "id": "KHLB6O4SX5jO",
    "jupyter": {
     "outputs_hidden": false
    },
    "papermill": {
     "duration": 2.819552,
     "end_time": "2025-03-18T15:19:01.438023",
     "exception": false,
     "start_time": "2025-03-18T15:18:58.618471",
     "status": "completed"
    },
    "tags": []
   },
   "outputs": [],
   "source": [
    "# Merge Loser Team's Conference (LConf)\n",
    "tourney_results = tourney_results.merge(\n",
    "    team_conferences,\n",
    "    left_on=['Season', 'LTeamID'],\n",
    "    right_on=['Season', 'TeamID'],\n",
    "    how=\"left\"\n",
    ").rename(columns={'ConfAbbrev': 'LConf'}).drop(columns=['TeamID'])"
   ]
  },
  {
   "cell_type": "code",
   "execution_count": 74,
   "id": "151d015e",
   "metadata": {
    "execution": {
     "iopub.execute_input": "2025-03-18T15:19:01.533631Z",
     "iopub.status.busy": "2025-03-18T15:19:01.533265Z",
     "iopub.status.idle": "2025-03-18T15:19:01.572608Z",
     "shell.execute_reply": "2025-03-18T15:19:01.571467Z"
    },
    "papermill": {
     "duration": 0.089632,
     "end_time": "2025-03-18T15:19:01.574871",
     "exception": false,
     "start_time": "2025-03-18T15:19:01.485239",
     "status": "completed"
    },
    "tags": []
   },
   "outputs": [],
   "source": [
    "#Woman Merge Loser Team's Conference (LConf)\n",
    "wtourney_results = wtourney_results.merge(\n",
    "    wteam_conferences,\n",
    "    left_on=['Season', 'LTeamID'],\n",
    "    right_on=['Season', 'TeamID'],\n",
    "    how=\"left\"\n",
    ").rename(columns={'ConfAbbrev': 'LConf'}).drop(columns=['TeamID'])"
   ]
  },
  {
   "cell_type": "code",
   "execution_count": 75,
   "id": "7d0a49bf",
   "metadata": {
    "_cell_guid": "b220ca2e-9cba-4697-96c0-0f3878899420",
    "_uuid": "a91673d8-4db8-41b0-b338-b9459f287cf9",
    "collapsed": false,
    "execution": {
     "iopub.execute_input": "2025-03-18T15:19:01.672098Z",
     "iopub.status.busy": "2025-03-18T15:19:01.671698Z",
     "iopub.status.idle": "2025-03-18T15:19:01.687196Z",
     "shell.execute_reply": "2025-03-18T15:19:01.686114Z"
    },
    "id": "3HW6n3XNX5mo",
    "jupyter": {
     "outputs_hidden": false
    },
    "papermill": {
     "duration": 0.067398,
     "end_time": "2025-03-18T15:19:01.689411",
     "exception": false,
     "start_time": "2025-03-18T15:19:01.622013",
     "status": "completed"
    },
    "tags": []
   },
   "outputs": [],
   "source": [
    "# Load the conference tournament games data\n",
    "conference_tourney_games = pd.read_csv(os.path.join(base_path,\"MConferenceTourneyGames.csv\"))"
   ]
  },
  {
   "cell_type": "code",
   "execution_count": 76,
   "id": "23ac57cc",
   "metadata": {
    "execution": {
     "iopub.execute_input": "2025-03-18T15:19:01.783852Z",
     "iopub.status.busy": "2025-03-18T15:19:01.783486Z",
     "iopub.status.idle": "2025-03-18T15:19:01.799168Z",
     "shell.execute_reply": "2025-03-18T15:19:01.798140Z"
    },
    "papermill": {
     "duration": 0.065594,
     "end_time": "2025-03-18T15:19:01.801571",
     "exception": false,
     "start_time": "2025-03-18T15:19:01.735977",
     "status": "completed"
    },
    "tags": []
   },
   "outputs": [],
   "source": [
    "# Woman Load the conference tournament games data\n",
    "wconference_tourney_games = pd.read_csv(os.path.join(base_path,\"WConferenceTourneyGames.csv\"))"
   ]
  },
  {
   "cell_type": "code",
   "execution_count": 77,
   "id": "606a6422",
   "metadata": {
    "_cell_guid": "8de5ea2a-1afb-4327-a902-636352ad0d55",
    "_uuid": "09683fb6-8109-4c34-b623-34f18f59fd8d",
    "collapsed": false,
    "execution": {
     "iopub.execute_input": "2025-03-18T15:19:01.899880Z",
     "iopub.status.busy": "2025-03-18T15:19:01.899510Z",
     "iopub.status.idle": "2025-03-18T15:19:01.904849Z",
     "shell.execute_reply": "2025-03-18T15:19:01.903727Z"
    },
    "id": "51DSAZ0-Yn1X",
    "jupyter": {
     "outputs_hidden": false
    },
    "papermill": {
     "duration": 0.056091,
     "end_time": "2025-03-18T15:19:01.906619",
     "exception": false,
     "start_time": "2025-03-18T15:19:01.850528",
     "status": "completed"
    },
    "tags": []
   },
   "outputs": [],
   "source": [
    "# Rename columns to avoid confusion\n",
    "conference_tourney_games = conference_tourney_games.rename(columns={\n",
    "    \"WTeamID\": \"Conf_WTeamID\",\n",
    "    \"LTeamID\": \"Conf_LTeamID\"\n",
    "})"
   ]
  },
  {
   "cell_type": "code",
   "execution_count": 78,
   "id": "d77221bd",
   "metadata": {
    "execution": {
     "iopub.execute_input": "2025-03-18T15:19:02.010266Z",
     "iopub.status.busy": "2025-03-18T15:19:02.009789Z",
     "iopub.status.idle": "2025-03-18T15:19:02.016493Z",
     "shell.execute_reply": "2025-03-18T15:19:02.015183Z"
    },
    "papermill": {
     "duration": 0.060061,
     "end_time": "2025-03-18T15:19:02.018715",
     "exception": false,
     "start_time": "2025-03-18T15:19:01.958654",
     "status": "completed"
    },
    "tags": []
   },
   "outputs": [],
   "source": [
    "#Woman Rename columns to avoid confusion\n",
    "wconference_tourney_games = wconference_tourney_games.rename(columns={\n",
    "    \"WTeamID\": \"Conf_WTeamID\",\n",
    "    \"LTeamID\": \"Conf_LTeamID\"\n",
    "})"
   ]
  },
  {
   "cell_type": "code",
   "execution_count": 79,
   "id": "cccf52c8",
   "metadata": {
    "_cell_guid": "16ed9d6c-55d4-47e4-9c85-af7341e0c835",
    "_uuid": "8435efba-98f4-49f3-ba9f-bd04c74e996c",
    "collapsed": false,
    "execution": {
     "iopub.execute_input": "2025-03-18T15:19:02.110142Z",
     "iopub.status.busy": "2025-03-18T15:19:02.109688Z",
     "iopub.status.idle": "2025-03-18T15:19:05.793840Z",
     "shell.execute_reply": "2025-03-18T15:19:05.792673Z"
    },
    "id": "eVsFWAk0X5qI",
    "jupyter": {
     "outputs_hidden": false
    },
    "papermill": {
     "duration": 3.732448,
     "end_time": "2025-03-18T15:19:05.796014",
     "exception": false,
     "start_time": "2025-03-18T15:19:02.063566",
     "status": "completed"
    },
    "tags": []
   },
   "outputs": [],
   "source": [
    "# Merge to check if the game was a conference tournament game\n",
    "tourney_results = tourney_results.merge(\n",
    "    conference_tourney_games[['Season', 'ConfAbbrev', 'DayNum', 'Conf_WTeamID', 'Conf_LTeamID']],\n",
    "    left_on=['Season', 'WTeamID', 'LTeamID'],\n",
    "    right_on=['Season', 'Conf_WTeamID', 'Conf_LTeamID'],\n",
    "    how=\"left\"\n",
    ").rename(columns={'ConfAbbrev': 'ConfTourney'})"
   ]
  },
  {
   "cell_type": "code",
   "execution_count": 80,
   "id": "d6dabafb",
   "metadata": {
    "execution": {
     "iopub.execute_input": "2025-03-18T15:19:05.892374Z",
     "iopub.status.busy": "2025-03-18T15:19:05.891906Z",
     "iopub.status.idle": "2025-03-18T15:19:05.941378Z",
     "shell.execute_reply": "2025-03-18T15:19:05.940186Z"
    },
    "papermill": {
     "duration": 0.099936,
     "end_time": "2025-03-18T15:19:05.943248",
     "exception": false,
     "start_time": "2025-03-18T15:19:05.843312",
     "status": "completed"
    },
    "tags": []
   },
   "outputs": [],
   "source": [
    "# Woman Merge to check if the game was a conference tournament game\n",
    "wtourney_results = wtourney_results.merge(\n",
    "    wconference_tourney_games[['Season', 'ConfAbbrev', 'DayNum', 'Conf_WTeamID', 'Conf_LTeamID']],\n",
    "    left_on=['Season', 'WTeamID', 'LTeamID'],\n",
    "    right_on=['Season', 'Conf_WTeamID', 'Conf_LTeamID'],\n",
    "    how=\"left\"\n",
    ").rename(columns={'ConfAbbrev': 'ConfTourney'})"
   ]
  },
  {
   "cell_type": "code",
   "execution_count": 81,
   "id": "7914e832",
   "metadata": {
    "_cell_guid": "5b2a0936-1b6e-48ba-8575-6979b94cb200",
    "_uuid": "ce4e172e-4481-401e-a73b-52661f89ef2b",
    "collapsed": false,
    "execution": {
     "iopub.execute_input": "2025-03-18T15:19:06.038106Z",
     "iopub.status.busy": "2025-03-18T15:19:06.037670Z",
     "iopub.status.idle": "2025-03-18T15:19:06.043717Z",
     "shell.execute_reply": "2025-03-18T15:19:06.042374Z"
    },
    "id": "W4Q0VlIbX5to",
    "jupyter": {
     "outputs_hidden": false
    },
    "outputId": "9946d8d2-698e-4f6e-961e-619ff27a4b8e",
    "papermill": {
     "duration": 0.054951,
     "end_time": "2025-03-18T15:19:06.045591",
     "exception": false,
     "start_time": "2025-03-18T15:19:05.990640",
     "status": "completed"
    },
    "tags": []
   },
   "outputs": [
    {
     "name": "stdout",
     "output_type": "stream",
     "text": [
      "Index(['Season', 'DayNum_x', 'WTeamID', 'WScore', 'LTeamID', 'LScore', 'WLoc',\n",
      "       'NumOT', 'WFGM', 'WFGA', 'WFGM3', 'WFGA3', 'WFTM', 'WFTA', 'WOR', 'WDR',\n",
      "       'WAst', 'WTO', 'WStl', 'WBlk', 'WPF', 'LFGM', 'LFGA', 'LFGM3', 'LFGA3',\n",
      "       'LFTM', 'LFTA', 'LOR', 'LDR', 'LAst', 'LTO', 'LStl', 'LBlk', 'LPF',\n",
      "       'Slot', 'WRegion', 'LRegion', 'WPlayIn', 'LPlayIn', 'WSeedNum',\n",
      "       'LSeedNum', 'WConf', 'LConf', 'ConfTourney', 'DayNum_y', 'Conf_WTeamID',\n",
      "       'Conf_LTeamID'],\n",
      "      dtype='object')\n"
     ]
    }
   ],
   "source": [
    "print(tourney_results.columns)"
   ]
  },
  {
   "cell_type": "code",
   "execution_count": 82,
   "id": "b693adeb",
   "metadata": {
    "_cell_guid": "13f6e873-daaf-40a6-8a07-2fbffd4b9e80",
    "_uuid": "f22669ef-b6cc-4507-8f12-a33ea7c75b8d",
    "collapsed": false,
    "execution": {
     "iopub.execute_input": "2025-03-18T15:19:06.142539Z",
     "iopub.status.busy": "2025-03-18T15:19:06.142173Z",
     "iopub.status.idle": "2025-03-18T15:19:06.256361Z",
     "shell.execute_reply": "2025-03-18T15:19:06.255040Z"
    },
    "id": "n3cD4zQvX5xE",
    "jupyter": {
     "outputs_hidden": false
    },
    "outputId": "88c068fd-2212-4d8f-9233-e741047c4633",
    "papermill": {
     "duration": 0.164927,
     "end_time": "2025-03-18T15:19:06.258461",
     "exception": false,
     "start_time": "2025-03-18T15:19:06.093534",
     "status": "completed"
    },
    "tags": []
   },
   "outputs": [
    {
     "name": "stdout",
     "output_type": "stream",
     "text": [
      "   Season  WTeamID      WConf  LTeamID    LConf ConfTourney\n",
      "0    1985   1116.0        swc   1234.0  big_ten         NaN\n",
      "1    1985   1120.0        sec   1345.0  big_ten         NaN\n",
      "2    1985   1207.0   big_east   1250.0      ecc         NaN\n",
      "3    1985   1229.0        mvc   1425.0  pac_ten         NaN\n",
      "4    1985   1242.0  big_eight   1325.0      mac         NaN\n"
     ]
    }
   ],
   "source": [
    "print(tourney_results[['Season', 'WTeamID', 'WConf', 'LTeamID', 'LConf', 'ConfTourney']].head())"
   ]
  },
  {
   "cell_type": "code",
   "execution_count": 83,
   "id": "ff3cde2f",
   "metadata": {
    "_cell_guid": "53e1eff8-ed59-4413-9cde-f5576183d4bf",
    "_uuid": "299230ef-4e8b-48e5-b0ee-4772d41f2a02",
    "collapsed": false,
    "execution": {
     "iopub.execute_input": "2025-03-18T15:19:06.355341Z",
     "iopub.status.busy": "2025-03-18T15:19:06.354717Z",
     "iopub.status.idle": "2025-03-18T15:19:06.418733Z",
     "shell.execute_reply": "2025-03-18T15:19:06.417402Z"
    },
    "id": "_LwdrzTiOSAp",
    "jupyter": {
     "outputs_hidden": false
    },
    "outputId": "328240ef-82e5-44d9-ae90-ebff81adeebb",
    "papermill": {
     "duration": 0.114191,
     "end_time": "2025-03-18T15:19:06.420419",
     "exception": false,
     "start_time": "2025-03-18T15:19:06.306228",
     "status": "completed"
    },
    "tags": []
   },
   "outputs": [
    {
     "name": "stdout",
     "output_type": "stream",
     "text": [
      "[nan 'acc']\n"
     ]
    }
   ],
   "source": [
    "print(tourney_results[\"ConfTourney\"].unique())"
   ]
  },
  {
   "cell_type": "code",
   "execution_count": 84,
   "id": "90389d33",
   "metadata": {
    "execution": {
     "iopub.execute_input": "2025-03-18T15:19:06.516559Z",
     "iopub.status.busy": "2025-03-18T15:19:06.516162Z",
     "iopub.status.idle": "2025-03-18T15:19:06.530957Z",
     "shell.execute_reply": "2025-03-18T15:19:06.529479Z"
    },
    "papermill": {
     "duration": 0.066288,
     "end_time": "2025-03-18T15:19:06.533323",
     "exception": false,
     "start_time": "2025-03-18T15:19:06.467035",
     "status": "completed"
    },
    "tags": []
   },
   "outputs": [
    {
     "name": "stdout",
     "output_type": "stream",
     "text": [
      "Index(['Season', 'DayNum_x', 'WTeamID', 'WScore', 'LTeamID', 'LScore', 'WLoc',\n",
      "       'NumOT', 'WFGM', 'WFGA', 'WFGM3', 'WFGA3', 'WFTM', 'WFTA', 'WOR', 'WDR',\n",
      "       'WAst', 'WTO', 'WStl', 'WBlk', 'WPF', 'LFGM', 'LFGA', 'LFGM3', 'LFGA3',\n",
      "       'LFTM', 'LFTA', 'LOR', 'LDR', 'LAst', 'LTO', 'LStl', 'LBlk', 'LPF',\n",
      "       'Slot', 'WRegion', 'LRegion', 'WPlayIn', 'LPlayIn', 'WSeedNum',\n",
      "       'LSeedNum', 'WConf', 'LConf', 'ConfTourney', 'DayNum_y', 'Conf_WTeamID',\n",
      "       'Conf_LTeamID'],\n",
      "      dtype='object')\n",
      "   Season  WTeamID     WConf  LTeamID     LConf ConfTourney\n",
      "0    1998   3104.0       sec   3422.0  southern         NaN\n",
      "1    1998   3112.0   pac_ten   3365.0       wcc         NaN\n",
      "2    1998   3163.0  big_east   3193.0      maac         NaN\n",
      "3    1998   3198.0     a_sun   3266.0      cusa         NaN\n",
      "4    1998   3203.0     a_ten   3208.0       sec         NaN\n",
      "[nan 'acc' 'sec' 'big_east' 'pac_twelve']\n"
     ]
    }
   ],
   "source": [
    "print(wtourney_results.columns)\n",
    "print(wtourney_results[['Season', 'WTeamID', 'WConf', 'LTeamID', 'LConf', 'ConfTourney']].head())\n",
    "print(wtourney_results[\"ConfTourney\"].unique())"
   ]
  },
  {
   "cell_type": "code",
   "execution_count": 85,
   "id": "97a35e7d",
   "metadata": {
    "_cell_guid": "0b629139-17ac-442e-b638-4bb50ff7c2bf",
    "_uuid": "f0f45469-fa66-4946-97a7-98c49d9a3ec8",
    "collapsed": false,
    "execution": {
     "iopub.execute_input": "2025-03-18T15:19:06.627232Z",
     "iopub.status.busy": "2025-03-18T15:19:06.626824Z",
     "iopub.status.idle": "2025-03-18T15:19:07.327626Z",
     "shell.execute_reply": "2025-03-18T15:19:07.326634Z"
    },
    "id": "pCKjUoVOX50i",
    "jupyter": {
     "outputs_hidden": false
    },
    "papermill": {
     "duration": 0.750427,
     "end_time": "2025-03-18T15:19:07.330018",
     "exception": false,
     "start_time": "2025-03-18T15:19:06.579591",
     "status": "completed"
    },
    "tags": []
   },
   "outputs": [],
   "source": [
    " #Drop unnecessary columns\n",
    "tourney_results.drop(columns=['DayNum_y', 'DayNum_x'], inplace=True)"
   ]
  },
  {
   "cell_type": "code",
   "execution_count": 86,
   "id": "9be3f175",
   "metadata": {
    "execution": {
     "iopub.execute_input": "2025-03-18T15:19:07.428181Z",
     "iopub.status.busy": "2025-03-18T15:19:07.427722Z",
     "iopub.status.idle": "2025-03-18T15:19:07.444465Z",
     "shell.execute_reply": "2025-03-18T15:19:07.443163Z"
    },
    "papermill": {
     "duration": 0.068216,
     "end_time": "2025-03-18T15:19:07.446569",
     "exception": false,
     "start_time": "2025-03-18T15:19:07.378353",
     "status": "completed"
    },
    "tags": []
   },
   "outputs": [],
   "source": [
    " #Woman Drop unnecessary columns\n",
    "wtourney_results.drop(columns=['DayNum_y', 'DayNum_x'], inplace=True)"
   ]
  },
  {
   "cell_type": "code",
   "execution_count": 87,
   "id": "d8e2bd98",
   "metadata": {
    "_cell_guid": "fd5e47fc-dcb3-4b43-a9ba-dab2434c889f",
    "_uuid": "167829bf-f37a-45a5-894d-7a7e2b011ca9",
    "collapsed": false,
    "execution": {
     "iopub.execute_input": "2025-03-18T15:19:07.539177Z",
     "iopub.status.busy": "2025-03-18T15:19:07.538749Z",
     "iopub.status.idle": "2025-03-18T15:19:07.770289Z",
     "shell.execute_reply": "2025-03-18T15:19:07.768798Z"
    },
    "id": "Zsbt7JOsX536",
    "jupyter": {
     "outputs_hidden": false
    },
    "outputId": "6fac3ce6-331b-483a-ca5a-55209e236694",
    "papermill": {
     "duration": 0.280219,
     "end_time": "2025-03-18T15:19:07.772251",
     "exception": false,
     "start_time": "2025-03-18T15:19:07.492032",
     "status": "completed"
    },
    "tags": []
   },
   "outputs": [
    {
     "name": "stdout",
     "output_type": "stream",
     "text": [
      "   Season  WTeamID      WConf  LTeamID    LConf ConfTourney  Conf_WTeamID  \\\n",
      "0    1985   1116.0        swc   1234.0  big_ten         NaN           NaN   \n",
      "1    1985   1120.0        sec   1345.0  big_ten         NaN           NaN   \n",
      "2    1985   1207.0   big_east   1250.0      ecc         NaN           NaN   \n",
      "3    1985   1229.0        mvc   1425.0  pac_ten         NaN           NaN   \n",
      "4    1985   1242.0  big_eight   1325.0      mac         NaN           NaN   \n",
      "\n",
      "   Conf_LTeamID  \n",
      "0           NaN  \n",
      "1           NaN  \n",
      "2           NaN  \n",
      "3           NaN  \n",
      "4           NaN  \n"
     ]
    },
    {
     "name": "stderr",
     "output_type": "stream",
     "text": [
      "/usr/local/lib/python3.10/dist-packages/pandas/io/formats/format.py:1458: RuntimeWarning: invalid value encountered in greater\n",
      "  has_large_values = (abs_vals > 1e6).any()\n",
      "/usr/local/lib/python3.10/dist-packages/pandas/io/formats/format.py:1459: RuntimeWarning: invalid value encountered in less\n",
      "  has_small_values = ((abs_vals < 10 ** (-self.digits)) & (abs_vals > 0)).any()\n",
      "/usr/local/lib/python3.10/dist-packages/pandas/io/formats/format.py:1459: RuntimeWarning: invalid value encountered in greater\n",
      "  has_small_values = ((abs_vals < 10 ** (-self.digits)) & (abs_vals > 0)).any()\n"
     ]
    }
   ],
   "source": [
    "print(tourney_results[['Season', 'WTeamID', 'WConf', 'LTeamID', 'LConf', 'ConfTourney','Conf_WTeamID','Conf_LTeamID']].head())"
   ]
  },
  {
   "cell_type": "code",
   "execution_count": 88,
   "id": "38b4d357",
   "metadata": {
    "execution": {
     "iopub.execute_input": "2025-03-18T15:19:07.864699Z",
     "iopub.status.busy": "2025-03-18T15:19:07.864328Z",
     "iopub.status.idle": "2025-03-18T15:19:07.878855Z",
     "shell.execute_reply": "2025-03-18T15:19:07.877392Z"
    },
    "papermill": {
     "duration": 0.063747,
     "end_time": "2025-03-18T15:19:07.880705",
     "exception": false,
     "start_time": "2025-03-18T15:19:07.816958",
     "status": "completed"
    },
    "tags": []
   },
   "outputs": [
    {
     "name": "stdout",
     "output_type": "stream",
     "text": [
      "   Season  WTeamID     WConf  LTeamID     LConf ConfTourney  Conf_WTeamID  \\\n",
      "0    1998   3104.0       sec   3422.0  southern         NaN           NaN   \n",
      "1    1998   3112.0   pac_ten   3365.0       wcc         NaN           NaN   \n",
      "2    1998   3163.0  big_east   3193.0      maac         NaN           NaN   \n",
      "3    1998   3198.0     a_sun   3266.0      cusa         NaN           NaN   \n",
      "4    1998   3203.0     a_ten   3208.0       sec         NaN           NaN   \n",
      "\n",
      "   Conf_LTeamID  \n",
      "0           NaN  \n",
      "1           NaN  \n",
      "2           NaN  \n",
      "3           NaN  \n",
      "4           NaN  \n"
     ]
    },
    {
     "name": "stderr",
     "output_type": "stream",
     "text": [
      "/usr/local/lib/python3.10/dist-packages/pandas/io/formats/format.py:1458: RuntimeWarning: invalid value encountered in greater\n",
      "  has_large_values = (abs_vals > 1e6).any()\n",
      "/usr/local/lib/python3.10/dist-packages/pandas/io/formats/format.py:1459: RuntimeWarning: invalid value encountered in less\n",
      "  has_small_values = ((abs_vals < 10 ** (-self.digits)) & (abs_vals > 0)).any()\n",
      "/usr/local/lib/python3.10/dist-packages/pandas/io/formats/format.py:1459: RuntimeWarning: invalid value encountered in greater\n",
      "  has_small_values = ((abs_vals < 10 ** (-self.digits)) & (abs_vals > 0)).any()\n"
     ]
    }
   ],
   "source": [
    "print(wtourney_results[['Season', 'WTeamID', 'WConf', 'LTeamID', 'LConf', 'ConfTourney','Conf_WTeamID','Conf_LTeamID']].head())"
   ]
  },
  {
   "cell_type": "code",
   "execution_count": 89,
   "id": "50132f9f",
   "metadata": {
    "_cell_guid": "21952708-fd98-4621-a0e7-0568a3d36f68",
    "_uuid": "46b08ff7-e626-4d27-86c7-7eca97bd955a",
    "collapsed": false,
    "execution": {
     "iopub.execute_input": "2025-03-18T15:19:07.980944Z",
     "iopub.status.busy": "2025-03-18T15:19:07.980600Z",
     "iopub.status.idle": "2025-03-18T15:19:08.006368Z",
     "shell.execute_reply": "2025-03-18T15:19:08.004215Z"
    },
    "id": "ILEuF6z1cmTv",
    "jupyter": {
     "outputs_hidden": false
    },
    "outputId": "057ab6b8-ba20-4669-8ef8-522bf9621c92",
    "papermill": {
     "duration": 0.080158,
     "end_time": "2025-03-18T15:19:08.008923",
     "exception": false,
     "start_time": "2025-03-18T15:19:07.928765",
     "status": "completed"
    },
    "tags": []
   },
   "outputs": [
    {
     "name": "stdout",
     "output_type": "stream",
     "text": [
      "[  nan 1181. 1314. 1301.]\n"
     ]
    }
   ],
   "source": [
    "print(tourney_results[\"Conf_WTeamID\"].unique())"
   ]
  },
  {
   "cell_type": "code",
   "execution_count": 90,
   "id": "49179936",
   "metadata": {
    "execution": {
     "iopub.execute_input": "2025-03-18T15:19:08.107517Z",
     "iopub.status.busy": "2025-03-18T15:19:08.107091Z",
     "iopub.status.idle": "2025-03-18T15:19:08.114367Z",
     "shell.execute_reply": "2025-03-18T15:19:08.113166Z"
    },
    "papermill": {
     "duration": 0.059598,
     "end_time": "2025-03-18T15:19:08.116446",
     "exception": false,
     "start_time": "2025-03-18T15:19:08.056848",
     "status": "completed"
    },
    "tags": []
   },
   "outputs": [
    {
     "name": "stdout",
     "output_type": "stream",
     "text": [
      "[  nan 3268. 3397. 3163. 3449. 3376.]\n"
     ]
    }
   ],
   "source": [
    "print(wtourney_results[\"Conf_WTeamID\"].unique())"
   ]
  },
  {
   "cell_type": "code",
   "execution_count": 91,
   "id": "00d4b106",
   "metadata": {
    "_cell_guid": "968be165-f32c-409a-96c2-3bd33964626b",
    "_uuid": "431b5274-fb15-4a42-92ac-7fdc5eded05f",
    "collapsed": false,
    "execution": {
     "iopub.execute_input": "2025-03-18T15:19:08.211840Z",
     "iopub.status.busy": "2025-03-18T15:19:08.211481Z",
     "iopub.status.idle": "2025-03-18T15:19:08.235456Z",
     "shell.execute_reply": "2025-03-18T15:19:08.233962Z"
    },
    "id": "uCz8y24Oco1F",
    "jupyter": {
     "outputs_hidden": false
    },
    "outputId": "dc5c17b4-8773-473e-8551-aa1ed880f817",
    "papermill": {
     "duration": 0.072713,
     "end_time": "2025-03-18T15:19:08.237727",
     "exception": false,
     "start_time": "2025-03-18T15:19:08.165014",
     "status": "completed"
    },
    "tags": []
   },
   "outputs": [
    {
     "name": "stdout",
     "output_type": "stream",
     "text": [
      "[  nan 1268. 1323. 1181.]\n"
     ]
    }
   ],
   "source": [
    "print(tourney_results[\"Conf_LTeamID\"].unique())"
   ]
  },
  {
   "cell_type": "code",
   "execution_count": 92,
   "id": "2c379d56",
   "metadata": {
    "execution": {
     "iopub.execute_input": "2025-03-18T15:19:08.428999Z",
     "iopub.status.busy": "2025-03-18T15:19:08.428621Z",
     "iopub.status.idle": "2025-03-18T15:19:08.434840Z",
     "shell.execute_reply": "2025-03-18T15:19:08.433453Z"
    },
    "papermill": {
     "duration": 0.150263,
     "end_time": "2025-03-18T15:19:08.436746",
     "exception": false,
     "start_time": "2025-03-18T15:19:08.286483",
     "status": "completed"
    },
    "tags": []
   },
   "outputs": [
    {
     "name": "stdout",
     "output_type": "stream",
     "text": [
      "[  nan 3181. 3261. 3257. 3207. 3390. 3280.]\n"
     ]
    }
   ],
   "source": [
    "print(wtourney_results[\"Conf_LTeamID\"].unique())"
   ]
  },
  {
   "cell_type": "code",
   "execution_count": 93,
   "id": "18c962f6",
   "metadata": {
    "_cell_guid": "fff7dfc4-6fec-4512-81b4-4e57d02d90cd",
    "_uuid": "6a2cca1b-5686-4760-b11f-39e1ccae16a6",
    "collapsed": false,
    "execution": {
     "iopub.execute_input": "2025-03-18T15:19:08.535523Z",
     "iopub.status.busy": "2025-03-18T15:19:08.535157Z",
     "iopub.status.idle": "2025-03-18T15:19:08.693267Z",
     "shell.execute_reply": "2025-03-18T15:19:08.692203Z"
    },
    "id": "Nr8FZaqdX5-w",
    "jupyter": {
     "outputs_hidden": false
    },
    "outputId": "f3bc9df8-975b-4193-a314-fc288a2cf4d0",
    "papermill": {
     "duration": 0.20979,
     "end_time": "2025-03-18T15:19:08.695337",
     "exception": false,
     "start_time": "2025-03-18T15:19:08.485547",
     "status": "completed"
    },
    "tags": []
   },
   "outputs": [
    {
     "name": "stdout",
     "output_type": "stream",
     "text": [
      "['big_ten' 'ecc' 'pac_ten' 'mac' 'big_east' 'maac' 'ovc' 'big_eight'\n",
      " 'meac' 'sun_belt' 'swac' 'metro' 'wac' 'swc' 'wcc' 'mvc' 'a_sun' 'ecacn'\n",
      " 'ivy' 'ecacm' 'sec' 'big_sky' 'ind' 'southern' 'a_ten' 'pcaa' 'acc'\n",
      " 'ecacs' 'mw_city' 'southland' 'mw_coll' 'caa' 'mid_cont' 'nec' 'nac'\n",
      " 'asc' 'big_west' 'big_south' 'patriot' 'gmwc' 'cusa' 'big_twelve' 'aec'\n",
      " 'mwc' 'horizon' 'summit' 'pac_twelve' 'aac']\n"
     ]
    }
   ],
   "source": [
    "print(tourney_results[\"LConf\"].unique())"
   ]
  },
  {
   "cell_type": "code",
   "execution_count": 94,
   "id": "4744f2f3",
   "metadata": {
    "execution": {
     "iopub.execute_input": "2025-03-18T15:19:08.793394Z",
     "iopub.status.busy": "2025-03-18T15:19:08.793001Z",
     "iopub.status.idle": "2025-03-18T15:19:08.801310Z",
     "shell.execute_reply": "2025-03-18T15:19:08.800151Z"
    },
    "papermill": {
     "duration": 0.059594,
     "end_time": "2025-03-18T15:19:08.803133",
     "exception": false,
     "start_time": "2025-03-18T15:19:08.743539",
     "status": "completed"
    },
    "tags": []
   },
   "outputs": [
    {
     "name": "stdout",
     "output_type": "stream",
     "text": [
      "['southern' 'wcc' 'maac' 'cusa' 'sec' 'a_ten' 'aec' 'wac' 'meac' 'mvc'\n",
      " 'nec' 'swac' 'big_ten' 'big_east' 'ovc' 'big_sky' 'pac_ten' 'mw_coll'\n",
      " 'mac' 'patriot' 'big_south' 'southland' 'acc' 'mid_cont' 'a_sun'\n",
      " 'big_twelve' 'ivy' 'big_west' 'sun_belt' 'caa' 'mwc' 'horizon' 'summit'\n",
      " 'pac_twelve' 'aac']\n"
     ]
    }
   ],
   "source": [
    "print(wtourney_results[\"LConf\"].unique())"
   ]
  },
  {
   "cell_type": "code",
   "execution_count": 95,
   "id": "c03dd377",
   "metadata": {
    "_cell_guid": "f3c69357-325f-46d2-a99b-2a0a9487e8c7",
    "_uuid": "c79d3b32-9884-4730-bc09-8cc041051429",
    "collapsed": false,
    "execution": {
     "iopub.execute_input": "2025-03-18T15:19:08.902524Z",
     "iopub.status.busy": "2025-03-18T15:19:08.902111Z",
     "iopub.status.idle": "2025-03-18T15:19:09.585557Z",
     "shell.execute_reply": "2025-03-18T15:19:09.584321Z"
    },
    "id": "xJqLbw5fX6CE",
    "jupyter": {
     "outputs_hidden": false
    },
    "papermill": {
     "duration": 0.736037,
     "end_time": "2025-03-18T15:19:09.587812",
     "exception": false,
     "start_time": "2025-03-18T15:19:08.851775",
     "status": "completed"
    },
    "tags": []
   },
   "outputs": [],
   "source": [
    "# Drop unnecessary columns\n",
    "tourney_results.drop(columns=['Conf_WTeamID', 'Conf_LTeamID'], inplace=True, errors=\"ignore\")"
   ]
  },
  {
   "cell_type": "code",
   "execution_count": 96,
   "id": "338b9841",
   "metadata": {
    "execution": {
     "iopub.execute_input": "2025-03-18T15:19:09.686849Z",
     "iopub.status.busy": "2025-03-18T15:19:09.686476Z",
     "iopub.status.idle": "2025-03-18T15:19:09.698850Z",
     "shell.execute_reply": "2025-03-18T15:19:09.697686Z"
    },
    "papermill": {
     "duration": 0.064659,
     "end_time": "2025-03-18T15:19:09.701256",
     "exception": false,
     "start_time": "2025-03-18T15:19:09.636597",
     "status": "completed"
    },
    "tags": []
   },
   "outputs": [],
   "source": [
    "# Drop unnecessary columns\n",
    "wtourney_results.drop(columns=['Conf_WTeamID', 'Conf_LTeamID'], inplace=True, errors=\"ignore\")"
   ]
  },
  {
   "cell_type": "code",
   "execution_count": 97,
   "id": "5cd47a57",
   "metadata": {
    "_cell_guid": "1f065473-ea02-46d2-9d9d-92693b3b3843",
    "_uuid": "66fa8243-5f50-4017-8797-50233776417b",
    "collapsed": false,
    "execution": {
     "iopub.execute_input": "2025-03-18T15:19:09.805655Z",
     "iopub.status.busy": "2025-03-18T15:19:09.805241Z",
     "iopub.status.idle": "2025-03-18T15:19:09.811775Z",
     "shell.execute_reply": "2025-03-18T15:19:09.809997Z"
    },
    "id": "a7uV50D1X6F7",
    "jupyter": {
     "outputs_hidden": false
    },
    "outputId": "c42536a3-56cd-4b03-dfe4-f62bfccf9a5c",
    "papermill": {
     "duration": 0.062334,
     "end_time": "2025-03-18T15:19:09.813987",
     "exception": false,
     "start_time": "2025-03-18T15:19:09.751653",
     "status": "completed"
    },
    "tags": []
   },
   "outputs": [
    {
     "name": "stdout",
     "output_type": "stream",
     "text": [
      "Index(['Season', 'WTeamID', 'WScore', 'LTeamID', 'LScore', 'WLoc', 'NumOT',\n",
      "       'WFGM', 'WFGA', 'WFGM3', 'WFGA3', 'WFTM', 'WFTA', 'WOR', 'WDR', 'WAst',\n",
      "       'WTO', 'WStl', 'WBlk', 'WPF', 'LFGM', 'LFGA', 'LFGM3', 'LFGA3', 'LFTM',\n",
      "       'LFTA', 'LOR', 'LDR', 'LAst', 'LTO', 'LStl', 'LBlk', 'LPF', 'Slot',\n",
      "       'WRegion', 'LRegion', 'WPlayIn', 'LPlayIn', 'WSeedNum', 'LSeedNum',\n",
      "       'WConf', 'LConf', 'ConfTourney'],\n",
      "      dtype='object')\n"
     ]
    }
   ],
   "source": [
    "# Check final columns\n",
    "print(tourney_results.columns)"
   ]
  },
  {
   "cell_type": "code",
   "execution_count": 98,
   "id": "c0fd1703",
   "metadata": {
    "execution": {
     "iopub.execute_input": "2025-03-18T15:19:09.909304Z",
     "iopub.status.busy": "2025-03-18T15:19:09.908866Z",
     "iopub.status.idle": "2025-03-18T15:19:09.915010Z",
     "shell.execute_reply": "2025-03-18T15:19:09.913432Z"
    },
    "papermill": {
     "duration": 0.055914,
     "end_time": "2025-03-18T15:19:09.916934",
     "exception": false,
     "start_time": "2025-03-18T15:19:09.861020",
     "status": "completed"
    },
    "tags": []
   },
   "outputs": [
    {
     "name": "stdout",
     "output_type": "stream",
     "text": [
      "Index(['Season', 'WTeamID', 'WScore', 'LTeamID', 'LScore', 'WLoc', 'NumOT',\n",
      "       'WFGM', 'WFGA', 'WFGM3', 'WFGA3', 'WFTM', 'WFTA', 'WOR', 'WDR', 'WAst',\n",
      "       'WTO', 'WStl', 'WBlk', 'WPF', 'LFGM', 'LFGA', 'LFGM3', 'LFGA3', 'LFTM',\n",
      "       'LFTA', 'LOR', 'LDR', 'LAst', 'LTO', 'LStl', 'LBlk', 'LPF', 'Slot',\n",
      "       'WRegion', 'LRegion', 'WPlayIn', 'LPlayIn', 'WSeedNum', 'LSeedNum',\n",
      "       'WConf', 'LConf', 'ConfTourney'],\n",
      "      dtype='object')\n"
     ]
    }
   ],
   "source": [
    "# Check final columns\n",
    "print(wtourney_results.columns)"
   ]
  },
  {
   "cell_type": "code",
   "execution_count": 99,
   "id": "0f390623",
   "metadata": {
    "_cell_guid": "5212f548-ce28-46ad-b072-d4e337c66145",
    "_uuid": "52d7ac48-183b-451f-a711-102448af5320",
    "collapsed": false,
    "execution": {
     "iopub.execute_input": "2025-03-18T15:19:10.015640Z",
     "iopub.status.busy": "2025-03-18T15:19:10.015306Z",
     "iopub.status.idle": "2025-03-18T15:19:13.699100Z",
     "shell.execute_reply": "2025-03-18T15:19:13.697472Z"
    },
    "id": "rlZ3Vfi56Qme",
    "jupyter": {
     "outputs_hidden": false
    },
    "outputId": "11f1f183-a692-4b50-9eec-f55322d3fcea",
    "papermill": {
     "duration": 3.738328,
     "end_time": "2025-03-18T15:19:13.701146",
     "exception": false,
     "start_time": "2025-03-18T15:19:09.962818",
     "status": "completed"
    },
    "tags": []
   },
   "outputs": [
    {
     "name": "stdout",
     "output_type": "stream",
     "text": [
      "Total Duplicate Rows: 3271798\n"
     ]
    }
   ],
   "source": [
    "# Check for duplicate rows\n",
    "duplicate_count = tourney_results.duplicated().sum()\n",
    "print(f\"Total Duplicate Rows: {duplicate_count}\")"
   ]
  },
  {
   "cell_type": "code",
   "execution_count": 100,
   "id": "5b0f23c1",
   "metadata": {
    "execution": {
     "iopub.execute_input": "2025-03-18T15:19:13.795411Z",
     "iopub.status.busy": "2025-03-18T15:19:13.795014Z",
     "iopub.status.idle": "2025-03-18T15:19:13.859932Z",
     "shell.execute_reply": "2025-03-18T15:19:13.858493Z"
    },
    "papermill": {
     "duration": 0.114231,
     "end_time": "2025-03-18T15:19:13.862019",
     "exception": false,
     "start_time": "2025-03-18T15:19:13.747788",
     "status": "completed"
    },
    "tags": []
   },
   "outputs": [
    {
     "name": "stdout",
     "output_type": "stream",
     "text": [
      "Total Duplicate Rows: 0\n"
     ]
    }
   ],
   "source": [
    "# Check for duplicate rows\n",
    "wduplicate_count = wtourney_results.duplicated().sum()\n",
    "print(f\"Total Duplicate Rows: {wduplicate_count}\")"
   ]
  },
  {
   "cell_type": "code",
   "execution_count": 101,
   "id": "b6fc2e89",
   "metadata": {
    "_cell_guid": "0a85c369-2c36-485f-a1d4-725142b26a8e",
    "_uuid": "03eda67c-e6d8-4710-8995-5edd8f0aa4e9",
    "collapsed": false,
    "execution": {
     "iopub.execute_input": "2025-03-18T15:19:13.954882Z",
     "iopub.status.busy": "2025-03-18T15:19:13.954553Z",
     "iopub.status.idle": "2025-03-18T15:19:15.401603Z",
     "shell.execute_reply": "2025-03-18T15:19:15.399907Z"
    },
    "id": "KGmwfptXpBgI",
    "jupyter": {
     "outputs_hidden": false
    },
    "outputId": "0283e79b-11de-4be9-e824-11770411189f",
    "papermill": {
     "duration": 1.496565,
     "end_time": "2025-03-18T15:19:15.404001",
     "exception": false,
     "start_time": "2025-03-18T15:19:13.907436",
     "status": "completed"
    },
    "tags": []
   },
   "outputs": [
    {
     "name": "stdout",
     "output_type": "stream",
     "text": [
      "\n",
      "Missing Values in Each Column:\n",
      "ConfTourney    3361750\n",
      "dtype: int64\n"
     ]
    }
   ],
   "source": [
    "# Check for missing values in each column\n",
    "missing_values = tourney_results.isnull().sum()\n",
    "print(\"\\nMissing Values in Each Column:\")\n",
    "print(missing_values[missing_values > 0])  # Show only columns with NaN values"
   ]
  },
  {
   "cell_type": "code",
   "execution_count": 102,
   "id": "640c0af6",
   "metadata": {
    "execution": {
     "iopub.execute_input": "2025-03-18T15:19:15.502493Z",
     "iopub.status.busy": "2025-03-18T15:19:15.502027Z",
     "iopub.status.idle": "2025-03-18T15:19:15.538576Z",
     "shell.execute_reply": "2025-03-18T15:19:15.537219Z"
    },
    "papermill": {
     "duration": 0.087653,
     "end_time": "2025-03-18T15:19:15.540528",
     "exception": false,
     "start_time": "2025-03-18T15:19:15.452875",
     "status": "completed"
    },
    "tags": []
   },
   "outputs": [
    {
     "name": "stdout",
     "output_type": "stream",
     "text": [
      "\n",
      "Missing Values in Each Column:\n",
      "ConfTourney    59467\n",
      "dtype: int64\n"
     ]
    }
   ],
   "source": [
    "# Check for missing values in each column\n",
    "wmissing_values = wtourney_results.isnull().sum()\n",
    "print(\"\\nMissing Values in Each Column:\")\n",
    "print(wmissing_values[wmissing_values > 0])  # Show only columns with NaN values"
   ]
  },
  {
   "cell_type": "code",
   "execution_count": 103,
   "id": "84a2cd4e",
   "metadata": {
    "_cell_guid": "04bb48eb-9c7a-41ce-bbbd-964829eb0ac3",
    "_uuid": "6d1f6695-ef5f-436c-95a1-4080fce08b6f",
    "collapsed": false,
    "execution": {
     "iopub.execute_input": "2025-03-18T15:19:15.635735Z",
     "iopub.status.busy": "2025-03-18T15:19:15.635356Z",
     "iopub.status.idle": "2025-03-18T15:19:19.532246Z",
     "shell.execute_reply": "2025-03-18T15:19:19.530867Z"
    },
    "id": "Yt8s-MlwpBni",
    "jupyter": {
     "outputs_hidden": false
    },
    "outputId": "9868dbdf-f232-4cdc-e0ae-db914675f4e6",
    "papermill": {
     "duration": 3.947359,
     "end_time": "2025-03-18T15:19:19.534291",
     "exception": false,
     "start_time": "2025-03-18T15:19:15.586932",
     "status": "completed"
    },
    "tags": []
   },
   "outputs": [
    {
     "name": "stdout",
     "output_type": "stream",
     "text": [
      "Total Duplicate Rows after removal: 0\n"
     ]
    }
   ],
   "source": [
    "# Remove duplicate rows\n",
    "tourney_results.drop_duplicates(inplace=True)\n",
    "\n",
    "# Verify duplicates are removed\n",
    "print(f\"Total Duplicate Rows after removal: {tourney_results.duplicated().sum()}\")"
   ]
  },
  {
   "cell_type": "code",
   "execution_count": 104,
   "id": "2fc3cfc4",
   "metadata": {
    "execution": {
     "iopub.execute_input": "2025-03-18T15:19:19.635454Z",
     "iopub.status.busy": "2025-03-18T15:19:19.635116Z",
     "iopub.status.idle": "2025-03-18T15:19:19.763691Z",
     "shell.execute_reply": "2025-03-18T15:19:19.762202Z"
    },
    "papermill": {
     "duration": 0.18306,
     "end_time": "2025-03-18T15:19:19.765654",
     "exception": false,
     "start_time": "2025-03-18T15:19:19.582594",
     "status": "completed"
    },
    "tags": []
   },
   "outputs": [
    {
     "name": "stdout",
     "output_type": "stream",
     "text": [
      "Total Duplicate Rows after removal: 0\n"
     ]
    }
   ],
   "source": [
    "# Remove duplicate rows\n",
    "wtourney_results.drop_duplicates(inplace=True)\n",
    "\n",
    "# Verify duplicates are removed\n",
    "print(f\"Total Duplicate Rows after removal: {wtourney_results.duplicated().sum()}\")"
   ]
  },
  {
   "cell_type": "code",
   "execution_count": 105,
   "id": "5d23eef5",
   "metadata": {
    "_cell_guid": "7652f0f1-e507-4e6f-8a1f-d33399625676",
    "_uuid": "90853fb4-d1b7-45eb-b2ea-71585dab7d1a",
    "collapsed": false,
    "execution": {
     "iopub.execute_input": "2025-03-18T15:19:19.862246Z",
     "iopub.status.busy": "2025-03-18T15:19:19.861842Z",
     "iopub.status.idle": "2025-03-18T15:19:19.878982Z",
     "shell.execute_reply": "2025-03-18T15:19:19.877758Z"
    },
    "id": "FviAOINlqreR",
    "jupyter": {
     "outputs_hidden": false
    },
    "outputId": "cc86a1a1-01f8-4004-bafb-ed6c782255d6",
    "papermill": {
     "duration": 0.068171,
     "end_time": "2025-03-18T15:19:19.880971",
     "exception": false,
     "start_time": "2025-03-18T15:19:19.812800",
     "status": "completed"
    },
    "tags": []
   },
   "outputs": [
    {
     "name": "stdout",
     "output_type": "stream",
     "text": [
      "Missing Values after filling: 0\n"
     ]
    }
   ],
   "source": [
    "# Fill missing values with \"Unknown\" and assign back to the column\n",
    "tourney_results[\"ConfTourney\"] = tourney_results[\"ConfTourney\"].fillna(\"Unknown\")\n",
    "\n",
    "# Verify missing values are handled\n",
    "print(f\"Missing Values after filling: {tourney_results['ConfTourney'].isnull().sum()}\")"
   ]
  },
  {
   "cell_type": "code",
   "execution_count": 106,
   "id": "b39efafc",
   "metadata": {
    "execution": {
     "iopub.execute_input": "2025-03-18T15:19:19.982981Z",
     "iopub.status.busy": "2025-03-18T15:19:19.982591Z",
     "iopub.status.idle": "2025-03-18T15:19:19.996574Z",
     "shell.execute_reply": "2025-03-18T15:19:19.995236Z"
    },
    "papermill": {
     "duration": 0.066715,
     "end_time": "2025-03-18T15:19:19.998707",
     "exception": false,
     "start_time": "2025-03-18T15:19:19.931992",
     "status": "completed"
    },
    "tags": []
   },
   "outputs": [
    {
     "name": "stdout",
     "output_type": "stream",
     "text": [
      "Missing Values after filling: 0\n"
     ]
    }
   ],
   "source": [
    "# Fill missing values with \"Unknown\" and assign back to the column\n",
    "wtourney_results[\"ConfTourney\"] = wtourney_results[\"ConfTourney\"].fillna(\"Unknown\")\n",
    "\n",
    "# Verify missing values are handled\n",
    "print(f\"Missing Values after filling: {wtourney_results['ConfTourney'].isnull().sum()}\")"
   ]
  },
  {
   "cell_type": "code",
   "execution_count": 107,
   "id": "95d01cd5",
   "metadata": {
    "_cell_guid": "3e514cbb-09c4-4bab-b2c3-7dc848a64889",
    "_uuid": "80c7aa09-e998-481e-8879-d4c5380d893f",
    "collapsed": false,
    "execution": {
     "iopub.execute_input": "2025-03-18T15:19:20.098667Z",
     "iopub.status.busy": "2025-03-18T15:19:20.098328Z",
     "iopub.status.idle": "2025-03-18T15:19:20.247814Z",
     "shell.execute_reply": "2025-03-18T15:19:20.246452Z"
    },
    "id": "RfeIj5yfqrlR",
    "jupyter": {
     "outputs_hidden": false
    },
    "outputId": "fcfefcdb-5a69-4da8-eafa-423c87d44b0f",
    "papermill": {
     "duration": 0.199974,
     "end_time": "2025-03-18T15:19:20.249661",
     "exception": false,
     "start_time": "2025-03-18T15:19:20.049687",
     "status": "completed"
    },
    "tags": []
   },
   "outputs": [
    {
     "name": "stdout",
     "output_type": "stream",
     "text": [
      "0\n"
     ]
    },
    {
     "data": {
      "text/plain": [
       "Season         0\n",
       "WTeamID        0\n",
       "WScore         0\n",
       "LTeamID        0\n",
       "LScore         0\n",
       "WLoc           0\n",
       "NumOT          0\n",
       "WFGM           0\n",
       "WFGA           0\n",
       "WFGM3          0\n",
       "WFGA3          0\n",
       "WFTM           0\n",
       "WFTA           0\n",
       "WOR            0\n",
       "WDR            0\n",
       "WAst           0\n",
       "WTO            0\n",
       "WStl           0\n",
       "WBlk           0\n",
       "WPF            0\n",
       "LFGM           0\n",
       "LFGA           0\n",
       "LFGM3          0\n",
       "LFGA3          0\n",
       "LFTM           0\n",
       "LFTA           0\n",
       "LOR            0\n",
       "LDR            0\n",
       "LAst           0\n",
       "LTO            0\n",
       "LStl           0\n",
       "LBlk           0\n",
       "LPF            0\n",
       "Slot           0\n",
       "WRegion        0\n",
       "LRegion        0\n",
       "WPlayIn        0\n",
       "LPlayIn        0\n",
       "WSeedNum       0\n",
       "LSeedNum       0\n",
       "WConf          0\n",
       "LConf          0\n",
       "ConfTourney    0\n",
       "dtype: int64"
      ]
     },
     "execution_count": 107,
     "metadata": {},
     "output_type": "execute_result"
    }
   ],
   "source": [
    "print(tourney_results.duplicated().sum())\n",
    "tourney_results.isna().sum()"
   ]
  },
  {
   "cell_type": "code",
   "execution_count": 108,
   "id": "9eb37505",
   "metadata": {
    "execution": {
     "iopub.execute_input": "2025-03-18T15:19:20.344935Z",
     "iopub.status.busy": "2025-03-18T15:19:20.344489Z",
     "iopub.status.idle": "2025-03-18T15:19:20.449859Z",
     "shell.execute_reply": "2025-03-18T15:19:20.447997Z"
    },
    "papermill": {
     "duration": 0.156152,
     "end_time": "2025-03-18T15:19:20.452125",
     "exception": false,
     "start_time": "2025-03-18T15:19:20.295973",
     "status": "completed"
    },
    "tags": []
   },
   "outputs": [
    {
     "name": "stdout",
     "output_type": "stream",
     "text": [
      "0\n"
     ]
    },
    {
     "data": {
      "text/plain": [
       "Season         0\n",
       "WTeamID        0\n",
       "WScore         0\n",
       "LTeamID        0\n",
       "LScore         0\n",
       "WLoc           0\n",
       "NumOT          0\n",
       "WFGM           0\n",
       "WFGA           0\n",
       "WFGM3          0\n",
       "WFGA3          0\n",
       "WFTM           0\n",
       "WFTA           0\n",
       "WOR            0\n",
       "WDR            0\n",
       "WAst           0\n",
       "WTO            0\n",
       "WStl           0\n",
       "WBlk           0\n",
       "WPF            0\n",
       "LFGM           0\n",
       "LFGA           0\n",
       "LFGM3          0\n",
       "LFGA3          0\n",
       "LFTM           0\n",
       "LFTA           0\n",
       "LOR            0\n",
       "LDR            0\n",
       "LAst           0\n",
       "LTO            0\n",
       "LStl           0\n",
       "LBlk           0\n",
       "LPF            0\n",
       "Slot           0\n",
       "WRegion        0\n",
       "LRegion        0\n",
       "WPlayIn        0\n",
       "LPlayIn        0\n",
       "WSeedNum       0\n",
       "LSeedNum       0\n",
       "WConf          0\n",
       "LConf          0\n",
       "ConfTourney    0\n",
       "dtype: int64"
      ]
     },
     "execution_count": 108,
     "metadata": {},
     "output_type": "execute_result"
    }
   ],
   "source": [
    "print(wtourney_results.duplicated().sum())\n",
    "wtourney_results.isna().sum()"
   ]
  },
  {
   "cell_type": "code",
   "execution_count": 109,
   "id": "de8a4885",
   "metadata": {
    "_cell_guid": "7ee8322a-82f2-4b39-85aa-f6d8c48b0c53",
    "_uuid": "af4a6be1-09ff-4800-b90a-b67216a7f1bd",
    "collapsed": false,
    "execution": {
     "iopub.execute_input": "2025-03-18T15:19:20.553907Z",
     "iopub.status.busy": "2025-03-18T15:19:20.553467Z",
     "iopub.status.idle": "2025-03-18T15:19:20.559362Z",
     "shell.execute_reply": "2025-03-18T15:19:20.558076Z"
    },
    "id": "hsXxTWe-qro7",
    "jupyter": {
     "outputs_hidden": false
    },
    "outputId": "3f2915a1-349f-4df5-c9eb-dce1e226cede",
    "papermill": {
     "duration": 0.059401,
     "end_time": "2025-03-18T15:19:20.561249",
     "exception": false,
     "start_time": "2025-03-18T15:19:20.501848",
     "status": "completed"
    },
    "tags": []
   },
   "outputs": [
    {
     "name": "stdout",
     "output_type": "stream",
     "text": [
      "Final Dataset Shape: (94779, 43)\n"
     ]
    }
   ],
   "source": [
    "print(\"Final Dataset Shape:\", tourney_results.shape)"
   ]
  },
  {
   "cell_type": "code",
   "execution_count": 110,
   "id": "e206ba69",
   "metadata": {
    "execution": {
     "iopub.execute_input": "2025-03-18T15:19:20.658881Z",
     "iopub.status.busy": "2025-03-18T15:19:20.658520Z",
     "iopub.status.idle": "2025-03-18T15:19:20.664932Z",
     "shell.execute_reply": "2025-03-18T15:19:20.663605Z"
    },
    "papermill": {
     "duration": 0.056978,
     "end_time": "2025-03-18T15:19:20.667006",
     "exception": false,
     "start_time": "2025-03-18T15:19:20.610028",
     "status": "completed"
    },
    "tags": []
   },
   "outputs": [
    {
     "name": "stdout",
     "output_type": "stream",
     "text": [
      "Final Dataset Shape: (59662, 43)\n"
     ]
    }
   ],
   "source": [
    "print(\"Final Dataset Shape:\", wtourney_results.shape)"
   ]
  },
  {
   "cell_type": "code",
   "execution_count": 111,
   "id": "c05dacb7",
   "metadata": {
    "_cell_guid": "e0951d50-00f4-4967-8d99-ff215d2ddcaf",
    "_uuid": "9f66ea2f-9e94-4a5f-8f82-f8d2d341a00d",
    "collapsed": false,
    "execution": {
     "iopub.execute_input": "2025-03-18T15:19:20.768337Z",
     "iopub.status.busy": "2025-03-18T15:19:20.767850Z",
     "iopub.status.idle": "2025-03-18T15:19:20.773893Z",
     "shell.execute_reply": "2025-03-18T15:19:20.772301Z"
    },
    "id": "-CtzDR_kqrsi",
    "jupyter": {
     "outputs_hidden": false
    },
    "outputId": "6f59bfed-1ccd-4d56-dab1-69d761c54498",
    "papermill": {
     "duration": 0.059533,
     "end_time": "2025-03-18T15:19:20.775766",
     "exception": false,
     "start_time": "2025-03-18T15:19:20.716233",
     "status": "completed"
    },
    "tags": []
   },
   "outputs": [
    {
     "name": "stdout",
     "output_type": "stream",
     "text": [
      "Final Columns: Index(['Season', 'WTeamID', 'WScore', 'LTeamID', 'LScore', 'WLoc', 'NumOT',\n",
      "       'WFGM', 'WFGA', 'WFGM3', 'WFGA3', 'WFTM', 'WFTA', 'WOR', 'WDR', 'WAst',\n",
      "       'WTO', 'WStl', 'WBlk', 'WPF', 'LFGM', 'LFGA', 'LFGM3', 'LFGA3', 'LFTM',\n",
      "       'LFTA', 'LOR', 'LDR', 'LAst', 'LTO', 'LStl', 'LBlk', 'LPF', 'Slot',\n",
      "       'WRegion', 'LRegion', 'WPlayIn', 'LPlayIn', 'WSeedNum', 'LSeedNum',\n",
      "       'WConf', 'LConf', 'ConfTourney'],\n",
      "      dtype='object')\n"
     ]
    }
   ],
   "source": [
    "print(\"Final Columns:\", tourney_results.columns)"
   ]
  },
  {
   "cell_type": "code",
   "execution_count": 112,
   "id": "d574cf76",
   "metadata": {
    "execution": {
     "iopub.execute_input": "2025-03-18T15:19:20.876725Z",
     "iopub.status.busy": "2025-03-18T15:19:20.876293Z",
     "iopub.status.idle": "2025-03-18T15:19:20.882564Z",
     "shell.execute_reply": "2025-03-18T15:19:20.881344Z"
    },
    "papermill": {
     "duration": 0.059293,
     "end_time": "2025-03-18T15:19:20.884371",
     "exception": false,
     "start_time": "2025-03-18T15:19:20.825078",
     "status": "completed"
    },
    "tags": []
   },
   "outputs": [
    {
     "name": "stdout",
     "output_type": "stream",
     "text": [
      "Final Columns: Index(['Season', 'WTeamID', 'WScore', 'LTeamID', 'LScore', 'WLoc', 'NumOT',\n",
      "       'WFGM', 'WFGA', 'WFGM3', 'WFGA3', 'WFTM', 'WFTA', 'WOR', 'WDR', 'WAst',\n",
      "       'WTO', 'WStl', 'WBlk', 'WPF', 'LFGM', 'LFGA', 'LFGM3', 'LFGA3', 'LFTM',\n",
      "       'LFTA', 'LOR', 'LDR', 'LAst', 'LTO', 'LStl', 'LBlk', 'LPF', 'Slot',\n",
      "       'WRegion', 'LRegion', 'WPlayIn', 'LPlayIn', 'WSeedNum', 'LSeedNum',\n",
      "       'WConf', 'LConf', 'ConfTourney'],\n",
      "      dtype='object')\n"
     ]
    }
   ],
   "source": [
    "print(\"Final Columns:\", wtourney_results.columns)"
   ]
  },
  {
   "cell_type": "code",
   "execution_count": 113,
   "id": "6a6e55f7",
   "metadata": {
    "_cell_guid": "b3cef6c7-1180-4459-a66a-b3a530e14101",
    "_uuid": "5f9499aa-e453-4585-a904-9dca9b9cea8c",
    "collapsed": false,
    "execution": {
     "iopub.execute_input": "2025-03-18T15:19:20.984645Z",
     "iopub.status.busy": "2025-03-18T15:19:20.984238Z",
     "iopub.status.idle": "2025-03-18T15:19:21.008077Z",
     "shell.execute_reply": "2025-03-18T15:19:21.006602Z"
    },
    "id": "7faaAlmJqrws",
    "jupyter": {
     "outputs_hidden": false
    },
    "papermill": {
     "duration": 0.076826,
     "end_time": "2025-03-18T15:19:21.010163",
     "exception": false,
     "start_time": "2025-03-18T15:19:20.933337",
     "status": "completed"
    },
    "tags": []
   },
   "outputs": [],
   "source": [
    "# Drop unnecessary columns\n",
    "tourney_results.drop(columns=['NumOT'], inplace=True, errors=\"ignore\")"
   ]
  },
  {
   "cell_type": "code",
   "execution_count": 114,
   "id": "3af01c16",
   "metadata": {
    "execution": {
     "iopub.execute_input": "2025-03-18T15:19:21.110188Z",
     "iopub.status.busy": "2025-03-18T15:19:21.109716Z",
     "iopub.status.idle": "2025-03-18T15:19:21.127030Z",
     "shell.execute_reply": "2025-03-18T15:19:21.125742Z"
    },
    "papermill": {
     "duration": 0.069258,
     "end_time": "2025-03-18T15:19:21.129202",
     "exception": false,
     "start_time": "2025-03-18T15:19:21.059944",
     "status": "completed"
    },
    "tags": []
   },
   "outputs": [],
   "source": [
    "# Drop unnecessary columns\n",
    "wtourney_results.drop(columns=['NumOT'], inplace=True, errors=\"ignore\")"
   ]
  },
  {
   "cell_type": "code",
   "execution_count": 115,
   "id": "37e7d056",
   "metadata": {
    "_cell_guid": "ba3f3fa9-9c5d-4351-810f-090167dc0bb4",
    "_uuid": "2f830e5a-1459-463c-ba27-a3f1a2cd2a22",
    "collapsed": false,
    "execution": {
     "iopub.execute_input": "2025-03-18T15:19:21.296143Z",
     "iopub.status.busy": "2025-03-18T15:19:21.295714Z",
     "iopub.status.idle": "2025-03-18T15:19:21.306610Z",
     "shell.execute_reply": "2025-03-18T15:19:21.305445Z"
    },
    "id": "Jldy_CPbqr1k",
    "jupyter": {
     "outputs_hidden": false
    },
    "papermill": {
     "duration": 0.130972,
     "end_time": "2025-03-18T15:19:21.308550",
     "exception": false,
     "start_time": "2025-03-18T15:19:21.177578",
     "status": "completed"
    },
    "tags": []
   },
   "outputs": [],
   "source": [
    "# Load MTeams.csv\n",
    "mteams = pd.read_csv(os.path.join(base_path,\"MTeams.csv\"))"
   ]
  },
  {
   "cell_type": "code",
   "execution_count": 116,
   "id": "24a055a1",
   "metadata": {
    "execution": {
     "iopub.execute_input": "2025-03-18T15:19:21.407026Z",
     "iopub.status.busy": "2025-03-18T15:19:21.406639Z",
     "iopub.status.idle": "2025-03-18T15:19:21.417787Z",
     "shell.execute_reply": "2025-03-18T15:19:21.416407Z"
    },
    "papermill": {
     "duration": 0.063113,
     "end_time": "2025-03-18T15:19:21.419881",
     "exception": false,
     "start_time": "2025-03-18T15:19:21.356768",
     "status": "completed"
    },
    "tags": []
   },
   "outputs": [],
   "source": [
    "# Load MTeams.csv\n",
    "wteams = pd.read_csv(os.path.join(base_path,\"WTeams.csv\"))"
   ]
  },
  {
   "cell_type": "code",
   "execution_count": 117,
   "id": "41245caf",
   "metadata": {
    "_cell_guid": "a37a075e-e8c1-4a4a-a834-fadc6ddc4421",
    "_uuid": "e16def34-3cac-4100-b3e5-a5c3af608c0a",
    "collapsed": false,
    "execution": {
     "iopub.execute_input": "2025-03-18T15:19:21.518101Z",
     "iopub.status.busy": "2025-03-18T15:19:21.517682Z",
     "iopub.status.idle": "2025-03-18T15:19:21.581670Z",
     "shell.execute_reply": "2025-03-18T15:19:21.580478Z"
    },
    "id": "bSbUK4QVGscO",
    "jupyter": {
     "outputs_hidden": false
    },
    "papermill": {
     "duration": 0.115264,
     "end_time": "2025-03-18T15:19:21.583891",
     "exception": false,
     "start_time": "2025-03-18T15:19:21.468627",
     "status": "completed"
    },
    "tags": []
   },
   "outputs": [],
   "source": [
    "# Merge Winning Team Names with Winning Team ID\n",
    "tourney_results = tourney_results.merge(\n",
    "    mteams[['TeamID', 'TeamName']],\n",
    "    left_on=\"WTeamID\",\n",
    "    right_on=\"TeamID\",\n",
    "    how=\"left\"\n",
    ").rename(columns={'TeamName': 'WTeamName'}).drop(columns=['TeamID'])"
   ]
  },
  {
   "cell_type": "code",
   "execution_count": 118,
   "id": "af1a808e",
   "metadata": {
    "execution": {
     "iopub.execute_input": "2025-03-18T15:19:21.685240Z",
     "iopub.status.busy": "2025-03-18T15:19:21.684821Z",
     "iopub.status.idle": "2025-03-18T15:19:21.739093Z",
     "shell.execute_reply": "2025-03-18T15:19:21.737898Z"
    },
    "papermill": {
     "duration": 0.107884,
     "end_time": "2025-03-18T15:19:21.741191",
     "exception": false,
     "start_time": "2025-03-18T15:19:21.633307",
     "status": "completed"
    },
    "tags": []
   },
   "outputs": [],
   "source": [
    "# Merge Winning Team Names with Winning Team ID\n",
    "wtourney_results = wtourney_results.merge(\n",
    "    wteams[['TeamID', 'TeamName']],\n",
    "    left_on=\"WTeamID\",\n",
    "    right_on=\"TeamID\",\n",
    "    how=\"left\"\n",
    ").rename(columns={'TeamName': 'WTeamName'}).drop(columns=['TeamID'])"
   ]
  },
  {
   "cell_type": "code",
   "execution_count": 119,
   "id": "4d76a827",
   "metadata": {
    "_cell_guid": "ff9d4265-86b6-47b0-a032-d14edb6ecdb0",
    "_uuid": "bb1068ab-a4dc-44ab-beff-cd2aac738443",
    "collapsed": false,
    "execution": {
     "iopub.execute_input": "2025-03-18T15:19:21.838823Z",
     "iopub.status.busy": "2025-03-18T15:19:21.838418Z",
     "iopub.status.idle": "2025-03-18T15:19:21.911073Z",
     "shell.execute_reply": "2025-03-18T15:19:21.909550Z"
    },
    "id": "Xp4bdv6IGsf5",
    "jupyter": {
     "outputs_hidden": false
    },
    "papermill": {
     "duration": 0.124516,
     "end_time": "2025-03-18T15:19:21.913222",
     "exception": false,
     "start_time": "2025-03-18T15:19:21.788706",
     "status": "completed"
    },
    "tags": []
   },
   "outputs": [],
   "source": [
    "# Merge Losing Team Names with Loosing Team ID\n",
    "tourney_results = tourney_results.merge(\n",
    "    mteams[['TeamID', 'TeamName']],\n",
    "    left_on=\"LTeamID\",\n",
    "    right_on=\"TeamID\",\n",
    "    how=\"left\"\n",
    ").rename(columns={'TeamName': 'LTeamName'}).drop(columns=['TeamID'])"
   ]
  },
  {
   "cell_type": "code",
   "execution_count": 120,
   "id": "cae829f5",
   "metadata": {
    "execution": {
     "iopub.execute_input": "2025-03-18T15:19:22.012205Z",
     "iopub.status.busy": "2025-03-18T15:19:22.011735Z",
     "iopub.status.idle": "2025-03-18T15:19:22.061339Z",
     "shell.execute_reply": "2025-03-18T15:19:22.060176Z"
    },
    "papermill": {
     "duration": 0.101632,
     "end_time": "2025-03-18T15:19:22.063335",
     "exception": false,
     "start_time": "2025-03-18T15:19:21.961703",
     "status": "completed"
    },
    "tags": []
   },
   "outputs": [],
   "source": [
    "# Merge Losing Team Names with Loosing Team ID\n",
    "wtourney_results = wtourney_results.merge(\n",
    "    wteams[['TeamID', 'TeamName']],\n",
    "    left_on=\"LTeamID\",\n",
    "    right_on=\"TeamID\",\n",
    "    how=\"left\"\n",
    ").rename(columns={'TeamName': 'LTeamName'}).drop(columns=['TeamID'])"
   ]
  },
  {
   "cell_type": "code",
   "execution_count": 121,
   "id": "c360d859",
   "metadata": {
    "_cell_guid": "e4fdf946-ef07-450b-8f31-93698b1bfea3",
    "_uuid": "ba23982d-a0f6-41cc-8f40-9ad066260abd",
    "collapsed": false,
    "execution": {
     "iopub.execute_input": "2025-03-18T15:19:22.164280Z",
     "iopub.status.busy": "2025-03-18T15:19:22.163741Z",
     "iopub.status.idle": "2025-03-18T15:19:22.170691Z",
     "shell.execute_reply": "2025-03-18T15:19:22.169388Z"
    },
    "id": "qtbxku_ZGsjI",
    "jupyter": {
     "outputs_hidden": false
    },
    "outputId": "aec5cc05-9fd7-44ab-9b13-4e27bbc07a49",
    "papermill": {
     "duration": 0.062022,
     "end_time": "2025-03-18T15:19:22.172959",
     "exception": false,
     "start_time": "2025-03-18T15:19:22.110937",
     "status": "completed"
    },
    "tags": []
   },
   "outputs": [
    {
     "name": "stdout",
     "output_type": "stream",
     "text": [
      "Final Columns after MTeams merge: Index(['Season', 'WTeamID', 'WScore', 'LTeamID', 'LScore', 'WLoc', 'WFGM',\n",
      "       'WFGA', 'WFGM3', 'WFGA3', 'WFTM', 'WFTA', 'WOR', 'WDR', 'WAst', 'WTO',\n",
      "       'WStl', 'WBlk', 'WPF', 'LFGM', 'LFGA', 'LFGM3', 'LFGA3', 'LFTM', 'LFTA',\n",
      "       'LOR', 'LDR', 'LAst', 'LTO', 'LStl', 'LBlk', 'LPF', 'Slot', 'WRegion',\n",
      "       'LRegion', 'WPlayIn', 'LPlayIn', 'WSeedNum', 'LSeedNum', 'WConf',\n",
      "       'LConf', 'ConfTourney', 'WTeamName', 'LTeamName'],\n",
      "      dtype='object')\n"
     ]
    }
   ],
   "source": [
    "print(\"Final Columns after MTeams merge:\", tourney_results.columns)"
   ]
  },
  {
   "cell_type": "code",
   "execution_count": 122,
   "id": "6f4992be",
   "metadata": {
    "execution": {
     "iopub.execute_input": "2025-03-18T15:19:22.328460Z",
     "iopub.status.busy": "2025-03-18T15:19:22.327947Z",
     "iopub.status.idle": "2025-03-18T15:19:22.334273Z",
     "shell.execute_reply": "2025-03-18T15:19:22.333160Z"
    },
    "papermill": {
     "duration": 0.080291,
     "end_time": "2025-03-18T15:19:22.336403",
     "exception": false,
     "start_time": "2025-03-18T15:19:22.256112",
     "status": "completed"
    },
    "tags": []
   },
   "outputs": [
    {
     "name": "stdout",
     "output_type": "stream",
     "text": [
      "Final Columns after WTeams merge: Index(['Season', 'WTeamID', 'WScore', 'LTeamID', 'LScore', 'WLoc', 'WFGM',\n",
      "       'WFGA', 'WFGM3', 'WFGA3', 'WFTM', 'WFTA', 'WOR', 'WDR', 'WAst', 'WTO',\n",
      "       'WStl', 'WBlk', 'WPF', 'LFGM', 'LFGA', 'LFGM3', 'LFGA3', 'LFTM', 'LFTA',\n",
      "       'LOR', 'LDR', 'LAst', 'LTO', 'LStl', 'LBlk', 'LPF', 'Slot', 'WRegion',\n",
      "       'LRegion', 'WPlayIn', 'LPlayIn', 'WSeedNum', 'LSeedNum', 'WConf',\n",
      "       'LConf', 'ConfTourney', 'WTeamName', 'LTeamName'],\n",
      "      dtype='object')\n"
     ]
    }
   ],
   "source": [
    "print(\"Final Columns after WTeams merge:\", wtourney_results.columns)"
   ]
  },
  {
   "cell_type": "code",
   "execution_count": 123,
   "id": "9998d38a",
   "metadata": {
    "_cell_guid": "e4f47eaf-1e1e-4125-b8a7-9e4ff52fe16b",
    "_uuid": "07544cd5-d29b-42ce-914f-937413d7e83e",
    "collapsed": false,
    "execution": {
     "iopub.execute_input": "2025-03-18T15:19:22.438835Z",
     "iopub.status.busy": "2025-03-18T15:19:22.438418Z",
     "iopub.status.idle": "2025-03-18T15:19:22.453685Z",
     "shell.execute_reply": "2025-03-18T15:19:22.452014Z"
    },
    "id": "7ucVgwgVGslv",
    "jupyter": {
     "outputs_hidden": false
    },
    "outputId": "43783f0f-975b-44e4-f34d-d550a9782d12",
    "papermill": {
     "duration": 0.068878,
     "end_time": "2025-03-18T15:19:22.455707",
     "exception": false,
     "start_time": "2025-03-18T15:19:22.386829",
     "status": "completed"
    },
    "tags": []
   },
   "outputs": [
    {
     "name": "stdout",
     "output_type": "stream",
     "text": [
      "   Season  WTeamID  WScore  LTeamID  LScore WLoc       WFGM       WFGA  \\\n",
      "0    1985   1116.0    63.0   1234.0    54.0    N  26.485341  55.827448   \n",
      "1    1985   1120.0    59.0   1345.0    58.0    N  26.485341  55.827448   \n",
      "2    1985   1207.0    68.0   1250.0    43.0    N  26.485341  55.827448   \n",
      "3    1985   1229.0    58.0   1425.0    55.0    N  26.485341  55.827448   \n",
      "4    1985   1242.0    49.0   1325.0    38.0    N  26.485341  55.827448   \n",
      "\n",
      "      WFGM3      WFGA3  ...  LRegion  WPlayIn  LPlayIn  WSeedNum  LSeedNum  \\\n",
      "0  7.110604  18.666105  ...        W        0        0       3.0       7.0   \n",
      "1  7.110604  18.666105  ...        W        0        0       5.0       3.0   \n",
      "2  7.110604  18.666105  ...        W        0        0       2.0      16.0   \n",
      "3  7.110604  18.666105  ...        W        0        0      16.0      11.0   \n",
      "4  7.110604  18.666105  ...        W        0        0       1.0      13.0   \n",
      "\n",
      "       WConf    LConf  ConfTourney    WTeamName  LTeamName  \n",
      "0        swc  big_ten      Unknown     Arkansas       Iowa  \n",
      "1        sec  big_ten      Unknown       Auburn     Purdue  \n",
      "2   big_east      ecc      Unknown   Georgetown     Lehigh  \n",
      "3        mvc  pac_ten      Unknown  Illinois St        USC  \n",
      "4  big_eight      mac      Unknown       Kansas       Ohio  \n",
      "\n",
      "[5 rows x 44 columns]\n"
     ]
    }
   ],
   "source": [
    "print(tourney_results.head())"
   ]
  },
  {
   "cell_type": "code",
   "execution_count": 124,
   "id": "364be91f",
   "metadata": {
    "execution": {
     "iopub.execute_input": "2025-03-18T15:19:22.565970Z",
     "iopub.status.busy": "2025-03-18T15:19:22.565603Z",
     "iopub.status.idle": "2025-03-18T15:19:22.580879Z",
     "shell.execute_reply": "2025-03-18T15:19:22.579208Z"
    },
    "papermill": {
     "duration": 0.068204,
     "end_time": "2025-03-18T15:19:22.582861",
     "exception": false,
     "start_time": "2025-03-18T15:19:22.514657",
     "status": "completed"
    },
    "tags": []
   },
   "outputs": [
    {
     "name": "stdout",
     "output_type": "stream",
     "text": [
      "   Season  WTeamID  WScore  LTeamID  LScore WLoc       WFGM       WFGA  \\\n",
      "0    1998   3104.0    94.0   3422.0    46.0    H  27.838585  60.098432   \n",
      "1    1998   3112.0    75.0   3365.0    63.0    H  27.838585  60.098432   \n",
      "2    1998   3163.0    93.0   3193.0    52.0    H  27.838585  60.098432   \n",
      "3    1998   3198.0    59.0   3266.0    45.0    H  27.838585  60.098432   \n",
      "4    1998   3203.0    74.0   3208.0    72.0    A  27.838585  60.098432   \n",
      "\n",
      "      WFGM3      WFGA3  ...  LRegion  WPlayIn  LPlayIn  WSeedNum  LSeedNum  \\\n",
      "0  6.125687  16.644873  ...        Z        0        0       8.0      16.0   \n",
      "1  6.125687  16.644873  ...        Z        0        0       3.0      16.0   \n",
      "2  6.125687  16.644873  ...        Z        0        0       1.0      13.0   \n",
      "3  6.125687  16.644873  ...        Z        0        0      16.0      10.0   \n",
      "4  6.125687  16.644873  ...        Z        0        0      16.0       4.0   \n",
      "\n",
      "      WConf     LConf  ConfTourney     WTeamName       LTeamName  \n",
      "0       sec  southern      Unknown       Alabama  UNC Greensboro  \n",
      "1   pac_ten       wcc      Unknown       Arizona     Santa Clara  \n",
      "2  big_east      maac      Unknown   Connecticut       Fairfield  \n",
      "3     a_sun      cusa      Unknown  Florida Intl       Marquette  \n",
      "4     a_ten       sec      Unknown  G Washington         Georgia  \n",
      "\n",
      "[5 rows x 44 columns]\n"
     ]
    }
   ],
   "source": [
    "print(wtourney_results.head())"
   ]
  },
  {
   "cell_type": "code",
   "execution_count": 125,
   "id": "af6e1bfc",
   "metadata": {
    "_cell_guid": "6d8208a9-10e2-42d9-9e3d-07c69848e50c",
    "_uuid": "f4269a6c-5a07-4ec5-96bd-48876dea217b",
    "collapsed": false,
    "execution": {
     "iopub.execute_input": "2025-03-18T15:19:22.695535Z",
     "iopub.status.busy": "2025-03-18T15:19:22.695183Z",
     "iopub.status.idle": "2025-03-18T15:19:22.709215Z",
     "shell.execute_reply": "2025-03-18T15:19:22.707683Z"
    },
    "id": "ZZ9oniUuGso4",
    "jupyter": {
     "outputs_hidden": false
    },
    "outputId": "3f34998b-fbf7-4902-b6f7-8f87f65a00f3",
    "papermill": {
     "duration": 0.07972,
     "end_time": "2025-03-18T15:19:22.712427",
     "exception": false,
     "start_time": "2025-03-18T15:19:22.632707",
     "status": "completed"
    },
    "tags": []
   },
   "outputs": [
    {
     "name": "stdout",
     "output_type": "stream",
     "text": [
      "       Season    WTeamName      LTeamName\n",
      "2451     2024  Colorado St       Virginia\n",
      "2452     2024       Wagner         Howard\n",
      "2453     2024     Colorado       Boise St\n",
      "2454     2024    Grambling     Montana St\n",
      "2455     2024      Arizona  Long Beach St\n",
      "...       ...          ...            ...\n",
      "94707    2024  Connecticut         Purdue\n",
      "94708    2024  Connecticut         Purdue\n",
      "94709    2024  Connecticut         Purdue\n",
      "94710    2024  Connecticut         Purdue\n",
      "94711    2024  Connecticut         Purdue\n",
      "\n",
      "[4556 rows x 3 columns]\n"
     ]
    }
   ],
   "source": [
    "# Filter the dataset for Season 2024\n",
    "season_2024_results = tourney_results[tourney_results[\"Season\"] == 2024]\n",
    "\n",
    "# Display Winning and Losing Team Names\n",
    "print(season_2024_results[[\"Season\", \"WTeamName\", \"LTeamName\"]])"
   ]
  },
  {
   "cell_type": "code",
   "execution_count": 126,
   "id": "f2968e62",
   "metadata": {
    "execution": {
     "iopub.execute_input": "2025-03-18T15:19:22.822418Z",
     "iopub.status.busy": "2025-03-18T15:19:22.821822Z",
     "iopub.status.idle": "2025-03-18T15:19:22.836311Z",
     "shell.execute_reply": "2025-03-18T15:19:22.835101Z"
    },
    "papermill": {
     "duration": 0.066282,
     "end_time": "2025-03-18T15:19:22.838663",
     "exception": false,
     "start_time": "2025-03-18T15:19:22.772381",
     "status": "completed"
    },
    "tags": []
   },
   "outputs": [
    {
     "name": "stdout",
     "output_type": "stream",
     "text": [
      "       Season       WTeamName     LTeamName\n",
      "1583     2024    Presbyterian  Sacred Heart\n",
      "1584     2024      Vanderbilt      Columbia\n",
      "1585     2024         Arizona        Auburn\n",
      "1586     2024      Holy Cross     TN Martin\n",
      "1587     2024         Alabama    Florida St\n",
      "...       ...             ...           ...\n",
      "59590    2024  South Carolina          Iowa\n",
      "59591    2024  South Carolina          Iowa\n",
      "59592    2024  South Carolina          Iowa\n",
      "59593    2024  South Carolina          Iowa\n",
      "59594    2024  South Carolina          Iowa\n",
      "\n",
      "[4556 rows x 3 columns]\n"
     ]
    }
   ],
   "source": [
    "# Filter the dataset for Season 2024\n",
    "wseason_2024_results = wtourney_results[wtourney_results[\"Season\"] == 2024]\n",
    "\n",
    "# Display Winning and Losing Team Names\n",
    "print(wseason_2024_results[[\"Season\", \"WTeamName\", \"LTeamName\"]])"
   ]
  },
  {
   "cell_type": "code",
   "execution_count": 127,
   "id": "800e071e",
   "metadata": {
    "_cell_guid": "f83e1ba4-0176-4c51-bd88-faeaff1fe1fb",
    "_uuid": "196c91da-a2eb-4835-b8d3-ae15b887c3ba",
    "collapsed": false,
    "execution": {
     "iopub.execute_input": "2025-03-18T15:19:22.937395Z",
     "iopub.status.busy": "2025-03-18T15:19:22.936978Z",
     "iopub.status.idle": "2025-03-18T15:19:22.944984Z",
     "shell.execute_reply": "2025-03-18T15:19:22.943341Z"
    },
    "id": "5nVqgBtIGsr7",
    "jupyter": {
     "outputs_hidden": false
    },
    "outputId": "748c4123-25ff-4867-afe2-1dabf7fbc7ac",
    "papermill": {
     "duration": 0.059584,
     "end_time": "2025-03-18T15:19:22.947196",
     "exception": false,
     "start_time": "2025-03-18T15:19:22.887612",
     "status": "completed"
    },
    "tags": []
   },
   "outputs": [
    {
     "name": "stdout",
     "output_type": "stream",
     "text": [
      "Most Winning Team in 2024: Connecticut\n"
     ]
    }
   ],
   "source": [
    "# Count the number of wins per team in 2024\n",
    "most_winning_team = season_2024_results[\"WTeamName\"].value_counts().idxmax()\n",
    "print(\"Most Winning Team in 2024:\", most_winning_team)"
   ]
  },
  {
   "cell_type": "code",
   "execution_count": 128,
   "id": "e559cca6",
   "metadata": {
    "execution": {
     "iopub.execute_input": "2025-03-18T15:19:23.050831Z",
     "iopub.status.busy": "2025-03-18T15:19:23.050501Z",
     "iopub.status.idle": "2025-03-18T15:19:23.058028Z",
     "shell.execute_reply": "2025-03-18T15:19:23.056516Z"
    },
    "papermill": {
     "duration": 0.063888,
     "end_time": "2025-03-18T15:19:23.059857",
     "exception": false,
     "start_time": "2025-03-18T15:19:22.995969",
     "status": "completed"
    },
    "tags": []
   },
   "outputs": [
    {
     "name": "stdout",
     "output_type": "stream",
     "text": [
      "Most Winning Team in 2024: South Carolina\n"
     ]
    }
   ],
   "source": [
    "# Count the number of wins per team in 2024\n",
    "wmost_winning_team = wseason_2024_results[\"WTeamName\"].value_counts().idxmax()\n",
    "print(\"Most Winning Team in 2024:\", wmost_winning_team)"
   ]
  },
  {
   "cell_type": "code",
   "execution_count": 129,
   "id": "41f065d4",
   "metadata": {
    "_cell_guid": "f82cd4ec-a045-42bd-9b7c-f95b381c4221",
    "_uuid": "094a761e-dc9d-44a9-b990-c79970cae0c7",
    "collapsed": false,
    "execution": {
     "iopub.execute_input": "2025-03-18T15:19:23.159627Z",
     "iopub.status.busy": "2025-03-18T15:19:23.159041Z",
     "iopub.status.idle": "2025-03-18T15:19:23.172184Z",
     "shell.execute_reply": "2025-03-18T15:19:23.170944Z"
    },
    "id": "rmDM3C3MGsu8",
    "jupyter": {
     "outputs_hidden": false
    },
    "outputId": "03bf1b09-2a7c-4094-c4b7-3887a7387ddd",
    "papermill": {
     "duration": 0.065908,
     "end_time": "2025-03-18T15:19:23.174503",
     "exception": false,
     "start_time": "2025-03-18T15:19:23.108595",
     "status": "completed"
    },
    "tags": []
   },
   "outputs": [
    {
     "name": "stdout",
     "output_type": "stream",
     "text": [
      "       Season    WTeamName LTeamName\n",
      "94711    2024  Connecticut    Purdue\n"
     ]
    }
   ],
   "source": [
    "# Filter data for 2024 season\n",
    "season_2024_results = tourney_results[tourney_results[\"Season\"] == 2024]\n",
    "\n",
    "# Display the last recorded game (final game of the tournament)\n",
    "final_game = season_2024_results.tail(1)  # Last row is usually the final game\n",
    "print(final_game[[\"Season\", \"WTeamName\", \"LTeamName\"]])"
   ]
  },
  {
   "cell_type": "code",
   "execution_count": 130,
   "id": "6581c9a5",
   "metadata": {
    "execution": {
     "iopub.execute_input": "2025-03-18T15:19:23.277244Z",
     "iopub.status.busy": "2025-03-18T15:19:23.276842Z",
     "iopub.status.idle": "2025-03-18T15:19:23.288426Z",
     "shell.execute_reply": "2025-03-18T15:19:23.286823Z"
    },
    "papermill": {
     "duration": 0.062196,
     "end_time": "2025-03-18T15:19:23.290148",
     "exception": false,
     "start_time": "2025-03-18T15:19:23.227952",
     "status": "completed"
    },
    "tags": []
   },
   "outputs": [
    {
     "name": "stdout",
     "output_type": "stream",
     "text": [
      "       Season       WTeamName LTeamName\n",
      "59594    2024  South Carolina      Iowa\n"
     ]
    }
   ],
   "source": [
    "# Filter data for 2024 season\n",
    "wseason_2024_results = wtourney_results[wtourney_results[\"Season\"] == 2024]\n",
    "\n",
    "# Display the last recorded game (final game of the tournament)\n",
    "wfinal_game = wseason_2024_results.tail(1)  # Last row is usually the final game\n",
    "print(wfinal_game[[\"Season\", \"WTeamName\", \"LTeamName\"]])"
   ]
  },
  {
   "cell_type": "code",
   "execution_count": 131,
   "id": "ccfe230a",
   "metadata": {
    "_cell_guid": "cd82090e-8425-437c-b050-66a2eebf1108",
    "_uuid": "66a198e7-8c01-4e1c-b93e-d1a2ff8ce00c",
    "collapsed": false,
    "execution": {
     "iopub.execute_input": "2025-03-18T15:19:23.389846Z",
     "iopub.status.busy": "2025-03-18T15:19:23.389499Z",
     "iopub.status.idle": "2025-03-18T15:19:23.562102Z",
     "shell.execute_reply": "2025-03-18T15:19:23.560566Z"
    },
    "id": "y-g4xYQiGs1B",
    "jupyter": {
     "outputs_hidden": false
    },
    "outputId": "be0f68af-92c8-4014-a095-85b4093105ee",
    "papermill": {
     "duration": 0.224736,
     "end_time": "2025-03-18T15:19:23.564337",
     "exception": false,
     "start_time": "2025-03-18T15:19:23.339601",
     "status": "completed"
    },
    "tags": []
   },
   "outputs": [
    {
     "name": "stdout",
     "output_type": "stream",
     "text": [
      "0\n"
     ]
    },
    {
     "data": {
      "text/plain": [
       "Season         0\n",
       "WTeamID        0\n",
       "WScore         0\n",
       "LTeamID        0\n",
       "LScore         0\n",
       "WLoc           0\n",
       "WFGM           0\n",
       "WFGA           0\n",
       "WFGM3          0\n",
       "WFGA3          0\n",
       "WFTM           0\n",
       "WFTA           0\n",
       "WOR            0\n",
       "WDR            0\n",
       "WAst           0\n",
       "WTO            0\n",
       "WStl           0\n",
       "WBlk           0\n",
       "WPF            0\n",
       "LFGM           0\n",
       "LFGA           0\n",
       "LFGM3          0\n",
       "LFGA3          0\n",
       "LFTM           0\n",
       "LFTA           0\n",
       "LOR            0\n",
       "LDR            0\n",
       "LAst           0\n",
       "LTO            0\n",
       "LStl           0\n",
       "LBlk           0\n",
       "LPF            0\n",
       "Slot           0\n",
       "WRegion        0\n",
       "LRegion        0\n",
       "WPlayIn        0\n",
       "LPlayIn        0\n",
       "WSeedNum       0\n",
       "LSeedNum       0\n",
       "WConf          0\n",
       "LConf          0\n",
       "ConfTourney    0\n",
       "WTeamName      0\n",
       "LTeamName      0\n",
       "dtype: int64"
      ]
     },
     "execution_count": 131,
     "metadata": {},
     "output_type": "execute_result"
    }
   ],
   "source": [
    "print(tourney_results.duplicated().sum())\n",
    "tourney_results.isna().sum()"
   ]
  },
  {
   "cell_type": "code",
   "execution_count": 132,
   "id": "3bbd9981",
   "metadata": {
    "execution": {
     "iopub.execute_input": "2025-03-18T15:19:23.668892Z",
     "iopub.status.busy": "2025-03-18T15:19:23.668470Z",
     "iopub.status.idle": "2025-03-18T15:19:23.792039Z",
     "shell.execute_reply": "2025-03-18T15:19:23.790808Z"
    },
    "papermill": {
     "duration": 0.178315,
     "end_time": "2025-03-18T15:19:23.794117",
     "exception": false,
     "start_time": "2025-03-18T15:19:23.615802",
     "status": "completed"
    },
    "tags": []
   },
   "outputs": [
    {
     "name": "stdout",
     "output_type": "stream",
     "text": [
      "0\n"
     ]
    },
    {
     "data": {
      "text/plain": [
       "Season         0\n",
       "WTeamID        0\n",
       "WScore         0\n",
       "LTeamID        0\n",
       "LScore         0\n",
       "WLoc           0\n",
       "WFGM           0\n",
       "WFGA           0\n",
       "WFGM3          0\n",
       "WFGA3          0\n",
       "WFTM           0\n",
       "WFTA           0\n",
       "WOR            0\n",
       "WDR            0\n",
       "WAst           0\n",
       "WTO            0\n",
       "WStl           0\n",
       "WBlk           0\n",
       "WPF            0\n",
       "LFGM           0\n",
       "LFGA           0\n",
       "LFGM3          0\n",
       "LFGA3          0\n",
       "LFTM           0\n",
       "LFTA           0\n",
       "LOR            0\n",
       "LDR            0\n",
       "LAst           0\n",
       "LTO            0\n",
       "LStl           0\n",
       "LBlk           0\n",
       "LPF            0\n",
       "Slot           0\n",
       "WRegion        0\n",
       "LRegion        0\n",
       "WPlayIn        0\n",
       "LPlayIn        0\n",
       "WSeedNum       0\n",
       "LSeedNum       0\n",
       "WConf          0\n",
       "LConf          0\n",
       "ConfTourney    0\n",
       "WTeamName      0\n",
       "LTeamName      0\n",
       "dtype: int64"
      ]
     },
     "execution_count": 132,
     "metadata": {},
     "output_type": "execute_result"
    }
   ],
   "source": [
    "print(wtourney_results.duplicated().sum())\n",
    "wtourney_results.isna().sum()"
   ]
  },
  {
   "cell_type": "code",
   "execution_count": 133,
   "id": "432b95c5",
   "metadata": {
    "_cell_guid": "c7744575-32f1-4664-9bbc-50a4aefea610",
    "_uuid": "09c3e820-eb7d-446c-b42d-82f964beb41f",
    "collapsed": false,
    "execution": {
     "iopub.execute_input": "2025-03-18T15:19:23.899123Z",
     "iopub.status.busy": "2025-03-18T15:19:23.898712Z",
     "iopub.status.idle": "2025-03-18T15:19:23.908833Z",
     "shell.execute_reply": "2025-03-18T15:19:23.907449Z"
    },
    "id": "hLqogQPhGs4Y",
    "jupyter": {
     "outputs_hidden": false
    },
    "outputId": "5f291813-18a4-41df-d473-357c4af3aea1",
    "papermill": {
     "duration": 0.066297,
     "end_time": "2025-03-18T15:19:23.911122",
     "exception": false,
     "start_time": "2025-03-18T15:19:23.844825",
     "status": "completed"
    },
    "tags": []
   },
   "outputs": [
    {
     "name": "stdout",
     "output_type": "stream",
     "text": [
      "['Unknown' 'acc']\n"
     ]
    }
   ],
   "source": [
    "print(tourney_results[\"ConfTourney\"].unique())"
   ]
  },
  {
   "cell_type": "code",
   "execution_count": 134,
   "id": "9fdfec71",
   "metadata": {
    "execution": {
     "iopub.execute_input": "2025-03-18T15:19:24.011206Z",
     "iopub.status.busy": "2025-03-18T15:19:24.010777Z",
     "iopub.status.idle": "2025-03-18T15:19:24.020006Z",
     "shell.execute_reply": "2025-03-18T15:19:24.018515Z"
    },
    "papermill": {
     "duration": 0.062274,
     "end_time": "2025-03-18T15:19:24.022495",
     "exception": false,
     "start_time": "2025-03-18T15:19:23.960221",
     "status": "completed"
    },
    "tags": []
   },
   "outputs": [
    {
     "name": "stdout",
     "output_type": "stream",
     "text": [
      "['Unknown' 'acc' 'sec' 'big_east' 'pac_twelve']\n"
     ]
    }
   ],
   "source": [
    "print(wtourney_results[\"ConfTourney\"].unique())"
   ]
  },
  {
   "cell_type": "code",
   "execution_count": 135,
   "id": "f53b881d",
   "metadata": {
    "_cell_guid": "f09f836e-3a4f-4738-9bfc-e5cee03d1b13",
    "_uuid": "44ca2380-21e2-4b5e-89ff-302659d9669e",
    "collapsed": false,
    "execution": {
     "iopub.execute_input": "2025-03-18T15:19:24.133529Z",
     "iopub.status.busy": "2025-03-18T15:19:24.132910Z",
     "iopub.status.idle": "2025-03-18T15:19:24.144828Z",
     "shell.execute_reply": "2025-03-18T15:19:24.143034Z"
    },
    "id": "1RmhhRBxNuv4",
    "jupyter": {
     "outputs_hidden": false
    },
    "outputId": "84cb3620-6b40-4068-b1c1-8c681389cddf",
    "papermill": {
     "duration": 0.069952,
     "end_time": "2025-03-18T15:19:24.146987",
     "exception": false,
     "start_time": "2025-03-18T15:19:24.077035",
     "status": "completed"
    },
    "tags": []
   },
   "outputs": [
    {
     "name": "stdout",
     "output_type": "stream",
     "text": [
      "['swc' 'sec' 'big_east' 'mvc' 'big_eight' 'southland' 'mw_city' 'acc'\n",
      " 'ind' 'big_ten' 'a_ten' 'pcaa' 'metro' 'ecacs' 'sun_belt' 'wac' 'a_sun'\n",
      " 'mid_cont' 'caa' 'ovc' 'pac_ten' 'mw_coll' 'wcc' 'mac' 'asc' 'nac'\n",
      " 'big_west' 'maac' 'gmwc' 'southern' 'swac' 'ivy' 'big_sky' 'cusa'\n",
      " 'big_twelve' 'meac' 'mwc' 'big_south' 'horizon' 'patriot' 'aec' 'nec'\n",
      " 'pac_twelve' 'aac' 'summit']\n"
     ]
    }
   ],
   "source": [
    "print(tourney_results[\"WConf\"].unique())"
   ]
  },
  {
   "cell_type": "code",
   "execution_count": 136,
   "id": "71ea1ac4",
   "metadata": {
    "execution": {
     "iopub.execute_input": "2025-03-18T15:19:24.252012Z",
     "iopub.status.busy": "2025-03-18T15:19:24.251553Z",
     "iopub.status.idle": "2025-03-18T15:19:24.261120Z",
     "shell.execute_reply": "2025-03-18T15:19:24.259695Z"
    },
    "papermill": {
     "duration": 0.065582,
     "end_time": "2025-03-18T15:19:24.263182",
     "exception": false,
     "start_time": "2025-03-18T15:19:24.197600",
     "status": "completed"
    },
    "tags": []
   },
   "outputs": [
    {
     "name": "stdout",
     "output_type": "stream",
     "text": [
      "['sec' 'pac_ten' 'big_east' 'a_sun' 'a_ten' 'big_ten' 'big_twelve' 'acc'\n",
      " 'caa' 'mid_cont' 'wac' 'ivy' 'sun_belt' 'cusa' 'big_west' 'aec' 'mvc'\n",
      " 'southland' 'wcc' 'mwc' 'horizon' 'southern' 'big_south' 'maac' 'mac'\n",
      " 'summit' 'pac_twelve' 'aac' 'ovc' 'meac' 'nec' 'patriot']\n"
     ]
    }
   ],
   "source": [
    "print(wtourney_results[\"WConf\"].unique())"
   ]
  },
  {
   "cell_type": "code",
   "execution_count": 137,
   "id": "11903466",
   "metadata": {
    "_cell_guid": "7212dcd7-04bb-41c3-bcb0-403874ae1466",
    "_uuid": "d8b125c5-8a19-4d69-b39c-6d730d419f8d",
    "collapsed": false,
    "execution": {
     "iopub.execute_input": "2025-03-18T15:19:24.371091Z",
     "iopub.status.busy": "2025-03-18T15:19:24.370625Z",
     "iopub.status.idle": "2025-03-18T15:19:24.394722Z",
     "shell.execute_reply": "2025-03-18T15:19:24.393388Z"
    },
    "id": "nL4byQbZNuzT",
    "jupyter": {
     "outputs_hidden": false
    },
    "papermill": {
     "duration": 0.080421,
     "end_time": "2025-03-18T15:19:24.397030",
     "exception": false,
     "start_time": "2025-03-18T15:19:24.316609",
     "status": "completed"
    },
    "tags": []
   },
   "outputs": [],
   "source": [
    "tourney_results.drop(columns=['ConfTourney'], inplace=True, errors=\"ignore\")"
   ]
  },
  {
   "cell_type": "code",
   "execution_count": 138,
   "id": "c8d711d7",
   "metadata": {
    "execution": {
     "iopub.execute_input": "2025-03-18T15:19:24.498637Z",
     "iopub.status.busy": "2025-03-18T15:19:24.498179Z",
     "iopub.status.idle": "2025-03-18T15:19:24.516968Z",
     "shell.execute_reply": "2025-03-18T15:19:24.515617Z"
    },
    "papermill": {
     "duration": 0.071849,
     "end_time": "2025-03-18T15:19:24.519159",
     "exception": false,
     "start_time": "2025-03-18T15:19:24.447310",
     "status": "completed"
    },
    "tags": []
   },
   "outputs": [],
   "source": [
    "wtourney_results.drop(columns=['ConfTourney'], inplace=True, errors=\"ignore\")"
   ]
  },
  {
   "cell_type": "code",
   "execution_count": 139,
   "id": "45d57490",
   "metadata": {
    "_cell_guid": "5efb111b-2a42-4993-ac4a-ff1914d4ca8f",
    "_uuid": "2f04852b-a331-4aaf-8159-22dc07c3d618",
    "collapsed": false,
    "execution": {
     "iopub.execute_input": "2025-03-18T15:19:24.621732Z",
     "iopub.status.busy": "2025-03-18T15:19:24.621116Z",
     "iopub.status.idle": "2025-03-18T15:19:24.628805Z",
     "shell.execute_reply": "2025-03-18T15:19:24.627210Z"
    },
    "id": "zIIWr2umNu2m",
    "jupyter": {
     "outputs_hidden": false
    },
    "outputId": "ba2c468b-4d28-486c-ae8d-21796084f93a",
    "papermill": {
     "duration": 0.061528,
     "end_time": "2025-03-18T15:19:24.631023",
     "exception": false,
     "start_time": "2025-03-18T15:19:24.569495",
     "status": "completed"
    },
    "tags": []
   },
   "outputs": [
    {
     "name": "stdout",
     "output_type": "stream",
     "text": [
      "Final Columns: Index(['Season', 'WTeamID', 'WScore', 'LTeamID', 'LScore', 'WLoc', 'WFGM',\n",
      "       'WFGA', 'WFGM3', 'WFGA3', 'WFTM', 'WFTA', 'WOR', 'WDR', 'WAst', 'WTO',\n",
      "       'WStl', 'WBlk', 'WPF', 'LFGM', 'LFGA', 'LFGM3', 'LFGA3', 'LFTM', 'LFTA',\n",
      "       'LOR', 'LDR', 'LAst', 'LTO', 'LStl', 'LBlk', 'LPF', 'Slot', 'WRegion',\n",
      "       'LRegion', 'WPlayIn', 'LPlayIn', 'WSeedNum', 'LSeedNum', 'WConf',\n",
      "       'LConf', 'WTeamName', 'LTeamName'],\n",
      "      dtype='object')\n"
     ]
    }
   ],
   "source": [
    "print(\"Final Columns:\", tourney_results.columns)"
   ]
  },
  {
   "cell_type": "code",
   "execution_count": 140,
   "id": "bde6562f",
   "metadata": {
    "execution": {
     "iopub.execute_input": "2025-03-18T15:19:24.734547Z",
     "iopub.status.busy": "2025-03-18T15:19:24.733898Z",
     "iopub.status.idle": "2025-03-18T15:19:24.741982Z",
     "shell.execute_reply": "2025-03-18T15:19:24.740587Z"
    },
    "papermill": {
     "duration": 0.062793,
     "end_time": "2025-03-18T15:19:24.743950",
     "exception": false,
     "start_time": "2025-03-18T15:19:24.681157",
     "status": "completed"
    },
    "tags": []
   },
   "outputs": [
    {
     "name": "stdout",
     "output_type": "stream",
     "text": [
      "Final Columns: Index(['Season', 'WTeamID', 'WScore', 'LTeamID', 'LScore', 'WLoc', 'WFGM',\n",
      "       'WFGA', 'WFGM3', 'WFGA3', 'WFTM', 'WFTA', 'WOR', 'WDR', 'WAst', 'WTO',\n",
      "       'WStl', 'WBlk', 'WPF', 'LFGM', 'LFGA', 'LFGM3', 'LFGA3', 'LFTM', 'LFTA',\n",
      "       'LOR', 'LDR', 'LAst', 'LTO', 'LStl', 'LBlk', 'LPF', 'Slot', 'WRegion',\n",
      "       'LRegion', 'WPlayIn', 'LPlayIn', 'WSeedNum', 'LSeedNum', 'WConf',\n",
      "       'LConf', 'WTeamName', 'LTeamName'],\n",
      "      dtype='object')\n"
     ]
    }
   ],
   "source": [
    "print(\"Final Columns:\", wtourney_results.columns)"
   ]
  },
  {
   "cell_type": "code",
   "execution_count": 141,
   "id": "c35d97ef",
   "metadata": {
    "_cell_guid": "a4ed4aea-3d3d-47cc-a12a-5681ab8e4c3e",
    "_uuid": "03f2e01c-f9d6-4a09-ba0b-e7dabe10bb6c",
    "collapsed": false,
    "execution": {
     "iopub.execute_input": "2025-03-18T15:19:24.848673Z",
     "iopub.status.busy": "2025-03-18T15:19:24.848262Z",
     "iopub.status.idle": "2025-03-18T15:19:24.859543Z",
     "shell.execute_reply": "2025-03-18T15:19:24.858243Z"
    },
    "id": "nyuNC_ajDC-v",
    "jupyter": {
     "outputs_hidden": false
    },
    "outputId": "d1d3ca7f-c9c5-4d8b-f306-7ca856c11ace",
    "papermill": {
     "duration": 0.06616,
     "end_time": "2025-03-18T15:19:24.861859",
     "exception": false,
     "start_time": "2025-03-18T15:19:24.795699",
     "status": "completed"
    },
    "tags": []
   },
   "outputs": [
    {
     "name": "stdout",
     "output_type": "stream",
     "text": [
      "['N']\n"
     ]
    }
   ],
   "source": [
    "print(tourney_results[\"WLoc\"].unique())"
   ]
  },
  {
   "cell_type": "code",
   "execution_count": 142,
   "id": "ac905506",
   "metadata": {
    "execution": {
     "iopub.execute_input": "2025-03-18T15:19:25.001888Z",
     "iopub.status.busy": "2025-03-18T15:19:25.001508Z",
     "iopub.status.idle": "2025-03-18T15:19:25.010710Z",
     "shell.execute_reply": "2025-03-18T15:19:25.008871Z"
    },
    "papermill": {
     "duration": 0.089607,
     "end_time": "2025-03-18T15:19:25.012811",
     "exception": false,
     "start_time": "2025-03-18T15:19:24.923204",
     "status": "completed"
    },
    "tags": []
   },
   "outputs": [
    {
     "name": "stdout",
     "output_type": "stream",
     "text": [
      "['H' 'A' 'N']\n"
     ]
    }
   ],
   "source": [
    "print(wtourney_results[\"WLoc\"].unique())"
   ]
  },
  {
   "cell_type": "code",
   "execution_count": 143,
   "id": "10092fb5",
   "metadata": {
    "_cell_guid": "508a551f-fe5f-4058-bdb9-406158778898",
    "_uuid": "dfce3aba-e28b-472c-bba0-342662180762",
    "collapsed": false,
    "execution": {
     "iopub.execute_input": "2025-03-18T15:19:25.116253Z",
     "iopub.status.busy": "2025-03-18T15:19:25.115771Z",
     "iopub.status.idle": "2025-03-18T15:19:25.121811Z",
     "shell.execute_reply": "2025-03-18T15:19:25.120040Z"
    },
    "id": "3aIIX5-sDDEH",
    "jupyter": {
     "outputs_hidden": false
    },
    "papermill": {
     "duration": 0.058013,
     "end_time": "2025-03-18T15:19:25.123811",
     "exception": false,
     "start_time": "2025-03-18T15:19:25.065798",
     "status": "completed"
    },
    "tags": []
   },
   "outputs": [
    {
     "name": "stdout",
     "output_type": "stream",
     "text": [
      "94779\n"
     ]
    }
   ],
   "source": [
    "print(len(tourney_results))"
   ]
  },
  {
   "cell_type": "code",
   "execution_count": 144,
   "id": "6ce721f0",
   "metadata": {
    "execution": {
     "iopub.execute_input": "2025-03-18T15:19:25.226017Z",
     "iopub.status.busy": "2025-03-18T15:19:25.225649Z",
     "iopub.status.idle": "2025-03-18T15:19:25.231521Z",
     "shell.execute_reply": "2025-03-18T15:19:25.230151Z"
    },
    "papermill": {
     "duration": 0.059534,
     "end_time": "2025-03-18T15:19:25.233474",
     "exception": false,
     "start_time": "2025-03-18T15:19:25.173940",
     "status": "completed"
    },
    "tags": []
   },
   "outputs": [
    {
     "name": "stdout",
     "output_type": "stream",
     "text": [
      "59662\n"
     ]
    }
   ],
   "source": [
    "print(len(wtourney_results))"
   ]
  },
  {
   "cell_type": "markdown",
   "id": "86c9bcf1",
   "metadata": {
    "_cell_guid": "25d6a8d6-6db8-4ccc-944b-34a25625e8f2",
    "_uuid": "da99aa1b-bdf6-4e9f-b583-d9e115bf5d75",
    "collapsed": false,
    "id": "4ir-QGftVQx3",
    "jupyter": {
     "outputs_hidden": false
    },
    "papermill": {
     "duration": 0.049557,
     "end_time": "2025-03-18T15:19:25.333842",
     "exception": false,
     "start_time": "2025-03-18T15:19:25.284285",
     "status": "completed"
    },
    "tags": []
   },
   "source": [
    "# **Feature Engineering:**"
   ]
  },
  {
   "cell_type": "code",
   "execution_count": 145,
   "id": "2b3dbba2",
   "metadata": {
    "_cell_guid": "8b22ec50-1777-44de-9a93-cdbb736b3556",
    "_uuid": "e0f7c424-9961-47e3-9614-662892d33947",
    "collapsed": false,
    "execution": {
     "iopub.execute_input": "2025-03-18T15:19:25.434227Z",
     "iopub.status.busy": "2025-03-18T15:19:25.433730Z",
     "iopub.status.idle": "2025-03-18T15:19:25.471295Z",
     "shell.execute_reply": "2025-03-18T15:19:25.470028Z"
    },
    "id": "uTP0oR0vNu58",
    "jupyter": {
     "outputs_hidden": false
    },
    "papermill": {
     "duration": 0.090505,
     "end_time": "2025-03-18T15:19:25.473491",
     "exception": false,
     "start_time": "2025-03-18T15:19:25.382986",
     "status": "completed"
    },
    "tags": []
   },
   "outputs": [],
   "source": [
    "# 1. Winning Margin\n",
    "tourney_results[\"WinMargin\"] = tourney_results[\"WScore\"] - tourney_results[\"LScore\"]\n",
    "\n",
    "# 2. Shooting Efficiency\n",
    "tourney_results[\"WFG_Pct\"] = tourney_results[\"WFGM\"] / tourney_results[\"WFGA\"]\n",
    "tourney_results[\"LFG_Pct\"] = tourney_results[\"LFGM\"] / tourney_results[\"LFGA\"]\n",
    "\n",
    "tourney_results[\"W3P_Pct\"] = tourney_results[\"WFGM3\"] / tourney_results[\"WFGA3\"]\n",
    "tourney_results[\"L3P_Pct\"] = tourney_results[\"LFGM3\"] / tourney_results[\"LFGA3\"]\n",
    "\n",
    "tourney_results[\"WFT_Pct\"] = tourney_results[\"WFTM\"] / tourney_results[\"WFTA\"]\n",
    "tourney_results[\"LFT_Pct\"] = tourney_results[\"LFTM\"] / tourney_results[\"LFTA\"]\n",
    "\n",
    "# 3. Seed-Based Features\n",
    "tourney_results[\"Seed_Diff\"] = tourney_results[\"WSeedNum\"] - tourney_results[\"LSeedNum\"]\n",
    "tourney_results[\"PlayInGame\"] = ((tourney_results[\"WPlayIn\"] == 1) | (tourney_results[\"LPlayIn\"] == 1)).astype(int)\n",
    "\n",
    "# 4. Location Features\n",
    "tourney_results[\"HomeAdvantage\"] = tourney_results[\"WLoc\"].map({\"H\": 1, \"A\": -1, \"N\": 0})"
   ]
  },
  {
   "cell_type": "code",
   "execution_count": 146,
   "id": "0b5c0148",
   "metadata": {
    "execution": {
     "iopub.execute_input": "2025-03-18T15:19:25.576198Z",
     "iopub.status.busy": "2025-03-18T15:19:25.575699Z",
     "iopub.status.idle": "2025-03-18T15:19:25.601694Z",
     "shell.execute_reply": "2025-03-18T15:19:25.600323Z"
    },
    "papermill": {
     "duration": 0.079434,
     "end_time": "2025-03-18T15:19:25.603801",
     "exception": false,
     "start_time": "2025-03-18T15:19:25.524367",
     "status": "completed"
    },
    "tags": []
   },
   "outputs": [],
   "source": [
    "# 1. Winning Margin\n",
    "wtourney_results[\"WinMargin\"] = wtourney_results[\"WScore\"] - wtourney_results[\"LScore\"]\n",
    "\n",
    "# 2. Shooting Efficiency\n",
    "wtourney_results[\"WFG_Pct\"] = wtourney_results[\"WFGM\"] / wtourney_results[\"WFGA\"]\n",
    "wtourney_results[\"LFG_Pct\"] = wtourney_results[\"LFGM\"] / wtourney_results[\"LFGA\"]\n",
    "\n",
    "wtourney_results[\"W3P_Pct\"] = wtourney_results[\"WFGM3\"] / wtourney_results[\"WFGA3\"]\n",
    "wtourney_results[\"L3P_Pct\"] = wtourney_results[\"LFGM3\"] / wtourney_results[\"LFGA3\"]\n",
    "\n",
    "wtourney_results[\"WFT_Pct\"] = wtourney_results[\"WFTM\"] / wtourney_results[\"WFTA\"]\n",
    "wtourney_results[\"LFT_Pct\"] = wtourney_results[\"LFTM\"] / wtourney_results[\"LFTA\"]\n",
    "\n",
    "# 3. Seed-Based Features\n",
    "wtourney_results[\"Seed_Diff\"] = wtourney_results[\"WSeedNum\"] - wtourney_results[\"LSeedNum\"]\n",
    "wtourney_results[\"PlayInGame\"] = ((wtourney_results[\"WPlayIn\"] == 1) | (wtourney_results[\"LPlayIn\"] == 1)).astype(int)\n",
    "\n",
    "# 4. Location Features\n",
    "wtourney_results[\"HomeAdvantage\"] = wtourney_results[\"WLoc\"].map({\"H\": 1, \"A\": -1, \"N\": 0})"
   ]
  },
  {
   "cell_type": "code",
   "execution_count": 147,
   "id": "8b12787e",
   "metadata": {
    "_cell_guid": "8d96fa57-dabd-4263-8b88-d5c7d52165db",
    "_uuid": "d94348dd-5f32-4c5f-be49-fc1248d52f7c",
    "collapsed": false,
    "execution": {
     "iopub.execute_input": "2025-03-18T15:19:25.704149Z",
     "iopub.status.busy": "2025-03-18T15:19:25.703673Z",
     "iopub.status.idle": "2025-03-18T15:19:25.717277Z",
     "shell.execute_reply": "2025-03-18T15:19:25.715677Z"
    },
    "id": "MMwXNOBYNu9X",
    "jupyter": {
     "outputs_hidden": false
    },
    "outputId": "a8fdf1ab-9f9e-409f-832f-6937337ec1e2",
    "papermill": {
     "duration": 0.066151,
     "end_time": "2025-03-18T15:19:25.719393",
     "exception": false,
     "start_time": "2025-03-18T15:19:25.653242",
     "status": "completed"
    },
    "tags": []
   },
   "outputs": [
    {
     "name": "stdout",
     "output_type": "stream",
     "text": [
      "New Features Added: Index(['Season', 'WTeamID', 'WScore', 'LTeamID', 'LScore', 'WLoc', 'WFGM',\n",
      "       'WFGA', 'WFGM3', 'WFGA3', 'WFTM', 'WFTA', 'WOR', 'WDR', 'WAst', 'WTO',\n",
      "       'WStl', 'WBlk', 'WPF', 'LFGM', 'LFGA', 'LFGM3', 'LFGA3', 'LFTM', 'LFTA',\n",
      "       'LOR', 'LDR', 'LAst', 'LTO', 'LStl', 'LBlk', 'LPF', 'Slot', 'WRegion',\n",
      "       'LRegion', 'WPlayIn', 'LPlayIn', 'WSeedNum', 'LSeedNum', 'WConf',\n",
      "       'LConf', 'WTeamName', 'LTeamName', 'WinMargin', 'WFG_Pct', 'LFG_Pct',\n",
      "       'W3P_Pct', 'L3P_Pct', 'WFT_Pct', 'LFT_Pct', 'Seed_Diff', 'PlayInGame',\n",
      "       'HomeAdvantage'],\n",
      "      dtype='object')\n",
      "   WinMargin   WFG_Pct   LFG_Pct  Seed_Diff  HomeAdvantage\n",
      "0        9.0  0.474414  0.395628       -4.0              0\n",
      "1        1.0  0.474414  0.395628        2.0              0\n",
      "2       25.0  0.474414  0.395628      -14.0              0\n",
      "3        3.0  0.474414  0.395628        5.0              0\n",
      "4       11.0  0.474414  0.395628      -12.0              0\n",
      "94779\n"
     ]
    }
   ],
   "source": [
    "# Check the updated dataset\n",
    "print(\"New Features Added:\", tourney_results.columns)\n",
    "print(tourney_results[[\"WinMargin\", \"WFG_Pct\", \"LFG_Pct\", \"Seed_Diff\", \"HomeAdvantage\"]].head())\n",
    "print(len(tourney_results))"
   ]
  },
  {
   "cell_type": "code",
   "execution_count": 148,
   "id": "2befaa1f",
   "metadata": {
    "execution": {
     "iopub.execute_input": "2025-03-18T15:19:25.822142Z",
     "iopub.status.busy": "2025-03-18T15:19:25.821670Z",
     "iopub.status.idle": "2025-03-18T15:19:25.834860Z",
     "shell.execute_reply": "2025-03-18T15:19:25.833264Z"
    },
    "papermill": {
     "duration": 0.065994,
     "end_time": "2025-03-18T15:19:25.836938",
     "exception": false,
     "start_time": "2025-03-18T15:19:25.770944",
     "status": "completed"
    },
    "tags": []
   },
   "outputs": [
    {
     "name": "stdout",
     "output_type": "stream",
     "text": [
      "New Features Added: Index(['Season', 'WTeamID', 'WScore', 'LTeamID', 'LScore', 'WLoc', 'WFGM',\n",
      "       'WFGA', 'WFGM3', 'WFGA3', 'WFTM', 'WFTA', 'WOR', 'WDR', 'WAst', 'WTO',\n",
      "       'WStl', 'WBlk', 'WPF', 'LFGM', 'LFGA', 'LFGM3', 'LFGA3', 'LFTM', 'LFTA',\n",
      "       'LOR', 'LDR', 'LAst', 'LTO', 'LStl', 'LBlk', 'LPF', 'Slot', 'WRegion',\n",
      "       'LRegion', 'WPlayIn', 'LPlayIn', 'WSeedNum', 'LSeedNum', 'WConf',\n",
      "       'LConf', 'WTeamName', 'LTeamName', 'WinMargin', 'WFG_Pct', 'LFG_Pct',\n",
      "       'W3P_Pct', 'L3P_Pct', 'WFT_Pct', 'LFT_Pct', 'Seed_Diff', 'PlayInGame',\n",
      "       'HomeAdvantage'],\n",
      "      dtype='object')\n",
      "   WinMargin   WFG_Pct   LFG_Pct  Seed_Diff  HomeAdvantage\n",
      "0       48.0  0.463216  0.363058       -8.0              1\n",
      "1       12.0  0.463216  0.363058      -13.0              1\n",
      "2       41.0  0.463216  0.363058      -12.0              1\n",
      "3       14.0  0.463216  0.363058        6.0              1\n",
      "4        2.0  0.463216  0.363058       12.0             -1\n",
      "59662\n"
     ]
    }
   ],
   "source": [
    "# Check the updated dataset\n",
    "print(\"New Features Added:\", wtourney_results.columns)\n",
    "print(wtourney_results[[\"WinMargin\", \"WFG_Pct\", \"LFG_Pct\", \"Seed_Diff\", \"HomeAdvantage\"]].head())\n",
    "print(len(wtourney_results))"
   ]
  },
  {
   "cell_type": "code",
   "execution_count": 149,
   "id": "0e4b5c14",
   "metadata": {
    "_cell_guid": "92449b6b-13c7-4708-8d11-b5e0ab87c2b3",
    "_uuid": "cafc0f01-7f8f-464b-9e6f-9b798cadde8d",
    "collapsed": false,
    "execution": {
     "iopub.execute_input": "2025-03-18T15:19:25.940121Z",
     "iopub.status.busy": "2025-03-18T15:19:25.939602Z",
     "iopub.status.idle": "2025-03-18T15:19:25.946422Z",
     "shell.execute_reply": "2025-03-18T15:19:25.945177Z"
    },
    "id": "lCiqhu8wVwVh",
    "jupyter": {
     "outputs_hidden": false
    },
    "outputId": "5ab6664b-2bbc-4910-a912-fdaf410e0478",
    "papermill": {
     "duration": 0.061343,
     "end_time": "2025-03-18T15:19:25.948319",
     "exception": false,
     "start_time": "2025-03-18T15:19:25.886976",
     "status": "completed"
    },
    "tags": []
   },
   "outputs": [
    {
     "name": "stdout",
     "output_type": "stream",
     "text": [
      "[0]\n"
     ]
    }
   ],
   "source": [
    "print(tourney_results[\"HomeAdvantage\"].unique())"
   ]
  },
  {
   "cell_type": "code",
   "execution_count": 150,
   "id": "ded1f2ea",
   "metadata": {
    "execution": {
     "iopub.execute_input": "2025-03-18T15:19:26.053196Z",
     "iopub.status.busy": "2025-03-18T15:19:26.052756Z",
     "iopub.status.idle": "2025-03-18T15:19:26.059659Z",
     "shell.execute_reply": "2025-03-18T15:19:26.058225Z"
    },
    "papermill": {
     "duration": 0.06285,
     "end_time": "2025-03-18T15:19:26.061709",
     "exception": false,
     "start_time": "2025-03-18T15:19:25.998859",
     "status": "completed"
    },
    "tags": []
   },
   "outputs": [
    {
     "name": "stdout",
     "output_type": "stream",
     "text": [
      "[ 1 -1  0]\n"
     ]
    }
   ],
   "source": [
    "print(wtourney_results[\"HomeAdvantage\"].unique())"
   ]
  },
  {
   "cell_type": "code",
   "execution_count": 151,
   "id": "0280679a",
   "metadata": {
    "_cell_guid": "5b354682-3374-4f9e-bba1-8566e6ca9d54",
    "_uuid": "6a70b746-4fc6-4cc0-8f68-e0aa024a817d",
    "collapsed": false,
    "execution": {
     "iopub.execute_input": "2025-03-18T15:19:26.163091Z",
     "iopub.status.busy": "2025-03-18T15:19:26.162643Z",
     "iopub.status.idle": "2025-03-18T15:19:26.296772Z",
     "shell.execute_reply": "2025-03-18T15:19:26.295037Z"
    },
    "id": "SrSw5d2jVwYy",
    "jupyter": {
     "outputs_hidden": false
    },
    "outputId": "1082e39c-52f2-4334-ff20-3b3b3de190e9",
    "papermill": {
     "duration": 0.187567,
     "end_time": "2025-03-18T15:19:26.298819",
     "exception": false,
     "start_time": "2025-03-18T15:19:26.111252",
     "status": "completed"
    },
    "tags": []
   },
   "outputs": [
    {
     "name": "stdout",
     "output_type": "stream",
     "text": [
      "Total Duplicate Rows: 0\n"
     ]
    }
   ],
   "source": [
    "# Check for duplicate rows\n",
    "duplicate_count = tourney_results.duplicated().sum()\n",
    "print(f\"Total Duplicate Rows: {duplicate_count}\")"
   ]
  },
  {
   "cell_type": "code",
   "execution_count": 152,
   "id": "f91807c9",
   "metadata": {
    "execution": {
     "iopub.execute_input": "2025-03-18T15:19:26.402756Z",
     "iopub.status.busy": "2025-03-18T15:19:26.402315Z",
     "iopub.status.idle": "2025-03-18T15:19:26.492818Z",
     "shell.execute_reply": "2025-03-18T15:19:26.491389Z"
    },
    "papermill": {
     "duration": 0.145729,
     "end_time": "2025-03-18T15:19:26.494888",
     "exception": false,
     "start_time": "2025-03-18T15:19:26.349159",
     "status": "completed"
    },
    "tags": []
   },
   "outputs": [
    {
     "name": "stdout",
     "output_type": "stream",
     "text": [
      "Total Duplicate Rows: 0\n"
     ]
    }
   ],
   "source": [
    "# Check for duplicate rows\n",
    "wduplicate_count = wtourney_results.duplicated().sum()\n",
    "print(f\"Total Duplicate Rows: {wduplicate_count}\")"
   ]
  },
  {
   "cell_type": "code",
   "execution_count": 153,
   "id": "0a3a6779",
   "metadata": {
    "_cell_guid": "c38af88d-2adf-48b7-bc6a-e46e540f7c9d",
    "_uuid": "aa29d7b2-60d0-463e-bc39-a4bfcd50a00e",
    "collapsed": false,
    "execution": {
     "iopub.execute_input": "2025-03-18T15:19:26.601272Z",
     "iopub.status.busy": "2025-03-18T15:19:26.600793Z",
     "iopub.status.idle": "2025-03-18T15:19:26.663980Z",
     "shell.execute_reply": "2025-03-18T15:19:26.662462Z"
    },
    "id": "JBB7qV8kVwcH",
    "jupyter": {
     "outputs_hidden": false
    },
    "outputId": "e683396f-6578-4605-c0ad-cc99776ae593",
    "papermill": {
     "duration": 0.119233,
     "end_time": "2025-03-18T15:19:26.666194",
     "exception": false,
     "start_time": "2025-03-18T15:19:26.546961",
     "status": "completed"
    },
    "tags": []
   },
   "outputs": [
    {
     "name": "stdout",
     "output_type": "stream",
     "text": [
      "\n",
      "Missing Values in Each Column:\n",
      "Series([], dtype: int64)\n"
     ]
    }
   ],
   "source": [
    "# Check for missing values in each column\n",
    "missing_values = tourney_results.isnull().sum()\n",
    "print(\"\\nMissing Values in Each Column:\")\n",
    "print(missing_values[missing_values > 0])  # Show only columns with NaN values"
   ]
  },
  {
   "cell_type": "code",
   "execution_count": 154,
   "id": "d28216d9",
   "metadata": {
    "execution": {
     "iopub.execute_input": "2025-03-18T15:19:26.776008Z",
     "iopub.status.busy": "2025-03-18T15:19:26.775600Z",
     "iopub.status.idle": "2025-03-18T15:19:26.819373Z",
     "shell.execute_reply": "2025-03-18T15:19:26.818038Z"
    },
    "papermill": {
     "duration": 0.098102,
     "end_time": "2025-03-18T15:19:26.821293",
     "exception": false,
     "start_time": "2025-03-18T15:19:26.723191",
     "status": "completed"
    },
    "tags": []
   },
   "outputs": [
    {
     "name": "stdout",
     "output_type": "stream",
     "text": [
      "\n",
      "Missing Values in Each Column:\n",
      "LFT_Pct    378\n",
      "dtype: int64\n"
     ]
    }
   ],
   "source": [
    "# Check for missing values in each column\n",
    "wmissing_values = wtourney_results.isnull().sum()\n",
    "print(\"\\nMissing Values in Each Column:\")\n",
    "print(wmissing_values[wmissing_values > 0])  # Show only columns with NaN values"
   ]
  },
  {
   "cell_type": "code",
   "execution_count": 155,
   "id": "e5dbd786",
   "metadata": {
    "_cell_guid": "5e3976b5-9f0e-4642-8d01-016856129b49",
    "_uuid": "218f0d8c-63a3-4eb6-8cf8-9204b62363c4",
    "collapsed": false,
    "execution": {
     "iopub.execute_input": "2025-03-18T15:19:26.984265Z",
     "iopub.status.busy": "2025-03-18T15:19:26.983786Z",
     "iopub.status.idle": "2025-03-18T15:19:27.036867Z",
     "shell.execute_reply": "2025-03-18T15:19:27.035107Z"
    },
    "id": "0IfPQQ4CVwe5",
    "jupyter": {
     "outputs_hidden": false
    },
    "outputId": "a0f3f74d-14f2-47a6-e1e2-f5795331d817",
    "papermill": {
     "duration": 0.16836,
     "end_time": "2025-03-18T15:19:27.039241",
     "exception": false,
     "start_time": "2025-03-18T15:19:26.870881",
     "status": "completed"
    },
    "tags": []
   },
   "outputs": [
    {
     "name": "stdout",
     "output_type": "stream",
     "text": [
      "Missing Values After Filling:\n",
      "WFG_Pct    0\n",
      "W3P_Pct    0\n",
      "WFT_Pct    0\n",
      "dtype: int64\n"
     ]
    }
   ],
   "source": [
    "tourney_results = tourney_results.assign(\n",
    "    WFG_Pct=tourney_results[\"WFG_Pct\"].fillna(0),\n",
    "    W3P_Pct=tourney_results[\"W3P_Pct\"].fillna(0),\n",
    "    WFT_Pct=tourney_results[\"WFT_Pct\"].fillna(0),\n",
    ")\n",
    "print(\"Missing Values After Filling:\")\n",
    "print(tourney_results[[\"WFG_Pct\", \"W3P_Pct\", \"WFT_Pct\"]].isnull().sum())"
   ]
  },
  {
   "cell_type": "code",
   "execution_count": 156,
   "id": "e29d823c",
   "metadata": {
    "execution": {
     "iopub.execute_input": "2025-03-18T15:19:27.145259Z",
     "iopub.status.busy": "2025-03-18T15:19:27.144753Z",
     "iopub.status.idle": "2025-03-18T15:19:27.180806Z",
     "shell.execute_reply": "2025-03-18T15:19:27.179250Z"
    },
    "papermill": {
     "duration": 0.091601,
     "end_time": "2025-03-18T15:19:27.182790",
     "exception": false,
     "start_time": "2025-03-18T15:19:27.091189",
     "status": "completed"
    },
    "tags": []
   },
   "outputs": [
    {
     "name": "stdout",
     "output_type": "stream",
     "text": [
      "Missing Values After Filling:\n",
      "WFG_Pct    0\n",
      "W3P_Pct    0\n",
      "WFT_Pct    0\n",
      "dtype: int64\n"
     ]
    }
   ],
   "source": [
    "wtourney_results = wtourney_results.assign(\n",
    "    WFG_Pct=wtourney_results[\"WFG_Pct\"].fillna(0),\n",
    "    W3P_Pct=wtourney_results[\"W3P_Pct\"].fillna(0),\n",
    "    WFT_Pct=wtourney_results[\"WFT_Pct\"].fillna(0),\n",
    ")\n",
    "print(\"Missing Values After Filling:\")\n",
    "print(wtourney_results[[\"WFG_Pct\", \"W3P_Pct\", \"WFT_Pct\"]].isnull().sum())"
   ]
  },
  {
   "cell_type": "code",
   "execution_count": 157,
   "id": "4ccda8ff",
   "metadata": {
    "_cell_guid": "4d2a7b4b-3f24-45b8-ba87-819641e0e63c",
    "_uuid": "f63677b6-3560-4612-b089-d99a59c12324",
    "collapsed": false,
    "execution": {
     "iopub.execute_input": "2025-03-18T15:19:27.291498Z",
     "iopub.status.busy": "2025-03-18T15:19:27.291114Z",
     "iopub.status.idle": "2025-03-18T15:19:27.298932Z",
     "shell.execute_reply": "2025-03-18T15:19:27.297473Z"
    },
    "id": "aZieLDouVwh-",
    "jupyter": {
     "outputs_hidden": false
    },
    "outputId": "6ef55ceb-4203-49de-fc17-e618bc90e9b2",
    "papermill": {
     "duration": 0.065146,
     "end_time": "2025-03-18T15:19:27.300898",
     "exception": false,
     "start_time": "2025-03-18T15:19:27.235752",
     "status": "completed"
    },
    "tags": []
   },
   "outputs": [
    {
     "name": "stdout",
     "output_type": "stream",
     "text": [
      "HomeAdvantage\n",
      "0    94779\n",
      "Name: count, dtype: int64\n"
     ]
    }
   ],
   "source": [
    "print(tourney_results[\"HomeAdvantage\"].value_counts())"
   ]
  },
  {
   "cell_type": "code",
   "execution_count": 158,
   "id": "6aaba76d",
   "metadata": {
    "execution": {
     "iopub.execute_input": "2025-03-18T15:19:27.402906Z",
     "iopub.status.busy": "2025-03-18T15:19:27.402568Z",
     "iopub.status.idle": "2025-03-18T15:19:27.409785Z",
     "shell.execute_reply": "2025-03-18T15:19:27.408373Z"
    },
    "papermill": {
     "duration": 0.0601,
     "end_time": "2025-03-18T15:19:27.411552",
     "exception": false,
     "start_time": "2025-03-18T15:19:27.351452",
     "status": "completed"
    },
    "tags": []
   },
   "outputs": [
    {
     "name": "stdout",
     "output_type": "stream",
     "text": [
      "HomeAdvantage\n",
      " 0    36690\n",
      " 1    19546\n",
      "-1     3426\n",
      "Name: count, dtype: int64\n"
     ]
    }
   ],
   "source": [
    "print(wtourney_results[\"HomeAdvantage\"].value_counts())"
   ]
  },
  {
   "cell_type": "code",
   "execution_count": 159,
   "id": "e90a9451",
   "metadata": {
    "_cell_guid": "4a8b95b5-c0ec-4d5a-b631-2da03f003681",
    "_uuid": "96cc9207-74e9-4ba2-beca-96059f1c5c4b",
    "collapsed": false,
    "execution": {
     "iopub.execute_input": "2025-03-18T15:19:27.514626Z",
     "iopub.status.busy": "2025-03-18T15:19:27.514241Z",
     "iopub.status.idle": "2025-03-18T15:19:27.921524Z",
     "shell.execute_reply": "2025-03-18T15:19:27.920234Z"
    },
    "id": "4jxDgc0XVwl0",
    "jupyter": {
     "outputs_hidden": false
    },
    "outputId": "cedc5dce-caf4-454e-fbb2-bc73ab009c1d",
    "papermill": {
     "duration": 0.460727,
     "end_time": "2025-03-18T15:19:27.923505",
     "exception": false,
     "start_time": "2025-03-18T15:19:27.462778",
     "status": "completed"
    },
    "tags": []
   },
   "outputs": [
    {
     "data": {
      "image/png": "[encoded data removed]",
      "text/plain": [
       "<Figure size 640x480 with 1 Axes>"
      ]
     },
     "metadata": {},
     "output_type": "display_data"
    }
   ],
   "source": [
    "import matplotlib.pyplot as plt\n",
    "tourney_results[\"WinMargin\"].hist(bins=20)\n",
    "plt.xlabel(\"Winning Margin\")\n",
    "plt.ylabel(\"Number of Games\")\n",
    "plt.title(\"Distribution of Winning Margins\")\n",
    "plt.show()"
   ]
  },
  {
   "cell_type": "code",
   "execution_count": 160,
   "id": "daae3bb3",
   "metadata": {
    "execution": {
     "iopub.execute_input": "2025-03-18T15:19:28.033544Z",
     "iopub.status.busy": "2025-03-18T15:19:28.033139Z",
     "iopub.status.idle": "2025-03-18T15:19:28.253858Z",
     "shell.execute_reply": "2025-03-18T15:19:28.252271Z"
    },
    "papermill": {
     "duration": 0.280284,
     "end_time": "2025-03-18T15:19:28.256211",
     "exception": false,
     "start_time": "2025-03-18T15:19:27.975927",
     "status": "completed"
    },
    "tags": []
   },
   "outputs": [
    {
     "data": {
      "image/png": "[encoded data removed]",
      "text/plain": [
       "<Figure size 640x480 with 1 Axes>"
      ]
     },
     "metadata": {},
     "output_type": "display_data"
    }
   ],
   "source": [
    "import matplotlib.pyplot as plt\n",
    "wtourney_results[\"WinMargin\"].hist(bins=20)\n",
    "plt.xlabel(\"Winning Margin\")\n",
    "plt.ylabel(\"Number of Games\")\n",
    "plt.title(\"Distribution of Winning Margins\")\n",
    "plt.show()"
   ]
  },
  {
   "cell_type": "code",
   "execution_count": 161,
   "id": "a6839ab7",
   "metadata": {
    "_cell_guid": "abe23a51-decc-4dfe-92ee-083170df0ddc",
    "_uuid": "762f032e-8c99-441e-bb02-0b17669968bc",
    "collapsed": false,
    "execution": {
     "iopub.execute_input": "2025-03-18T15:19:28.362310Z",
     "iopub.status.busy": "2025-03-18T15:19:28.361825Z",
     "iopub.status.idle": "2025-03-18T15:19:28.375797Z",
     "shell.execute_reply": "2025-03-18T15:19:28.374202Z"
    },
    "id": "OaqKF4obMast",
    "jupyter": {
     "outputs_hidden": false
    },
    "outputId": "3740e8d6-a2cf-4745-edc3-2d5afacb8f46",
    "papermill": {
     "duration": 0.067956,
     "end_time": "2025-03-18T15:19:28.377821",
     "exception": false,
     "start_time": "2025-03-18T15:19:28.309865",
     "status": "completed"
    },
    "tags": []
   },
   "outputs": [
    {
     "name": "stdout",
     "output_type": "stream",
     "text": [
      "WLoc\n",
      "N    94779\n",
      "Name: count, dtype: int64\n"
     ]
    }
   ],
   "source": [
    "print(tourney_results[\"WLoc\"].value_counts())"
   ]
  },
  {
   "cell_type": "code",
   "execution_count": 162,
   "id": "a6cde460",
   "metadata": {
    "execution": {
     "iopub.execute_input": "2025-03-18T15:19:28.482355Z",
     "iopub.status.busy": "2025-03-18T15:19:28.481838Z",
     "iopub.status.idle": "2025-03-18T15:19:28.493924Z",
     "shell.execute_reply": "2025-03-18T15:19:28.492223Z"
    },
    "papermill": {
     "duration": 0.067109,
     "end_time": "2025-03-18T15:19:28.496325",
     "exception": false,
     "start_time": "2025-03-18T15:19:28.429216",
     "status": "completed"
    },
    "tags": []
   },
   "outputs": [
    {
     "name": "stdout",
     "output_type": "stream",
     "text": [
      "WLoc\n",
      "N    36690\n",
      "H    19546\n",
      "A     3426\n",
      "Name: count, dtype: int64\n"
     ]
    }
   ],
   "source": [
    "print(wtourney_results[\"WLoc\"].value_counts())"
   ]
  },
  {
   "cell_type": "code",
   "execution_count": 163,
   "id": "40ca72f7",
   "metadata": {
    "_cell_guid": "85265d87-b185-45ca-867d-0136217766c7",
    "_uuid": "dcb69145-53e2-487b-a362-da25cc45c01d",
    "collapsed": false,
    "execution": {
     "iopub.execute_input": "2025-03-18T15:19:28.600697Z",
     "iopub.status.busy": "2025-03-18T15:19:28.600247Z",
     "iopub.status.idle": "2025-03-18T15:19:28.912321Z",
     "shell.execute_reply": "2025-03-18T15:19:28.910885Z"
    },
    "id": "p5-LDROpMboI",
    "jupyter": {
     "outputs_hidden": false
    },
    "outputId": "d71de1bd-7215-4551-d332-2c09adfa8dde",
    "papermill": {
     "duration": 0.366938,
     "end_time": "2025-03-18T15:19:28.914172",
     "exception": false,
     "start_time": "2025-03-18T15:19:28.547234",
     "status": "completed"
    },
    "tags": []
   },
   "outputs": [
    {
     "data": {
      "image/png": "[encoded data removed]",
      "text/plain": [
       "<Figure size 640x480 with 1 Axes>"
      ]
     },
     "metadata": {},
     "output_type": "display_data"
    }
   ],
   "source": [
    "plt.hist(tourney_results[\"WFG_Pct\"], bins=20, alpha=0.5, label=\"Winning Team FG%\")\n",
    "plt.hist(tourney_results[\"LFG_Pct\"], bins=20, alpha=0.5, label=\"Losing Team FG%\")\n",
    "plt.xlabel(\"Field Goal Percentage\")\n",
    "plt.ylabel(\"Number of Games\")\n",
    "plt.title(\"Distribution of FG% for Winning & Losing Teams\")\n",
    "plt.legend()\n",
    "plt.show()"
   ]
  },
  {
   "cell_type": "code",
   "execution_count": 164,
   "id": "cc495f6f",
   "metadata": {
    "execution": {
     "iopub.execute_input": "2025-03-18T15:19:29.021989Z",
     "iopub.status.busy": "2025-03-18T15:19:29.021569Z",
     "iopub.status.idle": "2025-03-18T15:19:29.465586Z",
     "shell.execute_reply": "2025-03-18T15:19:29.463938Z"
    },
    "papermill": {
     "duration": 0.50121,
     "end_time": "2025-03-18T15:19:29.467530",
     "exception": false,
     "start_time": "2025-03-18T15:19:28.966320",
     "status": "completed"
    },
    "tags": []
   },
   "outputs": [
    {
     "data": {
      "image/png": "[encoded data removed]",
      "text/plain": [
       "<Figure size 640x480 with 1 Axes>"
      ]
     },
     "metadata": {},
     "output_type": "display_data"
    }
   ],
   "source": [
    "plt.hist(wtourney_results[\"WFG_Pct\"], bins=20, alpha=0.5, label=\"Winning Team FG%\")\n",
    "plt.hist(wtourney_results[\"LFG_Pct\"], bins=20, alpha=0.5, label=\"Losing Team FG%\")\n",
    "plt.xlabel(\"Field Goal Percentage\")\n",
    "plt.ylabel(\"Number of Games\")\n",
    "plt.title(\"Distribution of FG% for Winning & Losing Teams\")\n",
    "plt.legend()\n",
    "plt.show()"
   ]
  },
  {
   "cell_type": "code",
   "execution_count": 165,
   "id": "cfc54d87",
   "metadata": {
    "_cell_guid": "4cb0b423-88d4-4ee5-943d-8f38c6508a8d",
    "_uuid": "abe3651a-baee-453e-819e-83817347d437",
    "collapsed": false,
    "execution": {
     "iopub.execute_input": "2025-03-18T15:19:29.580472Z",
     "iopub.status.busy": "2025-03-18T15:19:29.579974Z",
     "iopub.status.idle": "2025-03-18T15:19:29.886148Z",
     "shell.execute_reply": "2025-03-18T15:19:29.884753Z"
    },
    "id": "EHNYANGuMbri",
    "jupyter": {
     "outputs_hidden": false
    },
    "outputId": "17027258-8b95-4a06-b500-f488b5939201",
    "papermill": {
     "duration": 0.364363,
     "end_time": "2025-03-18T15:19:29.888191",
     "exception": false,
     "start_time": "2025-03-18T15:19:29.523828",
     "status": "completed"
    },
    "tags": []
   },
   "outputs": [
    {
     "data": {
      "image/png": "[encoded data removed]",
      "text/plain": [
       "<Figure size 640x480 with 1 Axes>"
      ]
     },
     "metadata": {},
     "output_type": "display_data"
    }
   ],
   "source": [
    "plt.hist(tourney_results[\"WFT_Pct\"], bins=20, alpha=0.5, label=\"Winning Team FT%\")\n",
    "plt.hist(tourney_results[\"LFT_Pct\"], bins=20, alpha=0.5, label=\"Losing Team FT%\")\n",
    "plt.xlabel(\"Free Throw Percentage\")\n",
    "plt.ylabel(\"Number of Games\")\n",
    "plt.title(\"Distribution of FT% for Winning & Losing Teams\")\n",
    "plt.legend()\n",
    "plt.show()"
   ]
  },
  {
   "cell_type": "code",
   "execution_count": 166,
   "id": "2cc21ebf",
   "metadata": {
    "execution": {
     "iopub.execute_input": "2025-03-18T15:19:30.006500Z",
     "iopub.status.busy": "2025-03-18T15:19:30.006089Z",
     "iopub.status.idle": "2025-03-18T15:19:30.289367Z",
     "shell.execute_reply": "2025-03-18T15:19:30.288130Z"
    },
    "papermill": {
     "duration": 0.346978,
     "end_time": "2025-03-18T15:19:30.291458",
     "exception": false,
     "start_time": "2025-03-18T15:19:29.944480",
     "status": "completed"
    },
    "tags": []
   },
   "outputs": [
    {
     "name": "stderr",
     "output_type": "stream",
     "text": [
      "/usr/local/lib/python3.10/dist-packages/numpy/lib/histograms.py:825: RuntimeWarning: invalid value encountered in greater_equal\n",
      "  keep = (tmp_a >= first_edge)\n",
      "/usr/local/lib/python3.10/dist-packages/numpy/lib/histograms.py:826: RuntimeWarning: invalid value encountered in less_equal\n",
      "  keep &= (tmp_a <= last_edge)\n"
     ]
    },
    {
     "data": {
      "image/png": "[encoded data removed]",
      "text/plain": [
       "<Figure size 640x480 with 1 Axes>"
      ]
     },
     "metadata": {},
     "output_type": "display_data"
    }
   ],
   "source": [
    "plt.hist(wtourney_results[\"WFT_Pct\"], bins=20, alpha=0.5, label=\"Winning Team FT%\")\n",
    "plt.hist(wtourney_results[\"LFT_Pct\"], bins=20, alpha=0.5, label=\"Losing Team FT%\")\n",
    "plt.xlabel(\"Free Throw Percentage\")\n",
    "plt.ylabel(\"Number of Games\")\n",
    "plt.title(\"Distribution of FT% for Winning & Losing Teams\")\n",
    "plt.legend()\n",
    "plt.show()"
   ]
  },
  {
   "cell_type": "code",
   "execution_count": 167,
   "id": "aa9273b2",
   "metadata": {
    "_cell_guid": "b05adc4f-83b1-4f8c-a151-6425e8aa4bf8",
    "_uuid": "201d8cb7-54d9-47e7-b9bd-92a6fe51c214",
    "collapsed": false,
    "execution": {
     "iopub.execute_input": "2025-03-18T15:19:30.410101Z",
     "iopub.status.busy": "2025-03-18T15:19:30.409728Z",
     "iopub.status.idle": "2025-03-18T15:19:30.504019Z",
     "shell.execute_reply": "2025-03-18T15:19:30.502666Z"
    },
    "id": "VGVrGf83Mb14",
    "jupyter": {
     "outputs_hidden": false
    },
    "papermill": {
     "duration": 0.155987,
     "end_time": "2025-03-18T15:19:30.506322",
     "exception": false,
     "start_time": "2025-03-18T15:19:30.350335",
     "status": "completed"
    },
    "tags": []
   },
   "outputs": [],
   "source": [
    "\n",
    "# Create a copy for losing teams with inverted features\n",
    "losses = tourney_results.copy()\n",
    "\n",
    "# Swap columns to balance the dataset\n",
    "losses[\"Win\"] = 0  # Losing team\n",
    "losses[\"Seed_Diff\"] = -losses[\"Seed_Diff\"]\n",
    "losses[\"WinMargin\"] = -losses[\"WinMargin\"]\n",
    "# Rename columns for consistency\n",
    "swap_cols = {\n",
    "    \"WTeamID\": \"LTeamID\", \"LTeamID\": \"WTeamID\",\n",
    "    \"WSeedNum\": \"LSeedNum\", \"LSeedNum\": \"WSeedNum\",\n",
    "    \"WFG_Pct\": \"LFG_Pct\", \"LFG_Pct\": \"WFG_Pct\",\n",
    "    \"W3P_Pct\": \"L3P_Pct\", \"L3P_Pct\": \"W3P_Pct\",\n",
    "    \"WFT_Pct\": \"LFT_Pct\", \"LFT_Pct\": \"WFT_Pct\"\n",
    "}\n",
    "losses = losses.rename(columns=swap_cols)\n",
    "\n",
    "# Original dataset: winners labeled as 1\n",
    "tourney_results[\"Win\"] = 1\n",
    "\n",
    "# Combine the two datasets\n",
    "final_data = pd.concat([tourney_results, losses], ignore_index=True)\n",
    "\n",
    "# Define features and target variable\n",
    "features = [\"Seed_Diff\", \"WFG_Pct\", \"LFG_Pct\", \"W3P_Pct\", \"L3P_Pct\", \"WFT_Pct\", \"LFT_Pct\"]\n",
    "X = final_data[features]\n",
    "y = final_data[\"Win\"]"
   ]
  },
  {
   "cell_type": "code",
   "execution_count": 168,
   "id": "f65658a7",
   "metadata": {
    "execution": {
     "iopub.execute_input": "2025-03-18T15:19:30.625708Z",
     "iopub.status.busy": "2025-03-18T15:19:30.625358Z",
     "iopub.status.idle": "2025-03-18T15:19:30.694624Z",
     "shell.execute_reply": "2025-03-18T15:19:30.693222Z"
    },
    "papermill": {
     "duration": 0.132201,
     "end_time": "2025-03-18T15:19:30.696922",
     "exception": false,
     "start_time": "2025-03-18T15:19:30.564721",
     "status": "completed"
    },
    "tags": []
   },
   "outputs": [],
   "source": [
    "\n",
    "# Create a copy for losing teams with inverted features\n",
    "wlosses = wtourney_results.copy()\n",
    "\n",
    "# Swap columns to balance the dataset\n",
    "wlosses[\"Win\"] = 0  # Losing team\n",
    "wlosses[\"Seed_Diff\"] = -wlosses[\"Seed_Diff\"]\n",
    "wlosses[\"WinMargin\"] = -wlosses[\"WinMargin\"]\n",
    "# Rename columns for consistency\n",
    "wswap_cols = {\n",
    "    \"WTeamID\": \"LTeamID\", \"LTeamID\": \"WTeamID\",\n",
    "    \"WSeedNum\": \"LSeedNum\", \"LSeedNum\": \"WSeedNum\",\n",
    "    \"WFG_Pct\": \"LFG_Pct\", \"LFG_Pct\": \"WFG_Pct\",\n",
    "    \"W3P_Pct\": \"L3P_Pct\", \"L3P_Pct\": \"W3P_Pct\",\n",
    "    \"WFT_Pct\": \"LFT_Pct\", \"LFT_Pct\": \"WFT_Pct\"\n",
    "}\n",
    "wlosses = wlosses.rename(columns=wswap_cols)\n",
    "\n",
    "# Original dataset: winners labeled as 1\n",
    "wtourney_results[\"Win\"] = 1\n",
    "\n",
    "# Combine the two datasets\n",
    "wfinal_data = pd.concat([wtourney_results, wlosses], ignore_index=True)\n",
    "\n",
    "# Define features and target variable\n",
    "wfeatures = [\"Seed_Diff\", \"WFG_Pct\", \"LFG_Pct\", \"W3P_Pct\", \"L3P_Pct\", \"WFT_Pct\", \"LFT_Pct\"]\n",
    "A = wfinal_data[wfeatures]\n",
    "b = wfinal_data[\"Win\"]"
   ]
  },
  {
   "cell_type": "code",
   "execution_count": 169,
   "id": "4d2227d0",
   "metadata": {
    "_cell_guid": "93a548fc-69e2-4c4f-8071-eb8ef285b2de",
    "_uuid": "9d52c91d-72d9-41c4-b910-beac04b67586",
    "collapsed": false,
    "execution": {
     "iopub.execute_input": "2025-03-18T15:19:30.816136Z",
     "iopub.status.busy": "2025-03-18T15:19:30.815735Z",
     "iopub.status.idle": "2025-03-18T15:19:30.848547Z",
     "shell.execute_reply": "2025-03-18T15:19:30.847445Z"
    },
    "id": "_iuzsReDMb5R",
    "jupyter": {
     "outputs_hidden": false
    },
    "papermill": {
     "duration": 0.096114,
     "end_time": "2025-03-18T15:19:30.850930",
     "exception": false,
     "start_time": "2025-03-18T15:19:30.754816",
     "status": "completed"
    },
    "tags": []
   },
   "outputs": [],
   "source": [
    "from sklearn.model_selection import train_test_split\n",
    "\n",
    "# 80-20 Train-Test split\n",
    "X_train, X_test, y_train, y_test = train_test_split(X, y, test_size=0.2, random_state=42)"
   ]
  },
  {
   "cell_type": "code",
   "execution_count": 170,
   "id": "7b358121",
   "metadata": {
    "execution": {
     "iopub.execute_input": "2025-03-18T15:19:30.963402Z",
     "iopub.status.busy": "2025-03-18T15:19:30.962908Z",
     "iopub.status.idle": "2025-03-18T15:19:30.987012Z",
     "shell.execute_reply": "2025-03-18T15:19:30.985630Z"
    },
    "papermill": {
     "duration": 0.083353,
     "end_time": "2025-03-18T15:19:30.989366",
     "exception": false,
     "start_time": "2025-03-18T15:19:30.906013",
     "status": "completed"
    },
    "tags": []
   },
   "outputs": [],
   "source": [
    "from sklearn.model_selection import train_test_split\n",
    "\n",
    "# 80-20 Train-Test split\n",
    "A_train, A_test, b_train, b_test = train_test_split(A, b, test_size=0.2, random_state=42)"
   ]
  },
  {
   "cell_type": "code",
   "execution_count": 171,
   "id": "4e80026c",
   "metadata": {
    "_cell_guid": "6662cc77-cae9-4795-917b-4bd32c10b216",
    "_uuid": "b1465bdd-5529-4296-bff5-068e30d66dde",
    "collapsed": false,
    "execution": {
     "iopub.execute_input": "2025-03-18T15:19:31.105486Z",
     "iopub.status.busy": "2025-03-18T15:19:31.104983Z",
     "iopub.status.idle": "2025-03-18T15:19:35.177471Z",
     "shell.execute_reply": "2025-03-18T15:19:35.176505Z"
    },
    "id": "U7SemmZyMcme",
    "jupyter": {
     "outputs_hidden": false
    },
    "outputId": "e1443d39-afed-455b-94e0-3cbd02e39138",
    "papermill": {
     "duration": 4.133013,
     "end_time": "2025-03-18T15:19:35.179599",
     "exception": false,
     "start_time": "2025-03-18T15:19:31.046586",
     "status": "completed"
    },
    "tags": []
   },
   "outputs": [
    {
     "name": "stdout",
     "output_type": "stream",
     "text": [
      "[0]\ttest-logloss:0.66681\n",
      "[1]\ttest-logloss:0.64283\n",
      "[2]\ttest-logloss:0.62110\n",
      "[3]\ttest-logloss:0.60094\n",
      "[4]\ttest-logloss:0.58260\n",
      "[5]\ttest-logloss:0.56538\n",
      "[6]\ttest-logloss:0.54960\n",
      "[7]\ttest-logloss:0.53491\n",
      "[8]\ttest-logloss:0.52134\n",
      "[9]\ttest-logloss:0.50838\n",
      "[10]\ttest-logloss:0.49638\n",
      "[11]\ttest-logloss:0.48532\n",
      "[12]\ttest-logloss:0.47475\n",
      "[13]\ttest-logloss:0.46493\n",
      "[14]\ttest-logloss:0.45559\n",
      "[15]\ttest-logloss:0.44649\n",
      "[16]\ttest-logloss:0.43839\n",
      "[17]\ttest-logloss:0.43017\n",
      "[18]\ttest-logloss:0.42268\n",
      "[19]\ttest-logloss:0.41530\n",
      "[20]\ttest-logloss:0.40835\n",
      "[21]\ttest-logloss:0.40177\n",
      "[22]\ttest-logloss:0.39593\n",
      "[23]\ttest-logloss:0.38992\n",
      "[24]\ttest-logloss:0.38458\n",
      "[25]\ttest-logloss:0.37898\n",
      "[26]\ttest-logloss:0.37373\n",
      "[27]\ttest-logloss:0.36912\n",
      "[28]\ttest-logloss:0.36437\n",
      "[29]\ttest-logloss:0.35981\n",
      "[30]\ttest-logloss:0.35564\n",
      "[31]\ttest-logloss:0.35144\n",
      "[32]\ttest-logloss:0.34762\n",
      "[33]\ttest-logloss:0.34369\n",
      "[34]\ttest-logloss:0.33990\n",
      "[35]\ttest-logloss:0.33644\n",
      "[36]\ttest-logloss:0.33290\n",
      "[37]\ttest-logloss:0.32975\n",
      "[38]\ttest-logloss:0.32632\n",
      "[39]\ttest-logloss:0.32285\n",
      "[40]\ttest-logloss:0.31960\n",
      "[41]\ttest-logloss:0.31643\n",
      "[42]\ttest-logloss:0.31359\n",
      "[43]\ttest-logloss:0.31089\n",
      "[44]\ttest-logloss:0.30847\n",
      "[45]\ttest-logloss:0.30598\n",
      "[46]\ttest-logloss:0.30337\n",
      "[47]\ttest-logloss:0.30108\n",
      "[48]\ttest-logloss:0.29880\n",
      "[49]\ttest-logloss:0.29668\n",
      "[50]\ttest-logloss:0.29451\n",
      "[51]\ttest-logloss:0.29244\n",
      "[52]\ttest-logloss:0.29057\n",
      "[53]\ttest-logloss:0.28862\n",
      "[54]\ttest-logloss:0.28672\n",
      "[55]\ttest-logloss:0.28510\n",
      "[56]\ttest-logloss:0.28329\n",
      "[57]\ttest-logloss:0.28149\n",
      "[58]\ttest-logloss:0.27979\n",
      "[59]\ttest-logloss:0.27830\n",
      "[60]\ttest-logloss:0.27664\n",
      "[61]\ttest-logloss:0.27500\n",
      "[62]\ttest-logloss:0.27337\n",
      "[63]\ttest-logloss:0.27201\n",
      "[64]\ttest-logloss:0.27045\n",
      "[65]\ttest-logloss:0.26921\n",
      "[66]\ttest-logloss:0.26774\n",
      "[67]\ttest-logloss:0.26644\n",
      "[68]\ttest-logloss:0.26508\n",
      "[69]\ttest-logloss:0.26398\n",
      "[70]\ttest-logloss:0.26283\n",
      "[71]\ttest-logloss:0.26179\n",
      "[72]\ttest-logloss:0.26026\n",
      "[73]\ttest-logloss:0.25929\n",
      "[74]\ttest-logloss:0.25825\n",
      "[75]\ttest-logloss:0.25735\n",
      "[76]\ttest-logloss:0.25608\n",
      "[77]\ttest-logloss:0.25475\n",
      "[78]\ttest-logloss:0.25380\n",
      "[79]\ttest-logloss:0.25287\n",
      "[80]\ttest-logloss:0.25176\n",
      "[81]\ttest-logloss:0.25086\n",
      "[82]\ttest-logloss:0.24993\n",
      "[83]\ttest-logloss:0.24907\n",
      "[84]\ttest-logloss:0.24804\n",
      "[85]\ttest-logloss:0.24698\n",
      "[86]\ttest-logloss:0.24608\n",
      "[87]\ttest-logloss:0.24530\n",
      "[88]\ttest-logloss:0.24453\n",
      "[89]\ttest-logloss:0.24368\n",
      "[90]\ttest-logloss:0.24276\n",
      "[91]\ttest-logloss:0.24212\n",
      "[92]\ttest-logloss:0.24128\n",
      "[93]\ttest-logloss:0.24058\n",
      "[94]\ttest-logloss:0.23975\n",
      "[95]\ttest-logloss:0.23879\n",
      "[96]\ttest-logloss:0.23804\n",
      "[97]\ttest-logloss:0.23733\n",
      "[98]\ttest-logloss:0.23651\n",
      "[99]\ttest-logloss:0.23570\n",
      "[100]\ttest-logloss:0.23504\n",
      "[101]\ttest-logloss:0.23444\n",
      "[102]\ttest-logloss:0.23359\n",
      "[103]\ttest-logloss:0.23273\n",
      "[104]\ttest-logloss:0.23216\n",
      "[105]\ttest-logloss:0.23135\n",
      "[106]\ttest-logloss:0.23050\n",
      "[107]\ttest-logloss:0.23006\n",
      "[108]\ttest-logloss:0.22964\n",
      "[109]\ttest-logloss:0.22896\n",
      "[110]\ttest-logloss:0.22827\n",
      "[111]\ttest-logloss:0.22759\n",
      "[112]\ttest-logloss:0.22692\n",
      "[113]\ttest-logloss:0.22630\n",
      "[114]\ttest-logloss:0.22557\n",
      "[115]\ttest-logloss:0.22506\n",
      "[116]\ttest-logloss:0.22466\n",
      "[117]\ttest-logloss:0.22431\n",
      "[118]\ttest-logloss:0.22356\n",
      "[119]\ttest-logloss:0.22306\n",
      "[120]\ttest-logloss:0.22255\n",
      "[121]\ttest-logloss:0.22194\n",
      "[122]\ttest-logloss:0.22127\n",
      "[123]\ttest-logloss:0.22072\n",
      "[124]\ttest-logloss:0.22040\n",
      "[125]\ttest-logloss:0.21995\n",
      "[126]\ttest-logloss:0.21945\n",
      "[127]\ttest-logloss:0.21889\n",
      "[128]\ttest-logloss:0.21846\n",
      "[129]\ttest-logloss:0.21807\n",
      "[130]\ttest-logloss:0.21778\n",
      "[131]\ttest-logloss:0.21736\n",
      "[132]\ttest-logloss:0.21706\n",
      "[133]\ttest-logloss:0.21656\n",
      "[134]\ttest-logloss:0.21602\n",
      "[135]\ttest-logloss:0.21553\n",
      "[136]\ttest-logloss:0.21527\n",
      "[137]\ttest-logloss:0.21490\n",
      "[138]\ttest-logloss:0.21402\n",
      "[139]\ttest-logloss:0.21353\n",
      "[140]\ttest-logloss:0.21302\n",
      "[141]\ttest-logloss:0.21222\n",
      "[142]\ttest-logloss:0.21170\n",
      "[143]\ttest-logloss:0.21102\n",
      "[144]\ttest-logloss:0.21076\n",
      "[145]\ttest-logloss:0.21018\n",
      "[146]\ttest-logloss:0.20968\n",
      "[147]\ttest-logloss:0.20908\n",
      "[148]\ttest-logloss:0.20865\n",
      "[149]\ttest-logloss:0.20833\n",
      "[150]\ttest-logloss:0.20785\n",
      "[151]\ttest-logloss:0.20758\n",
      "[152]\ttest-logloss:0.20713\n",
      "[153]\ttest-logloss:0.20671\n",
      "[154]\ttest-logloss:0.20648\n",
      "[155]\ttest-logloss:0.20617\n",
      "[156]\ttest-logloss:0.20568\n",
      "[157]\ttest-logloss:0.20534\n",
      "[158]\ttest-logloss:0.20506\n",
      "[159]\ttest-logloss:0.20465\n",
      "[160]\ttest-logloss:0.20436\n",
      "[161]\ttest-logloss:0.20410\n",
      "[162]\ttest-logloss:0.20386\n",
      "[163]\ttest-logloss:0.20365\n",
      "[164]\ttest-logloss:0.20339\n",
      "[165]\ttest-logloss:0.20296\n",
      "[166]\ttest-logloss:0.20257\n",
      "[167]\ttest-logloss:0.20232\n",
      "[168]\ttest-logloss:0.20205\n",
      "[169]\ttest-logloss:0.20180\n",
      "[170]\ttest-logloss:0.20149\n",
      "[171]\ttest-logloss:0.20122\n",
      "[172]\ttest-logloss:0.20086\n",
      "[173]\ttest-logloss:0.20055\n",
      "[174]\ttest-logloss:0.20009\n",
      "[175]\ttest-logloss:0.19986\n",
      "[176]\ttest-logloss:0.19965\n",
      "[177]\ttest-logloss:0.19907\n",
      "[178]\ttest-logloss:0.19866\n",
      "[179]\ttest-logloss:0.19791\n",
      "[180]\ttest-logloss:0.19753\n",
      "[181]\ttest-logloss:0.19711\n",
      "[182]\ttest-logloss:0.19687\n",
      "[183]\ttest-logloss:0.19660\n",
      "[184]\ttest-logloss:0.19617\n",
      "[185]\ttest-logloss:0.19595\n",
      "[186]\ttest-logloss:0.19561\n",
      "[187]\ttest-logloss:0.19505\n",
      "[188]\ttest-logloss:0.19485\n",
      "[189]\ttest-logloss:0.19461\n",
      "[190]\ttest-logloss:0.19428\n",
      "[191]\ttest-logloss:0.19361\n",
      "[192]\ttest-logloss:0.19327\n",
      "[193]\ttest-logloss:0.19308\n",
      "[194]\ttest-logloss:0.19269\n",
      "[195]\ttest-logloss:0.19233\n",
      "[196]\ttest-logloss:0.19195\n",
      "[197]\ttest-logloss:0.19176\n",
      "[198]\ttest-logloss:0.19154\n",
      "[199]\ttest-logloss:0.19134\n",
      "[200]\ttest-logloss:0.19073\n",
      "[201]\ttest-logloss:0.19038\n",
      "[202]\ttest-logloss:0.18977\n",
      "[203]\ttest-logloss:0.18952\n",
      "[204]\ttest-logloss:0.18933\n",
      "[205]\ttest-logloss:0.18890\n",
      "[206]\ttest-logloss:0.18857\n",
      "[207]\ttest-logloss:0.18817\n",
      "[208]\ttest-logloss:0.18790\n",
      "[209]\ttest-logloss:0.18725\n",
      "[210]\ttest-logloss:0.18706\n",
      "[211]\ttest-logloss:0.18673\n",
      "[212]\ttest-logloss:0.18637\n",
      "[213]\ttest-logloss:0.18599\n",
      "[214]\ttest-logloss:0.18576\n",
      "[215]\ttest-logloss:0.18561\n",
      "[216]\ttest-logloss:0.18510\n",
      "[217]\ttest-logloss:0.18474\n",
      "[218]\ttest-logloss:0.18450\n",
      "[219]\ttest-logloss:0.18418\n",
      "[220]\ttest-logloss:0.18399\n",
      "[221]\ttest-logloss:0.18369\n",
      "[222]\ttest-logloss:0.18349\n",
      "[223]\ttest-logloss:0.18329\n",
      "[224]\ttest-logloss:0.18313\n",
      "[225]\ttest-logloss:0.18275\n",
      "[226]\ttest-logloss:0.18253\n",
      "[227]\ttest-logloss:0.18206\n",
      "[228]\ttest-logloss:0.18178\n",
      "[229]\ttest-logloss:0.18159\n",
      "[230]\ttest-logloss:0.18141\n",
      "[231]\ttest-logloss:0.18063\n",
      "[232]\ttest-logloss:0.18047\n",
      "[233]\ttest-logloss:0.18005\n",
      "[234]\ttest-logloss:0.17984\n",
      "[235]\ttest-logloss:0.17944\n",
      "[236]\ttest-logloss:0.17874\n",
      "[237]\ttest-logloss:0.17848\n",
      "[238]\ttest-logloss:0.17830\n",
      "[239]\ttest-logloss:0.17793\n",
      "[240]\ttest-logloss:0.17742\n",
      "[241]\ttest-logloss:0.17717\n",
      "[242]\ttest-logloss:0.17654\n",
      "[243]\ttest-logloss:0.17636\n",
      "[244]\ttest-logloss:0.17603\n",
      "[245]\ttest-logloss:0.17585\n",
      "[246]\ttest-logloss:0.17563\n",
      "[247]\ttest-logloss:0.17532\n",
      "[248]\ttest-logloss:0.17520\n",
      "[249]\ttest-logloss:0.17488\n",
      "[250]\ttest-logloss:0.17476\n",
      "[251]\ttest-logloss:0.17451\n",
      "[252]\ttest-logloss:0.17436\n",
      "[253]\ttest-logloss:0.17402\n",
      "[254]\ttest-logloss:0.17348\n",
      "[255]\ttest-logloss:0.17302\n",
      "[256]\ttest-logloss:0.17289\n",
      "[257]\ttest-logloss:0.17275\n",
      "[258]\ttest-logloss:0.17245\n",
      "[259]\ttest-logloss:0.17197\n",
      "[260]\ttest-logloss:0.17182\n",
      "[261]\ttest-logloss:0.17124\n",
      "[262]\ttest-logloss:0.17115\n",
      "[263]\ttest-logloss:0.17104\n",
      "[264]\ttest-logloss:0.17081\n",
      "[265]\ttest-logloss:0.17027\n",
      "[266]\ttest-logloss:0.16994\n",
      "[267]\ttest-logloss:0.16942\n",
      "[268]\ttest-logloss:0.16914\n",
      "[269]\ttest-logloss:0.16885\n",
      "[270]\ttest-logloss:0.16834\n",
      "[271]\ttest-logloss:0.16792\n",
      "[272]\ttest-logloss:0.16745\n",
      "[273]\ttest-logloss:0.16725\n",
      "[274]\ttest-logloss:0.16697\n",
      "[275]\ttest-logloss:0.16684\n",
      "[276]\ttest-logloss:0.16672\n",
      "[277]\ttest-logloss:0.16638\n",
      "[278]\ttest-logloss:0.16605\n",
      "[279]\ttest-logloss:0.16588\n",
      "[280]\ttest-logloss:0.16571\n",
      "[281]\ttest-logloss:0.16551\n",
      "[282]\ttest-logloss:0.16519\n",
      "[283]\ttest-logloss:0.16507\n",
      "[284]\ttest-logloss:0.16492\n",
      "[285]\ttest-logloss:0.16470\n",
      "[286]\ttest-logloss:0.16458\n",
      "[287]\ttest-logloss:0.16438\n",
      "[288]\ttest-logloss:0.16392\n",
      "[289]\ttest-logloss:0.16365\n",
      "[290]\ttest-logloss:0.16329\n",
      "[291]\ttest-logloss:0.16316\n",
      "[292]\ttest-logloss:0.16295\n",
      "[293]\ttest-logloss:0.16272\n",
      "[294]\ttest-logloss:0.16250\n",
      "[295]\ttest-logloss:0.16223\n",
      "[296]\ttest-logloss:0.16213\n",
      "[297]\ttest-logloss:0.16201\n",
      "[298]\ttest-logloss:0.16165\n",
      "[299]\ttest-logloss:0.16116\n"
     ]
    }
   ],
   "source": [
    "# Convert datasets into XGBoost DMatrix format\n",
    "dtrain = xgb.DMatrix(X_train, label=y_train)\n",
    "dtest = xgb.DMatrix(X_test, label=y_test)\n",
    "\n",
    "# Define model parameters\n",
    "params = {\n",
    "    \"objective\": \"binary:logistic\",\n",
    "    \"learning_rate\": 0.05,  # Reduced learning rate\n",
    "    \"max_depth\": 4,\n",
    "    \"eval_metric\": \"logloss\"\n",
    "}\n",
    "\n",
    "# Train model with early stopping\n",
    "xgb_model = xgb.train(\n",
    "    params=params,\n",
    "    dtrain=dtrain,\n",
    "    num_boost_round=300,  # Increased number of trees\n",
    "    evals=[(dtest, \"test\")],  # Validation set for early stopping\n",
    "    early_stopping_rounds=30  # Stop if no improvement in 20 rounds\n",
    ")"
   ]
  },
  {
   "cell_type": "code",
   "execution_count": 172,
   "id": "9a702d7a",
   "metadata": {
    "execution": {
     "iopub.execute_input": "2025-03-18T15:19:35.340377Z",
     "iopub.status.busy": "2025-03-18T15:19:35.339866Z",
     "iopub.status.idle": "2025-03-18T15:19:37.184809Z",
     "shell.execute_reply": "2025-03-18T15:19:37.183560Z"
    },
    "papermill": {
     "duration": 1.924494,
     "end_time": "2025-03-18T15:19:37.186789",
     "exception": false,
     "start_time": "2025-03-18T15:19:35.262295",
     "status": "completed"
    },
    "tags": []
   },
   "outputs": [
    {
     "name": "stdout",
     "output_type": "stream",
     "text": [
      "[0]\ttest-logloss:0.66677\n",
      "[1]\ttest-logloss:0.64203\n",
      "[2]\ttest-logloss:0.61891\n",
      "[3]\ttest-logloss:0.59821\n",
      "[4]\ttest-logloss:0.57918\n",
      "[5]\ttest-logloss:0.56100\n",
      "[6]\ttest-logloss:0.54483\n",
      "[7]\ttest-logloss:0.52984\n",
      "[8]\ttest-logloss:0.51603\n",
      "[9]\ttest-logloss:0.50277\n",
      "[10]\ttest-logloss:0.49094\n",
      "[11]\ttest-logloss:0.47906\n",
      "[12]\ttest-logloss:0.46836\n",
      "[13]\ttest-logloss:0.45816\n",
      "[14]\ttest-logloss:0.44938\n",
      "[15]\ttest-logloss:0.44101\n",
      "[16]\ttest-logloss:0.43315\n",
      "[17]\ttest-logloss:0.42592\n",
      "[18]\ttest-logloss:0.41886\n",
      "[19]\ttest-logloss:0.41174\n",
      "[20]\ttest-logloss:0.40443\n",
      "[21]\ttest-logloss:0.39760\n",
      "[22]\ttest-logloss:0.39274\n",
      "[23]\ttest-logloss:0.38658\n",
      "[24]\ttest-logloss:0.38135\n",
      "[25]\ttest-logloss:0.37576\n",
      "[26]\ttest-logloss:0.37057\n",
      "[27]\ttest-logloss:0.36622\n",
      "[28]\ttest-logloss:0.36146\n",
      "[29]\ttest-logloss:0.35699\n",
      "[30]\ttest-logloss:0.35373\n",
      "[31]\ttest-logloss:0.34994\n",
      "[32]\ttest-logloss:0.34688\n",
      "[33]\ttest-logloss:0.34328\n",
      "[34]\ttest-logloss:0.33981\n",
      "[35]\ttest-logloss:0.33787\n",
      "[36]\ttest-logloss:0.33422\n",
      "[37]\ttest-logloss:0.33262\n",
      "[38]\ttest-logloss:0.32946\n",
      "[39]\ttest-logloss:0.32721\n",
      "[40]\ttest-logloss:0.32435\n",
      "[41]\ttest-logloss:0.32226\n",
      "[42]\ttest-logloss:0.31941\n",
      "[43]\ttest-logloss:0.31691\n",
      "[44]\ttest-logloss:0.31587\n",
      "[45]\ttest-logloss:0.31383\n",
      "[46]\ttest-logloss:0.31227\n",
      "[47]\ttest-logloss:0.31008\n",
      "[48]\ttest-logloss:0.30844\n",
      "[49]\ttest-logloss:0.30694\n",
      "[50]\ttest-logloss:0.30542\n",
      "[51]\ttest-logloss:0.30343\n",
      "[52]\ttest-logloss:0.30274\n",
      "[53]\ttest-logloss:0.30148\n",
      "[54]\ttest-logloss:0.29996\n",
      "[55]\ttest-logloss:0.29947\n",
      "[56]\ttest-logloss:0.29808\n",
      "[57]\ttest-logloss:0.29694\n",
      "[58]\ttest-logloss:0.29602\n",
      "[59]\ttest-logloss:0.29557\n",
      "[60]\ttest-logloss:0.29429\n",
      "[61]\ttest-logloss:0.29315\n",
      "[62]\ttest-logloss:0.29160\n",
      "[63]\ttest-logloss:0.29134\n",
      "[64]\ttest-logloss:0.29037\n",
      "[65]\ttest-logloss:0.28945\n",
      "[66]\ttest-logloss:0.28872\n",
      "[67]\ttest-logloss:0.28761\n",
      "[68]\ttest-logloss:0.28706\n",
      "[69]\ttest-logloss:0.28630\n",
      "[70]\ttest-logloss:0.28610\n",
      "[71]\ttest-logloss:0.28526\n",
      "[72]\ttest-logloss:0.28464\n",
      "[73]\ttest-logloss:0.28395\n",
      "[74]\ttest-logloss:0.28385\n",
      "[75]\ttest-logloss:0.28327\n",
      "[76]\ttest-logloss:0.28259\n",
      "[77]\ttest-logloss:0.28226\n",
      "[78]\ttest-logloss:0.28157\n",
      "[79]\ttest-logloss:0.28150\n",
      "[80]\ttest-logloss:0.28118\n",
      "[81]\ttest-logloss:0.28068\n",
      "[82]\ttest-logloss:0.28049\n",
      "[83]\ttest-logloss:0.27998\n",
      "[84]\ttest-logloss:0.27987\n",
      "[85]\ttest-logloss:0.27970\n",
      "[86]\ttest-logloss:0.27933\n",
      "[87]\ttest-logloss:0.27864\n",
      "[88]\ttest-logloss:0.27855\n",
      "[89]\ttest-logloss:0.27854\n",
      "[90]\ttest-logloss:0.27826\n",
      "[91]\ttest-logloss:0.27799\n",
      "[92]\ttest-logloss:0.27774\n",
      "[93]\ttest-logloss:0.27741\n",
      "[94]\ttest-logloss:0.27731\n",
      "[95]\ttest-logloss:0.27728\n",
      "[96]\ttest-logloss:0.27703\n",
      "[97]\ttest-logloss:0.27670\n",
      "[98]\ttest-logloss:0.27638\n",
      "[99]\ttest-logloss:0.27649\n",
      "[100]\ttest-logloss:0.27635\n",
      "[101]\ttest-logloss:0.27622\n",
      "[102]\ttest-logloss:0.27627\n",
      "[103]\ttest-logloss:0.27621\n",
      "[104]\ttest-logloss:0.27595\n",
      "[105]\ttest-logloss:0.27613\n",
      "[106]\ttest-logloss:0.27600\n",
      "[107]\ttest-logloss:0.27603\n",
      "[108]\ttest-logloss:0.27595\n",
      "[109]\ttest-logloss:0.27589\n",
      "[110]\ttest-logloss:0.27586\n",
      "[111]\ttest-logloss:0.27590\n",
      "[112]\ttest-logloss:0.27577\n",
      "[113]\ttest-logloss:0.27556\n",
      "[114]\ttest-logloss:0.27566\n",
      "[115]\ttest-logloss:0.27570\n",
      "[116]\ttest-logloss:0.27549\n",
      "[117]\ttest-logloss:0.27561\n",
      "[118]\ttest-logloss:0.27575\n",
      "[119]\ttest-logloss:0.27603\n",
      "[120]\ttest-logloss:0.27597\n",
      "[121]\ttest-logloss:0.27616\n",
      "[122]\ttest-logloss:0.27639\n",
      "[123]\ttest-logloss:0.27635\n",
      "[124]\ttest-logloss:0.27643\n",
      "[125]\ttest-logloss:0.27648\n",
      "[126]\ttest-logloss:0.27651\n",
      "[127]\ttest-logloss:0.27673\n",
      "[128]\ttest-logloss:0.27665\n",
      "[129]\ttest-logloss:0.27650\n",
      "[130]\ttest-logloss:0.27653\n",
      "[131]\ttest-logloss:0.27652\n",
      "[132]\ttest-logloss:0.27655\n",
      "[133]\ttest-logloss:0.27639\n",
      "[134]\ttest-logloss:0.27660\n",
      "[135]\ttest-logloss:0.27651\n",
      "[136]\ttest-logloss:0.27659\n",
      "[137]\ttest-logloss:0.27665\n",
      "[138]\ttest-logloss:0.27662\n",
      "[139]\ttest-logloss:0.27675\n",
      "[140]\ttest-logloss:0.27692\n",
      "[141]\ttest-logloss:0.27706\n",
      "[142]\ttest-logloss:0.27711\n",
      "[143]\ttest-logloss:0.27711\n",
      "[144]\ttest-logloss:0.27714\n",
      "[145]\ttest-logloss:0.27733\n",
      "[146]\ttest-logloss:0.27739\n"
     ]
    }
   ],
   "source": [
    "# Convert datasets into XGBoost DMatrix format\n",
    "wdtrain = xgb.DMatrix(A_train, label=b_train)\n",
    "wdtest = xgb.DMatrix(A_test, label=b_test)\n",
    "\n",
    "# Define model parameters\n",
    "params = {\n",
    "    \"objective\": \"binary:logistic\",\n",
    "    \"learning_rate\": 0.05,  # Reduced learning rate\n",
    "    \"max_depth\": 4,\n",
    "    \"eval_metric\": \"logloss\"\n",
    "}\n",
    "\n",
    "# Train model with early stopping\n",
    "xgb_model = xgb.train(\n",
    "    params=params,\n",
    "    dtrain=dtrain,\n",
    "    num_boost_round=300,  # Increased number of trees\n",
    "    evals=[(wdtest, \"test\")],  # Validation set for early stopping\n",
    "    early_stopping_rounds=30  # Stop if no improvement in 20 rounds\n",
    ")"
   ]
  },
  {
   "cell_type": "code",
   "execution_count": 173,
   "id": "9f6cc466",
   "metadata": {
    "_cell_guid": "54fcea30-65dd-4847-9e78-7c38058f2a46",
    "_uuid": "728ccc55-e86c-4190-adff-3e9aea705bc4",
    "collapsed": false,
    "execution": {
     "iopub.execute_input": "2025-03-18T15:19:37.356433Z",
     "iopub.status.busy": "2025-03-18T15:19:37.355942Z",
     "iopub.status.idle": "2025-03-18T15:19:37.435576Z",
     "shell.execute_reply": "2025-03-18T15:19:37.433986Z"
    },
    "id": "6kSTxDt7McpZ",
    "jupyter": {
     "outputs_hidden": false
    },
    "outputId": "08466d33-bde3-41b0-cacf-5023d537e8cd",
    "papermill": {
     "duration": 0.164847,
     "end_time": "2025-03-18T15:19:37.437724",
     "exception": false,
     "start_time": "2025-03-18T15:19:37.272877",
     "status": "completed"
    },
    "tags": []
   },
   "outputs": [
    {
     "name": "stdout",
     "output_type": "stream",
     "text": [
      "Accuracy: 0.9136684954631779\n",
      "Log Loss: 0.209680584632166\n",
      "AUC Score: 0.9791833466907109\n"
     ]
    }
   ],
   "source": [
    "# Make predictions\n",
    "y_pred_proba = xgb_model.predict(dtest)\n",
    "y_pred = (y_pred_proba > 0.5).astype(int)\n",
    "\n",
    "# Evaluate performance\n",
    "accuracy = accuracy_score(y_test, y_pred)\n",
    "logloss = log_loss(y_test, y_pred_proba)\n",
    "auc = roc_auc_score(y_test, y_pred_proba)\n",
    "\n",
    "# Print results\n",
    "print(f\"Accuracy: {accuracy}\")\n",
    "print(f\"Log Loss: {logloss}\")\n",
    "print(f\"AUC Score: {auc}\")"
   ]
  },
  {
   "cell_type": "code",
   "execution_count": 174,
   "id": "0aa2f4d1",
   "metadata": {
    "execution": {
     "iopub.execute_input": "2025-03-18T15:19:37.600881Z",
     "iopub.status.busy": "2025-03-18T15:19:37.600449Z",
     "iopub.status.idle": "2025-03-18T15:19:37.656445Z",
     "shell.execute_reply": "2025-03-18T15:19:37.654264Z"
    },
    "papermill": {
     "duration": 0.13979,
     "end_time": "2025-03-18T15:19:37.658703",
     "exception": false,
     "start_time": "2025-03-18T15:19:37.518913",
     "status": "completed"
    },
    "tags": []
   },
   "outputs": [
    {
     "name": "stdout",
     "output_type": "stream",
     "text": [
      "Accuracy: 0.8844751728472658\n",
      "Log Loss: 0.2773940936182966\n",
      "AUC Score: 0.9530674319031217\n"
     ]
    }
   ],
   "source": [
    "# Make predictions\n",
    "b_pred_proba = xgb_model.predict(wdtest)\n",
    "b_pred = (b_pred_proba > 0.5).astype(int)\n",
    "\n",
    "# Evaluate performance\n",
    "accuracy = accuracy_score(b_test, b_pred)\n",
    "logloss = log_loss(b_test, b_pred_proba)\n",
    "auc = roc_auc_score(b_test, b_pred_proba)\n",
    "\n",
    "# Print results\n",
    "print(f\"Accuracy: {accuracy}\")\n",
    "print(f\"Log Loss: {logloss}\")\n",
    "print(f\"AUC Score: {auc}\")"
   ]
  },
  {
   "cell_type": "code",
   "execution_count": 175,
   "id": "7c35e227",
   "metadata": {
    "_cell_guid": "03fb48d7-c316-4673-bc0f-a79120353179",
    "_uuid": "b67ccbd8-51d5-47de-b977-97cffdc4a842",
    "collapsed": false,
    "execution": {
     "iopub.execute_input": "2025-03-18T15:19:37.822414Z",
     "iopub.status.busy": "2025-03-18T15:19:37.821906Z",
     "iopub.status.idle": "2025-03-18T15:19:37.974136Z",
     "shell.execute_reply": "2025-03-18T15:19:37.972471Z"
    },
    "id": "A6XZ-wlEADoU",
    "jupyter": {
     "outputs_hidden": false
    },
    "outputId": "346b8402-6e92-4cb6-b16d-66b3603d1e9e",
    "papermill": {
     "duration": 0.236575,
     "end_time": "2025-03-18T15:19:37.976141",
     "exception": false,
     "start_time": "2025-03-18T15:19:37.739566",
     "status": "completed"
    },
    "tags": []
   },
   "outputs": [
    {
     "name": "stdout",
     "output_type": "stream",
     "text": [
      "Training Accuracy: 0.9155005737045487\n"
     ]
    }
   ],
   "source": [
    "train_preds = xgb_model.predict(dtrain)\n",
    "train_labels = (train_preds > 0.5).astype(int)\n",
    "\n",
    "train_acc = accuracy_score(y_train, train_labels)\n",
    "print(f\"Training Accuracy: {train_acc}\")"
   ]
  },
  {
   "cell_type": "code",
   "execution_count": 176,
   "id": "0b24a710",
   "metadata": {
    "execution": {
     "iopub.execute_input": "2025-03-18T15:19:38.147475Z",
     "iopub.status.busy": "2025-03-18T15:19:38.146994Z",
     "iopub.status.idle": "2025-03-18T15:19:38.247762Z",
     "shell.execute_reply": "2025-03-18T15:19:38.246190Z"
    },
    "papermill": {
     "duration": 0.190866,
     "end_time": "2025-03-18T15:19:38.249956",
     "exception": false,
     "start_time": "2025-03-18T15:19:38.059090",
     "status": "completed"
    },
    "tags": []
   },
   "outputs": [
    {
     "name": "stdout",
     "output_type": "stream",
     "text": [
      "Training Accuracy: 0.8823473952167946\n"
     ]
    }
   ],
   "source": [
    "wtrain_preds = xgb_model.predict(wdtrain)\n",
    "wtrain_labels = (wtrain_preds > 0.5).astype(int)\n",
    "\n",
    "wtrain_acc = accuracy_score(b_train, wtrain_labels)\n",
    "print(f\"Training Accuracy: {wtrain_acc}\")"
   ]
  },
  {
   "cell_type": "code",
   "execution_count": 177,
   "id": "25585105",
   "metadata": {
    "_cell_guid": "829de899-d659-4cbd-9382-1594d95328b7",
    "_uuid": "aa34e4f2-bd12-4358-8ab6-1701661cfafc",
    "collapsed": false,
    "execution": {
     "iopub.execute_input": "2025-03-18T15:19:38.418601Z",
     "iopub.status.busy": "2025-03-18T15:19:38.418218Z",
     "iopub.status.idle": "2025-03-18T15:19:38.466505Z",
     "shell.execute_reply": "2025-03-18T15:19:38.465190Z"
    },
    "id": "KNahFC9o9Wvx",
    "jupyter": {
     "outputs_hidden": false
    },
    "outputId": "39590f49-e6b7-4441-e24a-8d51e2cecc51",
    "papermill": {
     "duration": 0.134316,
     "end_time": "2025-03-18T15:19:38.468618",
     "exception": false,
     "start_time": "2025-03-18T15:19:38.334302",
     "status": "completed"
    },
    "tags": []
   },
   "outputs": [
    {
     "name": "stdout",
     "output_type": "stream",
     "text": [
      "Accuracy: 0.9136684954631779\n",
      "Log Loss: 0.209680584632166\n",
      "AUC Score: 0.9791833466907109\n",
      "Brier Score: 0.061603974070730844\n"
     ]
    }
   ],
   "source": [
    "from sklearn.metrics import brier_score_loss\n",
    "\n",
    "# Make predictions\n",
    "y_pred_proba = xgb_model.predict(dtest)  # Probabilities\n",
    "y_pred = (y_pred_proba > 0.5).astype(int)  # Convert to binary predictions\n",
    "\n",
    "# Compute Performance Metrics\n",
    "accuracy = accuracy_score(y_test, y_pred)\n",
    "logloss = log_loss(y_test, y_pred_proba)\n",
    "auc = roc_auc_score(y_test, y_pred_proba)\n",
    "brier_score = brier_score_loss(y_test, y_pred_proba)  # <-- Added Brier Score Calculation\n",
    "\n",
    "# Print All Evaluation Results\n",
    "print(f\"Accuracy: {accuracy}\")\n",
    "print(f\"Log Loss: {logloss}\")\n",
    "print(f\"AUC Score: {auc}\")\n",
    "print(f\"Brier Score: {brier_score}\")  # <-- Added Brier Score Output"
   ]
  },
  {
   "cell_type": "code",
   "execution_count": 178,
   "id": "042bacc0",
   "metadata": {
    "execution": {
     "iopub.execute_input": "2025-03-18T15:19:38.631885Z",
     "iopub.status.busy": "2025-03-18T15:19:38.631529Z",
     "iopub.status.idle": "2025-03-18T15:19:38.664670Z",
     "shell.execute_reply": "2025-03-18T15:19:38.663398Z"
    },
    "papermill": {
     "duration": 0.117305,
     "end_time": "2025-03-18T15:19:38.666560",
     "exception": false,
     "start_time": "2025-03-18T15:19:38.549255",
     "status": "completed"
    },
    "tags": []
   },
   "outputs": [
    {
     "name": "stdout",
     "output_type": "stream",
     "text": [
      "Accuracy: 0.8844751728472658\n",
      "Log Loss: 0.2773940936182966\n",
      "AUC Score: 0.9530674319031217\n",
      "Womens Champion Brier Score: 0.08494747023623704\n"
     ]
    }
   ],
   "source": [
    "from sklearn.metrics import brier_score_loss\n",
    "\n",
    "# Make predictions\n",
    "b_pred_proba = xgb_model.predict(wdtest)  # Probabilities\n",
    "b_pred = (b_pred_proba > 0.5).astype(int)  # Convert to binary predictions\n",
    "\n",
    "# Compute Performance Metrics\n",
    "accuracy = accuracy_score(b_test, b_pred)\n",
    "logloss = log_loss(b_test, b_pred_proba)\n",
    "auc = roc_auc_score(b_test, b_pred_proba)\n",
    "brier_score = brier_score_loss(b_test, b_pred_proba)  # <-- Added Brier Score Calculation\n",
    "\n",
    "# Woman Print All Evaluation Results\n",
    "print(f\"Accuracy: {accuracy}\")\n",
    "print(f\"Log Loss: {logloss}\")\n",
    "print(f\"AUC Score: {auc}\")\n",
    "print(f\"Womens Champion Brier Score: {brier_score}\")  # <-- Added Brier Score Output"
   ]
  },
  {
   "cell_type": "markdown",
   "id": "32504dad",
   "metadata": {
    "_cell_guid": "4e4c5069-a56e-4e4c-bf3f-e839975971a4",
    "_uuid": "b2251cb4-2c42-4863-ad83-d7c8853f5ca1",
    "collapsed": false,
    "id": "NbtLV5WAs7u1",
    "jupyter": {
     "outputs_hidden": false
    },
    "papermill": {
     "duration": 0.080199,
     "end_time": "2025-03-18T15:19:38.828410",
     "exception": false,
     "start_time": "2025-03-18T15:19:38.748211",
     "status": "completed"
    },
    "tags": []
   },
   "source": [
    "# **Generate Possible Matchups for Predictions**"
   ]
  },
  {
   "cell_type": "code",
   "execution_count": 179,
   "id": "7d49629f",
   "metadata": {
    "_cell_guid": "e57aeb2e-265a-4a66-9fea-74b9bb1eca17",
    "_uuid": "91095797-7739-482e-9091-e49ad1a294bf",
    "collapsed": false,
    "execution": {
     "iopub.execute_input": "2025-03-18T15:19:38.991246Z",
     "iopub.status.busy": "2025-03-18T15:19:38.990832Z",
     "iopub.status.idle": "2025-03-18T15:19:39.018298Z",
     "shell.execute_reply": "2025-03-18T15:19:39.017197Z"
    },
    "id": "DSgfJ9qRQ2aR",
    "jupyter": {
     "outputs_hidden": false
    },
    "papermill": {
     "duration": 0.11165,
     "end_time": "2025-03-18T15:19:39.020305",
     "exception": false,
     "start_time": "2025-03-18T15:19:38.908655",
     "status": "completed"
    },
    "tags": []
   },
   "outputs": [],
   "source": [
    "# Combine both winning and losing teams\n",
    "teams_2025 = set(tourney_results[\"WTeamID\"]).union(set(tourney_results[\"LTeamID\"]))"
   ]
  },
  {
   "cell_type": "code",
   "execution_count": 180,
   "id": "a168b6ee",
   "metadata": {
    "execution": {
     "iopub.execute_input": "2025-03-18T15:19:39.194844Z",
     "iopub.status.busy": "2025-03-18T15:19:39.194492Z",
     "iopub.status.idle": "2025-03-18T15:19:39.213353Z",
     "shell.execute_reply": "2025-03-18T15:19:39.212182Z"
    },
    "papermill": {
     "duration": 0.108627,
     "end_time": "2025-03-18T15:19:39.215383",
     "exception": false,
     "start_time": "2025-03-18T15:19:39.106756",
     "status": "completed"
    },
    "tags": []
   },
   "outputs": [],
   "source": [
    "# Combine both winning and losing teams\n",
    "wteams_2025 = set(wtourney_results[\"WTeamID\"]).union(set(wtourney_results[\"LTeamID\"]))"
   ]
  },
  {
   "cell_type": "code",
   "execution_count": 181,
   "id": "c5977cda",
   "metadata": {
    "_cell_guid": "ff14a62b-690b-49e8-a3eb-bf204c242403",
    "_uuid": "3fe16327-917c-4c54-8321-09d4a576a101",
    "collapsed": false,
    "execution": {
     "iopub.execute_input": "2025-03-18T15:19:39.389888Z",
     "iopub.status.busy": "2025-03-18T15:19:39.389458Z",
     "iopub.status.idle": "2025-03-18T15:19:39.394513Z",
     "shell.execute_reply": "2025-03-18T15:19:39.392946Z"
    },
    "id": "KST7Hl4PQ2dS",
    "jupyter": {
     "outputs_hidden": false
    },
    "papermill": {
     "duration": 0.093402,
     "end_time": "2025-03-18T15:19:39.396511",
     "exception": false,
     "start_time": "2025-03-18T15:19:39.303109",
     "status": "completed"
    },
    "tags": []
   },
   "outputs": [],
   "source": [
    "# Convert back to list\n",
    "teams_2025 = list(teams_2025)"
   ]
  },
  {
   "cell_type": "code",
   "execution_count": 182,
   "id": "6c292699",
   "metadata": {
    "execution": {
     "iopub.execute_input": "2025-03-18T15:19:39.620512Z",
     "iopub.status.busy": "2025-03-18T15:19:39.620121Z",
     "iopub.status.idle": "2025-03-18T15:19:39.624552Z",
     "shell.execute_reply": "2025-03-18T15:19:39.623433Z"
    },
    "papermill": {
     "duration": 0.149305,
     "end_time": "2025-03-18T15:19:39.626676",
     "exception": false,
     "start_time": "2025-03-18T15:19:39.477371",
     "status": "completed"
    },
    "tags": []
   },
   "outputs": [],
   "source": [
    "# Convert back to list\n",
    "wteams_2025 = list(wteams_2025)"
   ]
  },
  {
   "cell_type": "code",
   "execution_count": 183,
   "id": "81c0dada",
   "metadata": {
    "_cell_guid": "da8cd3c9-f9f4-4e83-ba18-e8f2c3242c0f",
    "_uuid": "d69fec27-5231-4301-b277-5556b5390497",
    "collapsed": false,
    "execution": {
     "iopub.execute_input": "2025-03-18T15:19:39.806200Z",
     "iopub.status.busy": "2025-03-18T15:19:39.805710Z",
     "iopub.status.idle": "2025-03-18T15:19:39.816822Z",
     "shell.execute_reply": "2025-03-18T15:19:39.815701Z"
    },
    "id": "7mtawv-lQ2g4",
    "jupyter": {
     "outputs_hidden": false
    },
    "papermill": {
     "duration": 0.101469,
     "end_time": "2025-03-18T15:19:39.818692",
     "exception": false,
     "start_time": "2025-03-18T15:19:39.717223",
     "status": "completed"
    },
    "tags": []
   },
   "outputs": [],
   "source": [
    "# Generate all possible matchups\n",
    "import itertools\n",
    "matchup_list = list(itertools.combinations(teams_2025, 2))"
   ]
  },
  {
   "cell_type": "code",
   "execution_count": 184,
   "id": "4d37cd4b",
   "metadata": {
    "execution": {
     "iopub.execute_input": "2025-03-18T15:19:39.986367Z",
     "iopub.status.busy": "2025-03-18T15:19:39.985866Z",
     "iopub.status.idle": "2025-03-18T15:19:39.996242Z",
     "shell.execute_reply": "2025-03-18T15:19:39.995168Z"
    },
    "papermill": {
     "duration": 0.09432,
     "end_time": "2025-03-18T15:19:39.997952",
     "exception": false,
     "start_time": "2025-03-18T15:19:39.903632",
     "status": "completed"
    },
    "tags": []
   },
   "outputs": [],
   "source": [
    "# Generate all possible matchups\n",
    "import itertools\n",
    "wmatchup_list = list(itertools.combinations(wteams_2025, 2))"
   ]
  },
  {
   "cell_type": "code",
   "execution_count": 185,
   "id": "a84606b4",
   "metadata": {
    "_cell_guid": "6a722f9c-daf6-48f7-9097-efb3cae5cd90",
    "_uuid": "d0a7155f-e60d-40a2-8f94-1494c9e1dba6",
    "collapsed": false,
    "execution": {
     "iopub.execute_input": "2025-03-18T15:19:40.165643Z",
     "iopub.status.busy": "2025-03-18T15:19:40.165229Z",
     "iopub.status.idle": "2025-03-18T15:19:40.180313Z",
     "shell.execute_reply": "2025-03-18T15:19:40.179175Z"
    },
    "id": "4ZeHPXWVQ2ki",
    "jupyter": {
     "outputs_hidden": false
    },
    "papermill": {
     "duration": 0.101101,
     "end_time": "2025-03-18T15:19:40.182082",
     "exception": false,
     "start_time": "2025-03-18T15:19:40.080981",
     "status": "completed"
    },
    "tags": []
   },
   "outputs": [],
   "source": [
    "matchups_2025 = pd.DataFrame(matchup_list, columns=[\"Team1\", \"Team2\"])"
   ]
  },
  {
   "cell_type": "code",
   "execution_count": 186,
   "id": "05c21087",
   "metadata": {
    "execution": {
     "iopub.execute_input": "2025-03-18T15:19:40.352679Z",
     "iopub.status.busy": "2025-03-18T15:19:40.352238Z",
     "iopub.status.idle": "2025-03-18T15:19:40.365728Z",
     "shell.execute_reply": "2025-03-18T15:19:40.364523Z"
    },
    "papermill": {
     "duration": 0.103663,
     "end_time": "2025-03-18T15:19:40.367506",
     "exception": false,
     "start_time": "2025-03-18T15:19:40.263843",
     "status": "completed"
    },
    "tags": []
   },
   "outputs": [],
   "source": [
    "wmatchups_2025 = pd.DataFrame(wmatchup_list, columns=[\"Team1\", \"Team2\"])"
   ]
  },
  {
   "cell_type": "code",
   "execution_count": 187,
   "id": "77ab667e",
   "metadata": {
    "_cell_guid": "45f7e772-109d-497c-8cdd-f45f8fa08044",
    "_uuid": "168a4538-952a-4cb9-81b0-03feecbbf63e",
    "collapsed": false,
    "execution": {
     "iopub.execute_input": "2025-03-18T15:19:40.532879Z",
     "iopub.status.busy": "2025-03-18T15:19:40.532483Z",
     "iopub.status.idle": "2025-03-18T15:19:40.541115Z",
     "shell.execute_reply": "2025-03-18T15:19:40.539641Z"
    },
    "id": "4bedh1HgQ2oO",
    "jupyter": {
     "outputs_hidden": false
    },
    "outputId": "aa6f5396-364d-4354-a320-b58c7697aea4",
    "papermill": {
     "duration": 0.093849,
     "end_time": "2025-03-18T15:19:40.543398",
     "exception": false,
     "start_time": "2025-03-18T15:19:40.449549",
     "status": "completed"
    },
    "tags": []
   },
   "outputs": [
    {
     "name": "stdout",
     "output_type": "stream",
     "text": [
      "Total possible matchups : 47586\n",
      "    Team1   Team2\n",
      "0  1101.0  1102.0\n",
      "1  1101.0  1103.0\n",
      "2  1101.0  1104.0\n",
      "3  1101.0  1105.0\n",
      "4  1101.0  1106.0\n"
     ]
    }
   ],
   "source": [
    "print(f\"Total possible matchups : {len(matchups_2025)}\")\n",
    "print(matchups_2025.head())"
   ]
  },
  {
   "cell_type": "code",
   "execution_count": 188,
   "id": "a0414907",
   "metadata": {
    "execution": {
     "iopub.execute_input": "2025-03-18T15:19:40.716712Z",
     "iopub.status.busy": "2025-03-18T15:19:40.716301Z",
     "iopub.status.idle": "2025-03-18T15:19:40.724324Z",
     "shell.execute_reply": "2025-03-18T15:19:40.722599Z"
    },
    "papermill": {
     "duration": 0.09649,
     "end_time": "2025-03-18T15:19:40.726553",
     "exception": false,
     "start_time": "2025-03-18T15:19:40.630063",
     "status": "completed"
    },
    "tags": []
   },
   "outputs": [
    {
     "name": "stdout",
     "output_type": "stream",
     "text": [
      "Total possible matchups women's: 38781\n",
      "    Team1   Team2\n",
      "0  3101.0  3103.0\n",
      "1  3101.0  3104.0\n",
      "2  3101.0  3106.0\n",
      "3  3101.0  3107.0\n",
      "4  3101.0  3108.0\n"
     ]
    }
   ],
   "source": [
    "print(f\"Total possible matchups women's: {len(wmatchups_2025)}\")\n",
    "print(wmatchups_2025.head())"
   ]
  },
  {
   "cell_type": "code",
   "execution_count": 189,
   "id": "92b84246",
   "metadata": {
    "_cell_guid": "293ea3f7-77e7-4e87-a552-470f67f55f29",
    "_uuid": "239f9358-d948-40a3-b975-bca446594ca0",
    "collapsed": false,
    "execution": {
     "iopub.execute_input": "2025-03-18T15:19:40.901551Z",
     "iopub.status.busy": "2025-03-18T15:19:40.901132Z",
     "iopub.status.idle": "2025-03-18T15:19:40.931634Z",
     "shell.execute_reply": "2025-03-18T15:19:40.930192Z"
    },
    "id": "FlCyJTIrQ2rS",
    "jupyter": {
     "outputs_hidden": false
    },
    "papermill": {
     "duration": 0.119638,
     "end_time": "2025-03-18T15:19:40.933917",
     "exception": false,
     "start_time": "2025-03-18T15:19:40.814279",
     "status": "completed"
    },
    "tags": []
   },
   "outputs": [],
   "source": [
    "# Combine stats from both winning and losing teams\n",
    "team_stats_win = tourney_results.groupby(\"WTeamID\").agg({\n",
    "    \"WFG_Pct\": \"mean\",\n",
    "    \"W3P_Pct\": \"mean\",\n",
    "    \"WFT_Pct\": \"mean\",\n",
    "    \"WSeedNum\": \"mean\"\n",
    "}).reset_index()\n",
    "team_stats_win.rename(columns={\"WTeamID\": \"TeamID\"}, inplace=True)\n",
    "\n",
    "team_stats_loss = tourney_results.groupby(\"LTeamID\").agg({\n",
    "    \"LFG_Pct\": \"mean\",\n",
    "    \"L3P_Pct\": \"mean\",\n",
    "    \"LFT_Pct\": \"mean\",\n",
    "    \"LSeedNum\": \"mean\"\n",
    "}).reset_index()\n",
    "team_stats_loss.rename(columns={\n",
    "    \"LTeamID\": \"TeamID\",\n",
    "    \"LFG_Pct\": \"WFG_Pct\",  # Rename to match winning stats format\n",
    "    \"L3P_Pct\": \"W3P_Pct\",\n",
    "    \"LFT_Pct\": \"WFT_Pct\",\n",
    "    \"LSeedNum\": \"WSeedNum\"\n",
    "}, inplace=True)"
   ]
  },
  {
   "cell_type": "code",
   "execution_count": 190,
   "id": "20391779",
   "metadata": {
    "execution": {
     "iopub.execute_input": "2025-03-18T15:19:41.108872Z",
     "iopub.status.busy": "2025-03-18T15:19:41.108427Z",
     "iopub.status.idle": "2025-03-18T15:19:41.131030Z",
     "shell.execute_reply": "2025-03-18T15:19:41.129817Z"
    },
    "papermill": {
     "duration": 0.113383,
     "end_time": "2025-03-18T15:19:41.133367",
     "exception": false,
     "start_time": "2025-03-18T15:19:41.019984",
     "status": "completed"
    },
    "tags": []
   },
   "outputs": [],
   "source": [
    "# Combine stats from both winning and losing teams\n",
    "wteam_stats_win = wtourney_results.groupby(\"WTeamID\").agg({\n",
    "    \"WFG_Pct\": \"mean\",\n",
    "    \"W3P_Pct\": \"mean\",\n",
    "    \"WFT_Pct\": \"mean\",\n",
    "    \"WSeedNum\": \"mean\"\n",
    "}).reset_index()\n",
    "wteam_stats_win.rename(columns={\"WTeamID\": \"TeamID\"}, inplace=True)\n",
    "\n",
    "wteam_stats_loss = wtourney_results.groupby(\"LTeamID\").agg({\n",
    "    \"LFG_Pct\": \"mean\",\n",
    "    \"L3P_Pct\": \"mean\",\n",
    "    \"LFT_Pct\": \"mean\",\n",
    "    \"LSeedNum\": \"mean\"\n",
    "}).reset_index()\n",
    "wteam_stats_loss.rename(columns={\n",
    "    \"LTeamID\": \"TeamID\",\n",
    "    \"LFG_Pct\": \"WFG_Pct\",  # Rename to match winning stats format\n",
    "    \"L3P_Pct\": \"W3P_Pct\",\n",
    "    \"LFT_Pct\": \"WFT_Pct\",\n",
    "    \"LSeedNum\": \"WSeedNum\"\n",
    "}, inplace=True)"
   ]
  },
  {
   "cell_type": "code",
   "execution_count": 191,
   "id": "b10dd201",
   "metadata": {
    "_cell_guid": "a6c3485e-585d-47f0-88d3-cb860919d27d",
    "_uuid": "b8cb51a3-823a-49a0-8c24-5baa3217cd9e",
    "collapsed": false,
    "execution": {
     "iopub.execute_input": "2025-03-18T15:19:41.309667Z",
     "iopub.status.busy": "2025-03-18T15:19:41.309225Z",
     "iopub.status.idle": "2025-03-18T15:19:41.323274Z",
     "shell.execute_reply": "2025-03-18T15:19:41.321443Z"
    },
    "id": "JV1Qn1KHQ2ua",
    "jupyter": {
     "outputs_hidden": false
    },
    "outputId": "2a50f7e6-8097-412e-a6f6-9de4bd381910",
    "papermill": {
     "duration": 0.10535,
     "end_time": "2025-03-18T15:19:41.325812",
     "exception": false,
     "start_time": "2025-03-18T15:19:41.220462",
     "status": "completed"
    },
    "tags": []
   },
   "outputs": [
    {
     "name": "stdout",
     "output_type": "stream",
     "text": [
      "   TeamID   WFG_Pct   W3P_Pct   WFT_Pct   WSeedNum\n",
      "0  1101.0  0.305931  0.192538  0.745750  14.246324\n",
      "1  1102.0  0.472840  0.399227  0.772379  11.984615\n",
      "2  1103.0  0.370796  0.258133  0.658136  13.396450\n",
      "3  1104.0  0.455201  0.358421  0.700255   5.683037\n",
      "4  1105.0  0.389920  0.356299  0.721886  16.000000\n"
     ]
    }
   ],
   "source": [
    "# Combine winning and losing team stats into one dataframe\n",
    "team_stats = pd.concat([team_stats_win, team_stats_loss]).groupby(\"TeamID\").mean().reset_index()\n",
    "\n",
    "# Display team stats to confirm it looks correct\n",
    "print(team_stats.head())"
   ]
  },
  {
   "cell_type": "code",
   "execution_count": 192,
   "id": "7f82bc40",
   "metadata": {
    "execution": {
     "iopub.execute_input": "2025-03-18T15:19:41.501518Z",
     "iopub.status.busy": "2025-03-18T15:19:41.501094Z",
     "iopub.status.idle": "2025-03-18T15:19:41.514479Z",
     "shell.execute_reply": "2025-03-18T15:19:41.512985Z"
    },
    "papermill": {
     "duration": 0.104499,
     "end_time": "2025-03-18T15:19:41.516677",
     "exception": false,
     "start_time": "2025-03-18T15:19:41.412178",
     "status": "completed"
    },
    "tags": []
   },
   "outputs": [
    {
     "name": "stdout",
     "output_type": "stream",
     "text": [
      "   TeamID   WFG_Pct   W3P_Pct   WFT_Pct   WSeedNum\n",
      "0  3101.0  0.247732  0.194932  0.404850  16.000000\n",
      "1  3103.0  0.313290  0.168471  0.749381  13.000000\n",
      "2  3104.0  0.450534  0.438394  0.783285   7.942409\n",
      "3  3106.0  0.273947  0.368850  0.708381  15.000000\n",
      "4  3107.0  0.423086  0.236485  0.648049  13.163717\n"
     ]
    }
   ],
   "source": [
    "# Combine winning and losing team stats into one dataframe\n",
    "wteam_stats = pd.concat([wteam_stats_win, wteam_stats_loss]).groupby(\"TeamID\").mean().reset_index()\n",
    "\n",
    "# Display team stats to confirm it looks correct\n",
    "print(wteam_stats.head())"
   ]
  },
  {
   "cell_type": "code",
   "execution_count": 193,
   "id": "b627b93e",
   "metadata": {
    "_cell_guid": "0c902c11-fbdc-45a0-91da-c46bc977517d",
    "_uuid": "a768b440-cf57-4749-8cdf-204bc081762b",
    "collapsed": false,
    "execution": {
     "iopub.execute_input": "2025-03-18T15:19:41.693984Z",
     "iopub.status.busy": "2025-03-18T15:19:41.693577Z",
     "iopub.status.idle": "2025-03-18T15:19:41.723181Z",
     "shell.execute_reply": "2025-03-18T15:19:41.721541Z"
    },
    "id": "U1CmlLg9Q2xs",
    "jupyter": {
     "outputs_hidden": false
    },
    "outputId": "c38f3153-5c10-4b46-8d65-1c4b01e8f6ea",
    "papermill": {
     "duration": 0.119721,
     "end_time": "2025-03-18T15:19:41.725442",
     "exception": false,
     "start_time": "2025-03-18T15:19:41.605721",
     "status": "completed"
    },
    "tags": []
   },
   "outputs": [
    {
     "name": "stdout",
     "output_type": "stream",
     "text": [
      "Unique teams in tournament data: 309\n",
      "Teams in final stats: 309\n"
     ]
    }
   ],
   "source": [
    "print(\"Unique teams in tournament data:\", len(set(tourney_results[\"WTeamID\"]).union(set(tourney_results[\"LTeamID\"]))))\n",
    "print(\"Teams in final stats:\", len(team_stats))"
   ]
  },
  {
   "cell_type": "code",
   "execution_count": 194,
   "id": "c66e29b9",
   "metadata": {
    "execution": {
     "iopub.execute_input": "2025-03-18T15:19:41.951319Z",
     "iopub.status.busy": "2025-03-18T15:19:41.950874Z",
     "iopub.status.idle": "2025-03-18T15:19:41.972509Z",
     "shell.execute_reply": "2025-03-18T15:19:41.971201Z"
    },
    "papermill": {
     "duration": 0.106478,
     "end_time": "2025-03-18T15:19:41.974546",
     "exception": false,
     "start_time": "2025-03-18T15:19:41.868068",
     "status": "completed"
    },
    "tags": []
   },
   "outputs": [
    {
     "name": "stdout",
     "output_type": "stream",
     "text": [
      "Unique teams in tournament data for Women's: 279\n",
      "Teams in final stats: 279\n"
     ]
    }
   ],
   "source": [
    "print(\"Unique teams in tournament data for Women's:\", len(set(wtourney_results[\"WTeamID\"]).union(set(wtourney_results[\"LTeamID\"]))))\n",
    "print(\"Teams in final stats:\", len(wteam_stats))"
   ]
  },
  {
   "cell_type": "code",
   "execution_count": 195,
   "id": "75efe241",
   "metadata": {
    "_cell_guid": "ac34abac-4f57-4154-845d-d860e945f50f",
    "_uuid": "062d5453-6462-46fb-ac0b-2b1670fc7305",
    "collapsed": false,
    "execution": {
     "iopub.execute_input": "2025-03-18T15:19:42.144006Z",
     "iopub.status.busy": "2025-03-18T15:19:42.143585Z",
     "iopub.status.idle": "2025-03-18T15:19:42.178532Z",
     "shell.execute_reply": "2025-03-18T15:19:42.177395Z"
    },
    "id": "vOw0W6UcQ24S",
    "jupyter": {
     "outputs_hidden": false
    },
    "papermill": {
     "duration": 0.123599,
     "end_time": "2025-03-18T15:19:42.180936",
     "exception": false,
     "start_time": "2025-03-18T15:19:42.057337",
     "status": "completed"
    },
    "tags": []
   },
   "outputs": [],
   "source": [
    "# Merge stats for Team1\n",
    "matchups_2025 = matchups_2025.merge(team_stats, left_on=\"Team1\", right_on=\"TeamID\", how=\"left\").drop(columns=[\"TeamID\"])\n",
    "\n",
    "# Merge stats for Team2\n",
    "matchups_2025 = matchups_2025.merge(team_stats, left_on=\"Team2\", right_on=\"TeamID\", how=\"left\", suffixes=(\"_T1\", \"_T2\")).drop(columns=[\"TeamID\"])"
   ]
  },
  {
   "cell_type": "code",
   "execution_count": 196,
   "id": "3726dcda",
   "metadata": {
    "execution": {
     "iopub.execute_input": "2025-03-18T15:19:42.356234Z",
     "iopub.status.busy": "2025-03-18T15:19:42.355749Z",
     "iopub.status.idle": "2025-03-18T15:19:42.379257Z",
     "shell.execute_reply": "2025-03-18T15:19:42.377899Z"
    },
    "papermill": {
     "duration": 0.114556,
     "end_time": "2025-03-18T15:19:42.381580",
     "exception": false,
     "start_time": "2025-03-18T15:19:42.267024",
     "status": "completed"
    },
    "tags": []
   },
   "outputs": [],
   "source": [
    "# Merge stats for Team1\n",
    "wmatchups_2025 = wmatchups_2025.merge(wteam_stats, left_on=\"Team1\", right_on=\"TeamID\", how=\"left\").drop(columns=[\"TeamID\"])\n",
    "\n",
    "# Merge stats for Team2\n",
    "wmatchups_2025 = wmatchups_2025.merge(wteam_stats, left_on=\"Team2\", right_on=\"TeamID\", how=\"left\", suffixes=(\"_T1\", \"_T2\")).drop(columns=[\"TeamID\"])"
   ]
  },
  {
   "cell_type": "code",
   "execution_count": 197,
   "id": "20b014f2",
   "metadata": {
    "_cell_guid": "3e1c093e-b1d2-4664-a211-daf00b1a61f5",
    "_uuid": "f3ea2f45-dd9c-4e38-b086-70db3861168d",
    "collapsed": false,
    "execution": {
     "iopub.execute_input": "2025-03-18T15:19:42.546922Z",
     "iopub.status.busy": "2025-03-18T15:19:42.546505Z",
     "iopub.status.idle": "2025-03-18T15:19:42.557195Z",
     "shell.execute_reply": "2025-03-18T15:19:42.555712Z"
    },
    "id": "vugVUDTAQ27_",
    "jupyter": {
     "outputs_hidden": false
    },
    "outputId": "2333163f-e305-4e3f-b1b6-491b771a74dc",
    "papermill": {
     "duration": 0.095316,
     "end_time": "2025-03-18T15:19:42.559087",
     "exception": false,
     "start_time": "2025-03-18T15:19:42.463771",
     "status": "completed"
    },
    "tags": []
   },
   "outputs": [
    {
     "name": "stdout",
     "output_type": "stream",
     "text": [
      "    Team1   Team2  WFG_Pct_T1  W3P_Pct_T1  WFT_Pct_T1  WSeedNum_T1  \\\n",
      "0  1101.0  1102.0    0.305931    0.192538     0.74575    14.246324   \n",
      "1  1101.0  1103.0    0.305931    0.192538     0.74575    14.246324   \n",
      "2  1101.0  1104.0    0.305931    0.192538     0.74575    14.246324   \n",
      "3  1101.0  1105.0    0.305931    0.192538     0.74575    14.246324   \n",
      "4  1101.0  1106.0    0.305931    0.192538     0.74575    14.246324   \n",
      "\n",
      "   WFG_Pct_T2  W3P_Pct_T2  WFT_Pct_T2  WSeedNum_T2  \n",
      "0    0.472840    0.399227    0.772379    11.984615  \n",
      "1    0.370796    0.258133    0.658136    13.396450  \n",
      "2    0.455201    0.358421    0.700255     5.683037  \n",
      "3    0.389920    0.356299    0.721886    16.000000  \n",
      "4    0.351359    0.252166    0.630014    16.000000  \n"
     ]
    }
   ],
   "source": [
    "# Check merged data\n",
    "print(matchups_2025.head())"
   ]
  },
  {
   "cell_type": "code",
   "execution_count": 198,
   "id": "2be1e5b4",
   "metadata": {
    "execution": {
     "iopub.execute_input": "2025-03-18T15:19:42.732179Z",
     "iopub.status.busy": "2025-03-18T15:19:42.731713Z",
     "iopub.status.idle": "2025-03-18T15:19:42.742460Z",
     "shell.execute_reply": "2025-03-18T15:19:42.741138Z"
    },
    "papermill": {
     "duration": 0.099406,
     "end_time": "2025-03-18T15:19:42.744205",
     "exception": false,
     "start_time": "2025-03-18T15:19:42.644799",
     "status": "completed"
    },
    "tags": []
   },
   "outputs": [
    {
     "name": "stdout",
     "output_type": "stream",
     "text": [
      "    Team1   Team2  WFG_Pct_T1  W3P_Pct_T1  WFT_Pct_T1  WSeedNum_T1  \\\n",
      "0  3101.0  3103.0    0.247732    0.194932     0.40485         16.0   \n",
      "1  3101.0  3104.0    0.247732    0.194932     0.40485         16.0   \n",
      "2  3101.0  3106.0    0.247732    0.194932     0.40485         16.0   \n",
      "3  3101.0  3107.0    0.247732    0.194932     0.40485         16.0   \n",
      "4  3101.0  3108.0    0.247732    0.194932     0.40485         16.0   \n",
      "\n",
      "   WFG_Pct_T2  W3P_Pct_T2  WFT_Pct_T2  WSeedNum_T2  \n",
      "0    0.313290    0.168471    0.749381    13.000000  \n",
      "1    0.450534    0.438394    0.783285     7.942409  \n",
      "2    0.273947    0.368850    0.708381    15.000000  \n",
      "3    0.423086    0.236485    0.648049    13.163717  \n",
      "4    0.363058    0.282112    0.710379    16.000000  \n"
     ]
    }
   ],
   "source": [
    "# Check merged data\n",
    "print(wmatchups_2025.head())"
   ]
  },
  {
   "cell_type": "code",
   "execution_count": 199,
   "id": "4ad57cc6",
   "metadata": {
    "_cell_guid": "18564401-5b71-42b0-a503-2dc5aa301e0e",
    "_uuid": "f1fa55ae-03aa-4d9a-844d-4cf917531394",
    "collapsed": false,
    "execution": {
     "iopub.execute_input": "2025-03-18T15:19:42.919699Z",
     "iopub.status.busy": "2025-03-18T15:19:42.919349Z",
     "iopub.status.idle": "2025-03-18T15:19:42.934453Z",
     "shell.execute_reply": "2025-03-18T15:19:42.933111Z"
    },
    "id": "QIDHglWjQ2_T",
    "jupyter": {
     "outputs_hidden": false
    },
    "papermill": {
     "duration": 0.105758,
     "end_time": "2025-03-18T15:19:42.936770",
     "exception": false,
     "start_time": "2025-03-18T15:19:42.831012",
     "status": "completed"
    },
    "tags": []
   },
   "outputs": [],
   "source": [
    "# Compute feature differences (Team1 - Team2)\n",
    "matchups_2025[\"Seed_Diff\"] = matchups_2025[\"WSeedNum_T1\"] - matchups_2025[\"WSeedNum_T2\"]\n",
    "matchups_2025[\"WFG_Pct\"] = matchups_2025[\"WFG_Pct_T1\"] - matchups_2025[\"WFG_Pct_T2\"]\n",
    "matchups_2025[\"LFG_Pct\"] = matchups_2025[\"WFG_Pct_T2\"] - matchups_2025[\"WFG_Pct_T1\"]\n",
    "matchups_2025[\"W3P_Pct\"] = matchups_2025[\"W3P_Pct_T1\"] - matchups_2025[\"W3P_Pct_T2\"]\n",
    "matchups_2025[\"L3P_Pct\"] = matchups_2025[\"W3P_Pct_T2\"] - matchups_2025[\"W3P_Pct_T1\"]\n",
    "matchups_2025[\"WFT_Pct\"] = matchups_2025[\"WFT_Pct_T1\"] - matchups_2025[\"WFT_Pct_T2\"]\n",
    "matchups_2025[\"LFT_Pct\"] = matchups_2025[\"WFT_Pct_T2\"] - matchups_2025[\"WFT_Pct_T1\"]\n",
    "\n",
    "# Keep only relevant columns for prediction\n",
    "X_matchups = matchups_2025[[\"Seed_Diff\", \"WFG_Pct\", \"LFG_Pct\", \"W3P_Pct\", \"L3P_Pct\", \"WFT_Pct\", \"LFT_Pct\"]]"
   ]
  },
  {
   "cell_type": "code",
   "execution_count": 200,
   "id": "cfeb6bdb",
   "metadata": {
    "execution": {
     "iopub.execute_input": "2025-03-18T15:19:43.108288Z",
     "iopub.status.busy": "2025-03-18T15:19:43.107795Z",
     "iopub.status.idle": "2025-03-18T15:19:43.124750Z",
     "shell.execute_reply": "2025-03-18T15:19:43.123403Z"
    },
    "papermill": {
     "duration": 0.10322,
     "end_time": "2025-03-18T15:19:43.126948",
     "exception": false,
     "start_time": "2025-03-18T15:19:43.023728",
     "status": "completed"
    },
    "tags": []
   },
   "outputs": [],
   "source": [
    "# Compute feature differences (Team1 - Team2)\n",
    "wmatchups_2025[\"Seed_Diff\"] = wmatchups_2025[\"WSeedNum_T1\"] - wmatchups_2025[\"WSeedNum_T2\"]\n",
    "wmatchups_2025[\"WFG_Pct\"] = wmatchups_2025[\"WFG_Pct_T1\"] - wmatchups_2025[\"WFG_Pct_T2\"]\n",
    "wmatchups_2025[\"LFG_Pct\"] = wmatchups_2025[\"WFG_Pct_T2\"] - wmatchups_2025[\"WFG_Pct_T1\"]\n",
    "wmatchups_2025[\"W3P_Pct\"] = wmatchups_2025[\"W3P_Pct_T1\"] - wmatchups_2025[\"W3P_Pct_T2\"]\n",
    "wmatchups_2025[\"L3P_Pct\"] = wmatchups_2025[\"W3P_Pct_T2\"] - wmatchups_2025[\"W3P_Pct_T1\"]\n",
    "wmatchups_2025[\"WFT_Pct\"] = wmatchups_2025[\"WFT_Pct_T1\"] - wmatchups_2025[\"WFT_Pct_T2\"]\n",
    "wmatchups_2025[\"LFT_Pct\"] = wmatchups_2025[\"WFT_Pct_T2\"] - wmatchups_2025[\"WFT_Pct_T1\"]\n",
    "\n",
    "# Keep only relevant columns for prediction\n",
    "WX_matchups = wmatchups_2025[[\"Seed_Diff\", \"WFG_Pct\", \"LFG_Pct\", \"W3P_Pct\", \"L3P_Pct\", \"WFT_Pct\", \"LFT_Pct\"]]"
   ]
  },
  {
   "cell_type": "code",
   "execution_count": 201,
   "id": "14cfdf38",
   "metadata": {
    "_cell_guid": "50f3af1a-a030-4268-bb7c-c4f5175faf8d",
    "_uuid": "65346173-e6ef-41fc-8a51-88bc2860fee1",
    "collapsed": false,
    "execution": {
     "iopub.execute_input": "2025-03-18T15:19:43.291675Z",
     "iopub.status.busy": "2025-03-18T15:19:43.291248Z",
     "iopub.status.idle": "2025-03-18T15:19:43.300860Z",
     "shell.execute_reply": "2025-03-18T15:19:43.299353Z"
    },
    "id": "OkPcxAMvQ3DR",
    "jupyter": {
     "outputs_hidden": false
    },
    "outputId": "2c525713-cac4-4b78-e5aa-f96c9fa3d15b",
    "papermill": {
     "duration": 0.094202,
     "end_time": "2025-03-18T15:19:43.303030",
     "exception": false,
     "start_time": "2025-03-18T15:19:43.208828",
     "status": "completed"
    },
    "tags": []
   },
   "outputs": [
    {
     "name": "stdout",
     "output_type": "stream",
     "text": [
      "   Seed_Diff   WFG_Pct   LFG_Pct   W3P_Pct   L3P_Pct   WFT_Pct   LFT_Pct\n",
      "0   2.261708 -0.166909  0.166909 -0.206689  0.206689 -0.026629  0.026629\n",
      "1   0.849874 -0.064865  0.064865 -0.065595  0.065595  0.087614 -0.087614\n",
      "2   8.563286 -0.149270  0.149270 -0.165883  0.165883  0.045495 -0.045495\n",
      "3  -1.753676 -0.083989  0.083989 -0.163761  0.163761  0.023865 -0.023865\n",
      "4  -1.753676 -0.045429  0.045429 -0.059628  0.059628  0.115737 -0.115737\n"
     ]
    }
   ],
   "source": [
    "# Check feature differences\n",
    "print(X_matchups.head())"
   ]
  },
  {
   "cell_type": "code",
   "execution_count": 202,
   "id": "1b832b63",
   "metadata": {
    "execution": {
     "iopub.execute_input": "2025-03-18T15:19:43.481805Z",
     "iopub.status.busy": "2025-03-18T15:19:43.481427Z",
     "iopub.status.idle": "2025-03-18T15:19:43.491146Z",
     "shell.execute_reply": "2025-03-18T15:19:43.489651Z"
    },
    "papermill": {
     "duration": 0.100357,
     "end_time": "2025-03-18T15:19:43.492991",
     "exception": false,
     "start_time": "2025-03-18T15:19:43.392634",
     "status": "completed"
    },
    "tags": []
   },
   "outputs": [
    {
     "name": "stdout",
     "output_type": "stream",
     "text": [
      "   Seed_Diff   WFG_Pct   LFG_Pct   W3P_Pct   L3P_Pct   WFT_Pct   LFT_Pct\n",
      "0   3.000000 -0.065558  0.065558  0.026462 -0.026462 -0.344531  0.344531\n",
      "1   8.057591 -0.202802  0.202802 -0.243462  0.243462 -0.378436  0.378436\n",
      "2   1.000000 -0.026215  0.026215 -0.173918  0.173918 -0.303531  0.303531\n",
      "3   2.836283 -0.175354  0.175354 -0.041553  0.041553 -0.243200  0.243200\n",
      "4   0.000000 -0.115326  0.115326 -0.087180  0.087180 -0.305530  0.305530\n"
     ]
    }
   ],
   "source": [
    "# Check feature differences\n",
    "print(WX_matchups.head())"
   ]
  },
  {
   "cell_type": "code",
   "execution_count": 203,
   "id": "81bc94ca",
   "metadata": {
    "_cell_guid": "4045cba6-bfeb-42a0-a465-b1529b8a89d1",
    "_uuid": "e7da08f7-bd16-4e5b-8893-93935dc324ef",
    "collapsed": false,
    "execution": {
     "iopub.execute_input": "2025-03-18T15:19:43.667756Z",
     "iopub.status.busy": "2025-03-18T15:19:43.667314Z",
     "iopub.status.idle": "2025-03-18T15:19:43.684206Z",
     "shell.execute_reply": "2025-03-18T15:19:43.683195Z"
    },
    "id": "KfCz5zfJQ3Gn",
    "jupyter": {
     "outputs_hidden": false
    },
    "papermill": {
     "duration": 0.107131,
     "end_time": "2025-03-18T15:19:43.686724",
     "exception": false,
     "start_time": "2025-03-18T15:19:43.579593",
     "status": "completed"
    },
    "tags": []
   },
   "outputs": [],
   "source": [
    "import xgboost as xgb\n",
    "\n",
    "# Convert to DMatrix (XGBoost format)\n",
    "dmatch_2025 = xgb.DMatrix(X_matchups)"
   ]
  },
  {
   "cell_type": "code",
   "execution_count": 204,
   "id": "24be1465",
   "metadata": {
    "execution": {
     "iopub.execute_input": "2025-03-18T15:19:43.863727Z",
     "iopub.status.busy": "2025-03-18T15:19:43.863249Z",
     "iopub.status.idle": "2025-03-18T15:19:43.877109Z",
     "shell.execute_reply": "2025-03-18T15:19:43.876129Z"
    },
    "papermill": {
     "duration": 0.103162,
     "end_time": "2025-03-18T15:19:43.879699",
     "exception": false,
     "start_time": "2025-03-18T15:19:43.776537",
     "status": "completed"
    },
    "tags": []
   },
   "outputs": [],
   "source": [
    "import xgboost as xgb\n",
    "\n",
    "# Convert to DMatrix (XGBoost format)\n",
    "wdmatch_2025 = xgb.DMatrix(WX_matchups)"
   ]
  },
  {
   "cell_type": "code",
   "execution_count": 205,
   "id": "adc4dbc3",
   "metadata": {
    "_cell_guid": "a383f465-6dd3-4131-9ff3-24802b12f444",
    "_uuid": "8d3d4b79-74c3-4f38-859a-f0dfb08d75d8",
    "collapsed": false,
    "execution": {
     "iopub.execute_input": "2025-03-18T15:19:44.055342Z",
     "iopub.status.busy": "2025-03-18T15:19:44.054812Z",
     "iopub.status.idle": "2025-03-18T15:19:44.101752Z",
     "shell.execute_reply": "2025-03-18T15:19:44.100443Z"
    },
    "id": "lZEwWEhoQ3J_",
    "jupyter": {
     "outputs_hidden": false
    },
    "papermill": {
     "duration": 0.136414,
     "end_time": "2025-03-18T15:19:44.104388",
     "exception": false,
     "start_time": "2025-03-18T15:19:43.967974",
     "status": "completed"
    },
    "tags": []
   },
   "outputs": [],
   "source": [
    "# Predict win probabilities\n",
    "matchups_2025[\"Win_Prob_Team1\"] = xgb_model.predict(dmatch_2025)"
   ]
  },
  {
   "cell_type": "code",
   "execution_count": 206,
   "id": "c6cab893",
   "metadata": {
    "execution": {
     "iopub.execute_input": "2025-03-18T15:19:44.378650Z",
     "iopub.status.busy": "2025-03-18T15:19:44.378237Z",
     "iopub.status.idle": "2025-03-18T15:19:44.414805Z",
     "shell.execute_reply": "2025-03-18T15:19:44.413851Z"
    },
    "papermill": {
     "duration": 0.221447,
     "end_time": "2025-03-18T15:19:44.417415",
     "exception": false,
     "start_time": "2025-03-18T15:19:44.195968",
     "status": "completed"
    },
    "tags": []
   },
   "outputs": [],
   "source": [
    "# Predict win probabilities\n",
    "wmatchups_2025[\"Win_Prob_Team1\"] = xgb_model.predict(wdmatch_2025)"
   ]
  },
  {
   "cell_type": "code",
   "execution_count": 207,
   "id": "88a691ff",
   "metadata": {
    "_cell_guid": "876a52db-d204-4258-841b-3498e2ec1625",
    "_uuid": "ad131bb7-8947-4954-8755-ca7aca30d684",
    "collapsed": false,
    "execution": {
     "iopub.execute_input": "2025-03-18T15:19:44.598470Z",
     "iopub.status.busy": "2025-03-18T15:19:44.597978Z",
     "iopub.status.idle": "2025-03-18T15:19:45.084817Z",
     "shell.execute_reply": "2025-03-18T15:19:45.083122Z"
    },
    "id": "KM82NKlaWMaD",
    "jupyter": {
     "outputs_hidden": false
    },
    "outputId": "bce4d05d-ef6a-44d2-bddb-e65d9094bfa8",
    "papermill": {
     "duration": 0.580364,
     "end_time": "2025-03-18T15:19:45.086832",
     "exception": false,
     "start_time": "2025-03-18T15:19:44.506468",
     "status": "completed"
    },
    "tags": []
   },
   "outputs": [
    {
     "name": "stdout",
     "output_type": "stream",
     "text": [
      "Predicted matchups for 2025:\n",
      "     Team1   Team2  Win_Prob_Team1  Predicted_Winner\n",
      "0  1101.0  1102.0        0.099755            1102.0\n",
      "1  1101.0  1103.0        0.470287            1103.0\n",
      "2  1101.0  1104.0        0.067219            1104.0\n",
      "3  1101.0  1105.0        0.651910            1101.0\n",
      "4  1101.0  1106.0        0.794410            1101.0\n"
     ]
    }
   ],
   "source": [
    "# Predict the winner\n",
    "matchups_2025[\"Predicted_Winner\"] = matchups_2025.apply(\n",
    "    lambda row: row[\"Team1\"] if row[\"Win_Prob_Team1\"] > 0.5 else row[\"Team2\"], axis=1\n",
    ")\n",
    "\n",
    "# Display predictions\n",
    "print(\"Predicted matchups for 2025:\\n\", matchups_2025[[\"Team1\", \"Team2\", \"Win_Prob_Team1\", \"Predicted_Winner\"]].head())"
   ]
  },
  {
   "cell_type": "code",
   "execution_count": 208,
   "id": "1addd69a",
   "metadata": {
    "execution": {
     "iopub.execute_input": "2025-03-18T15:19:45.267436Z",
     "iopub.status.busy": "2025-03-18T15:19:45.266910Z",
     "iopub.status.idle": "2025-03-18T15:19:45.619724Z",
     "shell.execute_reply": "2025-03-18T15:19:45.617950Z"
    },
    "papermill": {
     "duration": 0.443384,
     "end_time": "2025-03-18T15:19:45.621716",
     "exception": false,
     "start_time": "2025-03-18T15:19:45.178332",
     "status": "completed"
    },
    "tags": []
   },
   "outputs": [
    {
     "name": "stdout",
     "output_type": "stream",
     "text": [
      "Predicted matchups for 2025:\n",
      "     Team1   Team2  Win_Prob_Team1  Predicted_Winner\n",
      "0  3101.0  3103.0        0.239105            3103.0\n",
      "1  3101.0  3104.0        0.053932            3104.0\n",
      "2  3101.0  3106.0        0.185074            3106.0\n",
      "3  3101.0  3107.0        0.239105            3107.0\n",
      "4  3101.0  3108.0        0.470287            3108.0\n"
     ]
    }
   ],
   "source": [
    "# Predict the winner\n",
    "wmatchups_2025[\"Predicted_Winner\"] = wmatchups_2025.apply(\n",
    "    lambda row: row[\"Team1\"] if row[\"Win_Prob_Team1\"] > 0.5 else row[\"Team2\"], axis=1\n",
    ")\n",
    "\n",
    "# Display predictions\n",
    "print(\"Predicted matchups for 2025:\\n\", wmatchups_2025[[\"Team1\", \"Team2\", \"Win_Prob_Team1\", \"Predicted_Winner\"]].head())"
   ]
  },
  {
   "cell_type": "code",
   "execution_count": 209,
   "id": "3e4a0bab",
   "metadata": {
    "_cell_guid": "f4a64e0a-6ff3-4fc2-9259-904750592c17",
    "_uuid": "238365a7-1773-4f6e-ac40-ef980d2d9076",
    "collapsed": false,
    "execution": {
     "iopub.execute_input": "2025-03-18T15:19:45.796694Z",
     "iopub.status.busy": "2025-03-18T15:19:45.796276Z",
     "iopub.status.idle": "2025-03-18T15:19:46.350895Z",
     "shell.execute_reply": "2025-03-18T15:19:46.349181Z"
    },
    "jupyter": {
     "outputs_hidden": false
    },
    "papermill": {
     "duration": 0.645976,
     "end_time": "2025-03-18T15:19:46.353353",
     "exception": false,
     "start_time": "2025-03-18T15:19:45.707377",
     "status": "completed"
    },
    "tags": []
   },
   "outputs": [
    {
     "name": "stdout",
     "output_type": "stream",
     "text": [
      "Sorted matchups for 2025:\n",
      "     Team1   Team2  Win_Prob_Team1  Predicted_Winner\n",
      "0  1102.0  1101.0        0.099755            1102.0\n",
      "1  1103.0  1101.0        0.470287            1103.0\n",
      "2  1104.0  1101.0        0.067219            1104.0\n",
      "3  1101.0  1105.0        0.651910            1101.0\n",
      "4  1101.0  1106.0        0.794410            1101.0\n"
     ]
    }
   ],
   "source": [
    "# Ensure Team1 is always the predicted winner\n",
    "matchups_2025[\"Losing_Team\"] = matchups_2025.apply(\n",
    "    lambda row: row[\"Team2\"] if row[\"Predicted_Winner\"] == row[\"Team1\"] else row[\"Team1\"], axis=1\n",
    ")\n",
    "\n",
    "matchups_2025[\"Team1\"] = matchups_2025[\"Predicted_Winner\"]\n",
    "matchups_2025[\"Team2\"] = matchups_2025[\"Losing_Team\"]\n",
    "\n",
    "# Drop the temporary column\n",
    "matchups_2025.drop(columns=[\"Losing_Team\"], inplace=True)\n",
    "\n",
    "# Display sorted matchups\n",
    "print(\"Sorted matchups for 2025:\\n\", matchups_2025[[\"Team1\", \"Team2\", \"Win_Prob_Team1\", \"Predicted_Winner\"]].head())"
   ]
  },
  {
   "cell_type": "code",
   "execution_count": 210,
   "id": "55314e68",
   "metadata": {
    "execution": {
     "iopub.execute_input": "2025-03-18T15:19:46.522513Z",
     "iopub.status.busy": "2025-03-18T15:19:46.522013Z",
     "iopub.status.idle": "2025-03-18T15:19:46.974817Z",
     "shell.execute_reply": "2025-03-18T15:19:46.973274Z"
    },
    "papermill": {
     "duration": 0.537957,
     "end_time": "2025-03-18T15:19:46.976797",
     "exception": false,
     "start_time": "2025-03-18T15:19:46.438840",
     "status": "completed"
    },
    "tags": []
   },
   "outputs": [
    {
     "name": "stdout",
     "output_type": "stream",
     "text": [
      "Sorted matchups for 2025:\n",
      "     Team1   Team2  Win_Prob_Team1  Predicted_Winner\n",
      "0  3103.0  3101.0        0.239105            3103.0\n",
      "1  3104.0  3101.0        0.053932            3104.0\n",
      "2  3106.0  3101.0        0.185074            3106.0\n",
      "3  3107.0  3101.0        0.239105            3107.0\n",
      "4  3108.0  3101.0        0.470287            3108.0\n"
     ]
    }
   ],
   "source": [
    "# Ensure Team1 is always the predicted winner\n",
    "wmatchups_2025[\"Losing_Team\"] = wmatchups_2025.apply(\n",
    "    lambda row: row[\"Team2\"] if row[\"Predicted_Winner\"] == row[\"Team1\"] else row[\"Team1\"], axis=1\n",
    ")\n",
    "\n",
    "wmatchups_2025[\"Team1\"] = wmatchups_2025[\"Predicted_Winner\"]\n",
    "wmatchups_2025[\"Team2\"] = wmatchups_2025[\"Losing_Team\"]\n",
    "\n",
    "# Drop the temporary column\n",
    "wmatchups_2025.drop(columns=[\"Losing_Team\"], inplace=True)\n",
    "\n",
    "# Display sorted matchups\n",
    "print(\"Sorted matchups for 2025:\\n\", wmatchups_2025[[\"Team1\", \"Team2\", \"Win_Prob_Team1\", \"Predicted_Winner\"]].head())"
   ]
  },
  {
   "cell_type": "code",
   "execution_count": 211,
   "id": "b1e4e9e6",
   "metadata": {
    "_cell_guid": "5ad01f5d-e9fc-405c-a83a-57abe62a0dcc",
    "_uuid": "4f0bcfb5-412a-4ebd-8f09-a1ee7fa79f3c",
    "collapsed": false,
    "execution": {
     "iopub.execute_input": "2025-03-18T15:19:47.154839Z",
     "iopub.status.busy": "2025-03-18T15:19:47.154382Z",
     "iopub.status.idle": "2025-03-18T15:19:47.596424Z",
     "shell.execute_reply": "2025-03-18T15:19:47.594689Z"
    },
    "jupyter": {
     "outputs_hidden": false
    },
    "papermill": {
     "duration": 0.533525,
     "end_time": "2025-03-18T15:19:47.598338",
     "exception": false,
     "start_time": "2025-03-18T15:19:47.064813",
     "status": "completed"
    },
    "tags": []
   },
   "outputs": [
    {
     "name": "stdout",
     "output_type": "stream",
     "text": [
      "               ID      Pred\n",
      "0  2025_1102_1101  0.099755\n",
      "1  2025_1103_1101  0.470287\n",
      "2  2025_1104_1101  0.067219\n",
      "3  2025_1101_1105  0.651910\n",
      "4  2025_1101_1106  0.794410\n"
     ]
    }
   ],
   "source": [
    "import pandas as pd\n",
    "\n",
    "# Create a new column in the format '2025_Team1_Team2'\n",
    "matchups_2025[\"ID\"] = matchups_2025.apply(\n",
    "    lambda row: f\"2025_{int(row['Team1'])}_{int(row['Team2'])}\", axis=1\n",
    ")\n",
    "\n",
    "# Create final_prediction DataFrame with the desired columns\n",
    "final_prediction = matchups_2025[[\"ID\", \"Win_Prob_Team1\"]].copy()\n",
    "final_prediction.rename(columns={\"Win_Prob_Team1\": \"Pred\"}, inplace=True)\n",
    "\n",
    "# Display final predictions\n",
    "print(final_prediction.head())"
   ]
  },
  {
   "cell_type": "code",
   "execution_count": 212,
   "id": "95b8067c",
   "metadata": {
    "execution": {
     "iopub.execute_input": "2025-03-18T15:19:47.764750Z",
     "iopub.status.busy": "2025-03-18T15:19:47.764322Z",
     "iopub.status.idle": "2025-03-18T15:19:48.121931Z",
     "shell.execute_reply": "2025-03-18T15:19:48.120640Z"
    },
    "papermill": {
     "duration": 0.44368,
     "end_time": "2025-03-18T15:19:48.124531",
     "exception": false,
     "start_time": "2025-03-18T15:19:47.680851",
     "status": "completed"
    },
    "tags": []
   },
   "outputs": [
    {
     "name": "stdout",
     "output_type": "stream",
     "text": [
      "               ID      Pred\n",
      "0  2025_3103_3101  0.239105\n",
      "1  2025_3104_3101  0.053932\n",
      "2  2025_3106_3101  0.185074\n",
      "3  2025_3107_3101  0.239105\n",
      "4  2025_3108_3101  0.470287\n"
     ]
    }
   ],
   "source": [
    "import pandas as pd\n",
    "\n",
    "# Create a new column in the format '2025_Team1_Team2'\n",
    "wmatchups_2025[\"ID\"] = wmatchups_2025.apply(\n",
    "    lambda row: f\"2025_{int(row['Team1'])}_{int(row['Team2'])}\", axis=1\n",
    ")\n",
    "\n",
    "# Create final_prediction DataFrame with the desired columns\n",
    "wfinal_prediction = wmatchups_2025[[\"ID\", \"Win_Prob_Team1\"]].copy()\n",
    "wfinal_prediction.rename(columns={\"Win_Prob_Team1\": \"Pred\"}, inplace=True)\n",
    "\n",
    "# Display final predictions\n",
    "print(wfinal_prediction.head())"
   ]
  },
  {
   "cell_type": "code",
   "execution_count": 213,
   "id": "e6fb3c0a",
   "metadata": {
    "_cell_guid": "8d678b03-35f1-4aeb-b7d1-1797deabcefb",
    "_uuid": "0b976898-c3b9-4a81-89ca-b46886ad4065",
    "collapsed": false,
    "execution": {
     "iopub.execute_input": "2025-03-18T15:19:48.306580Z",
     "iopub.status.busy": "2025-03-18T15:19:48.306076Z",
     "iopub.status.idle": "2025-03-18T15:19:48.312568Z",
     "shell.execute_reply": "2025-03-18T15:19:48.311197Z"
    },
    "jupyter": {
     "outputs_hidden": false
    },
    "papermill": {
     "duration": 0.101857,
     "end_time": "2025-03-18T15:19:48.314752",
     "exception": false,
     "start_time": "2025-03-18T15:19:48.212895",
     "status": "completed"
    },
    "tags": []
   },
   "outputs": [
    {
     "name": "stdout",
     "output_type": "stream",
     "text": [
      "47586\n"
     ]
    }
   ],
   "source": [
    "print(len(final_prediction))"
   ]
  },
  {
   "cell_type": "code",
   "execution_count": 214,
   "id": "b977e3af",
   "metadata": {
    "execution": {
     "iopub.execute_input": "2025-03-18T15:19:48.486937Z",
     "iopub.status.busy": "2025-03-18T15:19:48.486587Z",
     "iopub.status.idle": "2025-03-18T15:19:48.492452Z",
     "shell.execute_reply": "2025-03-18T15:19:48.490790Z"
    },
    "papermill": {
     "duration": 0.09256,
     "end_time": "2025-03-18T15:19:48.494601",
     "exception": false,
     "start_time": "2025-03-18T15:19:48.402041",
     "status": "completed"
    },
    "tags": []
   },
   "outputs": [
    {
     "name": "stdout",
     "output_type": "stream",
     "text": [
      "38781\n"
     ]
    }
   ],
   "source": [
    "print(len(wfinal_prediction))"
   ]
  },
  {
   "cell_type": "code",
   "execution_count": 215,
   "id": "a838c321",
   "metadata": {
    "_cell_guid": "854a4ecd-8bbf-4b07-9367-2f64b1a8f615",
    "_uuid": "47089119-6125-4551-a5ae-afd1a77b27af",
    "collapsed": false,
    "execution": {
     "iopub.execute_input": "2025-03-18T15:19:48.675108Z",
     "iopub.status.busy": "2025-03-18T15:19:48.674710Z",
     "iopub.status.idle": "2025-03-18T15:19:48.763521Z",
     "shell.execute_reply": "2025-03-18T15:19:48.762307Z"
    },
    "jupyter": {
     "outputs_hidden": false
    },
    "papermill": {
     "duration": 0.183194,
     "end_time": "2025-03-18T15:19:48.765809",
     "exception": false,
     "start_time": "2025-03-18T15:19:48.582615",
     "status": "completed"
    },
    "tags": []
   },
   "outputs": [],
   "source": [
    "final_prediction.to_csv(\"SampleSubmissionStage2.csv\", index=False)"
   ]
  },
  {
   "cell_type": "code",
   "execution_count": 216,
   "id": "4957879e",
   "metadata": {
    "execution": {
     "iopub.execute_input": "2025-03-18T15:19:48.943209Z",
     "iopub.status.busy": "2025-03-18T15:19:48.942784Z",
     "iopub.status.idle": "2025-03-18T15:19:49.011076Z",
     "shell.execute_reply": "2025-03-18T15:19:49.010006Z"
    },
    "papermill": {
     "duration": 0.15781,
     "end_time": "2025-03-18T15:19:49.013235",
     "exception": false,
     "start_time": "2025-03-18T15:19:48.855425",
     "status": "completed"
    },
    "tags": []
   },
   "outputs": [],
   "source": [
    "wfinal_prediction.to_csv(\"WSampleSubmissionStage2.csv\", index=False)"
   ]
  },
  {
   "cell_type": "code",
   "execution_count": 217,
   "id": "00788988",
   "metadata": {
    "_cell_guid": "28c9735d-0724-4569-b3fb-f7b5268b5e4b",
    "_uuid": "df333756-9ab2-4333-aab9-d7fa7616c7ef",
    "collapsed": false,
    "execution": {
     "iopub.execute_input": "2025-03-18T15:19:49.186631Z",
     "iopub.status.busy": "2025-03-18T15:19:49.186289Z",
     "iopub.status.idle": "2025-03-18T15:19:57.293282Z",
     "shell.execute_reply": "2025-03-18T15:19:57.291790Z"
    },
    "id": "9SkDmo1oWMdz",
    "jupyter": {
     "outputs_hidden": false
    },
    "papermill": {
     "duration": 8.198941,
     "end_time": "2025-03-18T15:19:57.295640",
     "exception": false,
     "start_time": "2025-03-18T15:19:49.096699",
     "status": "completed"
    },
    "tags": []
   },
   "outputs": [],
   "source": [
    "# Step 1: Start with all teams that won at least once\n",
    "qualified_teams = set(matchups_2025[\"Predicted_Winner\"])\n",
    "team_wins = matchups_2025[\"Predicted_Winner\"].value_counts().to_dict()  # Track wins per team\n",
    "\n",
    "# Simulate rounds until only 2 teams remain\n",
    "while len(qualified_teams) > 2:\n",
    "    new_round_winners = set()\n",
    "\n",
    "    for team in qualified_teams:\n",
    "        # Get matchups involving this team\n",
    "        potential_matchups = matchups_2025[\n",
    "            (matchups_2025[\"Team1\"].isin(qualified_teams)) &\n",
    "            (matchups_2025[\"Team2\"].isin(qualified_teams))\n",
    "        ]\n",
    "\n",
    "        # Ensure valid matchups exist\n",
    "        if not potential_matchups.empty:\n",
    "            # Count wins for each remaining team\n",
    "            winners = potential_matchups.groupby(\"Predicted_Winner\").size().reset_index(name=\"Wins\")\n",
    "\n",
    "            # Select the top teams based on the highest win counts\n",
    "            top_winners = winners.sort_values(by=\"Wins\", ascending=False)[\"Predicted_Winner\"].tolist()\n",
    "\n",
    "            # Select top winners for the next round\n",
    "            new_round_winners.update(top_winners[:len(qualified_teams) // 2])  # Keep strongest half\n",
    "\n",
    "    # Prevent infinite loop: If no progress, pick top teams manually\n",
    "    if len(new_round_winners) >= len(qualified_teams):\n",
    "        print(\"Tournament stuck, selecting top teams based on total wins.\")\n",
    "        qualified_teams = set(sorted(team_wins, key=team_wins.get, reverse=True)[:2])\n",
    "        break\n",
    "\n",
    "    qualified_teams = new_round_winners"
   ]
  },
  {
   "cell_type": "code",
   "execution_count": 218,
   "id": "fbd5ce08",
   "metadata": {
    "execution": {
     "iopub.execute_input": "2025-03-18T15:19:57.474204Z",
     "iopub.status.busy": "2025-03-18T15:19:57.473758Z",
     "iopub.status.idle": "2025-03-18T15:20:03.682346Z",
     "shell.execute_reply": "2025-03-18T15:20:03.681156Z"
    },
    "papermill": {
     "duration": 6.30126,
     "end_time": "2025-03-18T15:20:03.684715",
     "exception": false,
     "start_time": "2025-03-18T15:19:57.383455",
     "status": "completed"
    },
    "tags": []
   },
   "outputs": [],
   "source": [
    "# Step 1: Start with all teams that won at least once\n",
    "wqualified_teams = set(wmatchups_2025[\"Predicted_Winner\"])\n",
    "wteam_wins = wmatchups_2025[\"Predicted_Winner\"].value_counts().to_dict()  # Track wins per team\n",
    "\n",
    "# Simulate rounds until only 2 teams remain\n",
    "while len(wqualified_teams) > 2:\n",
    "    wnew_round_winners = set()\n",
    "\n",
    "    for team in wqualified_teams:\n",
    "        # Get matchups involving this team\n",
    "        wpotential_matchups = wmatchups_2025[\n",
    "            (wmatchups_2025[\"Team1\"].isin(wqualified_teams)) &\n",
    "            (wmatchups_2025[\"Team2\"].isin(wqualified_teams))\n",
    "        ]\n",
    "\n",
    "        # Ensure valid matchups exist\n",
    "        if not wpotential_matchups.empty:\n",
    "            # Count wins for each remaining team\n",
    "            wwinners = wpotential_matchups.groupby(\"Predicted_Winner\").size().reset_index(name=\"Wins\")\n",
    "\n",
    "            # Select the top teams based on the highest win counts\n",
    "            wtop_winners = wwinners.sort_values(by=\"Wins\", ascending=False)[\"Predicted_Winner\"].tolist()\n",
    "\n",
    "            # Select top winners for the next round\n",
    "            wnew_round_winners.update(wtop_winners[:len(wqualified_teams) // 2])  # Keep strongest half\n",
    "\n",
    "    # Prevent infinite loop: If no progress, pick top teams manually\n",
    "    if len(wnew_round_winners) >= len(wqualified_teams):\n",
    "        print(\"Tournament stuck, selecting top teams based on total wins.\")\n",
    "        wqualified_teams = set(sorted(wteam_wins, key=wteam_wins.get, reverse=True)[:2])\n",
    "        break\n",
    "\n",
    "    wqualified_teams = wnew_round_winners"
   ]
  },
  {
   "cell_type": "code",
   "execution_count": 219,
   "id": "c925ecc2",
   "metadata": {
    "_cell_guid": "e80d32f4-8100-447a-a6fe-cd6c7815655b",
    "_uuid": "e137bd52-761b-47a6-85fc-979f616d1406",
    "collapsed": false,
    "execution": {
     "iopub.execute_input": "2025-03-18T15:20:03.954637Z",
     "iopub.status.busy": "2025-03-18T15:20:03.954208Z",
     "iopub.status.idle": "2025-03-18T15:20:03.960219Z",
     "shell.execute_reply": "2025-03-18T15:20:03.958607Z"
    },
    "id": "vw64t0g8WMg_",
    "jupyter": {
     "outputs_hidden": false
    },
    "outputId": "5578fefb-7427-478d-d583-be0a2b8b6589",
    "papermill": {
     "duration": 0.098561,
     "end_time": "2025-03-18T15:20:03.962088",
     "exception": false,
     "start_time": "2025-03-18T15:20:03.863527",
     "status": "completed"
    },
    "tags": []
   },
   "outputs": [
    {
     "name": "stdout",
     "output_type": "stream",
     "text": [
      "The final teams are: 1242.0 vs. 1181.0\n"
     ]
    }
   ],
   "source": [
    "# Step 2: Identify the final two teams\n",
    "final_teams = list(qualified_teams)\n",
    "print(f\"The final teams are: {final_teams[0]} vs. {final_teams[1]}\")"
   ]
  },
  {
   "cell_type": "code",
   "execution_count": 220,
   "id": "56997c51",
   "metadata": {
    "execution": {
     "iopub.execute_input": "2025-03-18T15:20:04.146525Z",
     "iopub.status.busy": "2025-03-18T15:20:04.146115Z",
     "iopub.status.idle": "2025-03-18T15:20:04.152116Z",
     "shell.execute_reply": "2025-03-18T15:20:04.150567Z"
    },
    "papermill": {
     "duration": 0.100448,
     "end_time": "2025-03-18T15:20:04.154147",
     "exception": false,
     "start_time": "2025-03-18T15:20:04.053699",
     "status": "completed"
    },
    "tags": []
   },
   "outputs": [
    {
     "name": "stdout",
     "output_type": "stream",
     "text": [
      "The final teams are: 3163.0 vs. 3323.0\n"
     ]
    }
   ],
   "source": [
    "# Step 2: Identify the final two teams\n",
    "wfinal_teams = list(wqualified_teams)\n",
    "print(f\"The final teams are: {wfinal_teams[0]} vs. {wfinal_teams[1]}\")"
   ]
  },
  {
   "cell_type": "code",
   "execution_count": 221,
   "id": "96e6efb7",
   "metadata": {
    "_cell_guid": "0943c767-d6bf-434f-9802-e41b8a3a8fe0",
    "_uuid": "27124b70-c0a4-4b2c-b237-7da9d1a8d0f8",
    "collapsed": false,
    "execution": {
     "iopub.execute_input": "2025-03-18T15:20:04.325873Z",
     "iopub.status.busy": "2025-03-18T15:20:04.325512Z",
     "iopub.status.idle": "2025-03-18T15:20:04.345464Z",
     "shell.execute_reply": "2025-03-18T15:20:04.343967Z"
    },
    "id": "tN2jbnGbfcMb",
    "jupyter": {
     "outputs_hidden": false
    },
    "outputId": "03739e3d-866b-44b7-aa18-5b4ec8e4deb7",
    "papermill": {
     "duration": 0.107066,
     "end_time": "2025-03-18T15:20:04.347355",
     "exception": false,
     "start_time": "2025-03-18T15:20:04.240289",
     "status": "completed"
    },
    "tags": []
   },
   "outputs": [
    {
     "name": "stdout",
     "output_type": "stream",
     "text": [
      "Checking final matchup for: 1242.0 vs 1181.0\n",
      "        Team1   Team2  WFG_Pct_T1  W3P_Pct_T1  WFT_Pct_T1  WSeedNum_T1  \\\n",
      "17749  1242.0  1181.0    0.438876    0.333151    0.736273     2.102171   \n",
      "\n",
      "       WFG_Pct_T2  W3P_Pct_T2  WFT_Pct_T2  WSeedNum_T2  Seed_Diff   WFG_Pct  \\\n",
      "17749    0.456993    0.330273    0.701931     1.866395   0.235776 -0.018118   \n",
      "\n",
      "        LFG_Pct   W3P_Pct   L3P_Pct   WFT_Pct   LFT_Pct  Win_Prob_Team1  \\\n",
      "17749  0.018118  0.002878 -0.002878  0.034342 -0.034342        0.470287   \n",
      "\n",
      "       Predicted_Winner              ID  \n",
      "17749            1242.0  2025_1242_1181  \n",
      "The 2025 NCAA Tournament Champion is: 1242.0!\n"
     ]
    }
   ],
   "source": [
    "# Debugging: Check if a final matchup exists\n",
    "print(f\"Checking final matchup for: {final_teams[0]} vs {final_teams[1]}\")\n",
    "\n",
    "# Ensure `final_matchup` is assigned before printing\n",
    "final_matchup = matchups_2025[\n",
    "    ((matchups_2025[\"Team1\"] == final_teams[0]) & (matchups_2025[\"Team2\"] == final_teams[1])) |\n",
    "    ((matchups_2025[\"Team1\"] == final_teams[1]) & (matchups_2025[\"Team2\"] == final_teams[0]))\n",
    "]\n",
    "\n",
    "print(final_matchup)  # Now it's correctly defined\n",
    "\n",
    "# If the matchup exists, use the predicted winner\n",
    "if not final_matchup.empty:\n",
    "    final_winner = final_matchup.iloc[0][\"Predicted_Winner\"]\n",
    "    print(f\"The 2025 NCAA Tournament Champion is: {final_winner}!\")\n",
    "else:\n",
    "    print(\"⚠ No final matchup found. Predicting manually...\")\n",
    "\n",
    "    # Get team stats\n",
    "    team1_stats = team_stats[team_stats[\"TeamID\"] == final_teams[0]]\n",
    "    team2_stats = team_stats[team_stats[\"TeamID\"] == final_teams[1]]\n",
    "\n",
    "    if team1_stats.empty or team2_stats.empty:\n",
    "        print(\"⚠ Missing team stats. Cannot predict the final game.\")\n",
    "    else:\n",
    "        # Compute feature differences\n",
    "        final_matchup_data = pd.DataFrame({\n",
    "            \"Seed_Diff\": team1_stats[\"WSeedNum\"].values[0] - team2_stats[\"WSeedNum\"].values[0],\n",
    "            \"WFG_Pct\": team1_stats[\"WFG_Pct\"].values[0] - team2_stats[\"WFG_Pct\"].values[0],\n",
    "            \"LFG_Pct\": team2_stats[\"WFG_Pct\"].values[0] - team1_stats[\"WFG_Pct\"].values[0],\n",
    "            \"W3P_Pct\": team1_stats[\"W3P_Pct\"].values[0] - team2_stats[\"W3P_Pct\"].values[0],\n",
    "            \"L3P_Pct\": team2_stats[\"W3P_Pct\"].values[0] - team1_stats[\"W3P_Pct\"].values[0],\n",
    "            \"WFT_Pct\": team1_stats[\"WFT_Pct\"].values[0] - team2_stats[\"WFT_Pct\"].values[0],\n",
    "            \"LFT_Pct\": team2_stats[\"WFT_Pct\"].values[0] - team1_stats[\"WFT_Pct\"].values[0]\n",
    "        }, index=[0])\n",
    "\n",
    "        print(\"Final matchup data for prediction:\", final_matchup_data)\n",
    "\n",
    "        # Convert to DMatrix\n",
    "        final_matchup_dmatrix = xgb.DMatrix(final_matchup_data)\n",
    "\n",
    "        # Predict the final winner\n",
    "        win_prob = xgb_model.predict(final_matchup_dmatrix)[0]\n",
    "        final_winner = final_teams[0] if win_prob > 0.5 else final_teams[1]\n",
    "        print(f\"The manually predicted 2025 NCAA Champion is: {final_winner}!\")"
   ]
  },
  {
   "cell_type": "code",
   "execution_count": 222,
   "id": "f8273a2a",
   "metadata": {
    "execution": {
     "iopub.execute_input": "2025-03-18T15:20:04.515661Z",
     "iopub.status.busy": "2025-03-18T15:20:04.515304Z",
     "iopub.status.idle": "2025-03-18T15:20:04.535584Z",
     "shell.execute_reply": "2025-03-18T15:20:04.534347Z"
    },
    "papermill": {
     "duration": 0.106389,
     "end_time": "2025-03-18T15:20:04.537753",
     "exception": false,
     "start_time": "2025-03-18T15:20:04.431364",
     "status": "completed"
    },
    "tags": []
   },
   "outputs": [
    {
     "name": "stdout",
     "output_type": "stream",
     "text": [
      "Checking final matchup for: 3163.0 vs 3323.0\n",
      "        Team1   Team2  WFG_Pct_T1  W3P_Pct_T1  WFT_Pct_T1  WSeedNum_T1  \\\n",
      "10932  3163.0  3323.0    0.470064    0.359155     0.67834      1.42586   \n",
      "\n",
      "       WFG_Pct_T2  W3P_Pct_T2  WFT_Pct_T2  WSeedNum_T2  Seed_Diff   WFG_Pct  \\\n",
      "10932    0.446443    0.357047    0.788379     1.569638  -0.143778  0.023622   \n",
      "\n",
      "        LFG_Pct   W3P_Pct   L3P_Pct   WFT_Pct   LFT_Pct  Win_Prob_Team1  \\\n",
      "10932 -0.023622  0.002108 -0.002108 -0.110039  0.110039        0.540729   \n",
      "\n",
      "       Predicted_Winner              ID  \n",
      "10932            3163.0  2025_3163_3323  \n",
      "The 2025 NCAA Tournament Champion is: 3163.0!\n"
     ]
    }
   ],
   "source": [
    "# Debugging: Check if a final matchup exists\n",
    "print(f\"Checking final matchup for: {wfinal_teams[0]} vs {wfinal_teams[1]}\")\n",
    "\n",
    "# Ensure `final_matchup` is assigned before printing\n",
    "wfinal_matchup = wmatchups_2025[\n",
    "    ((wmatchups_2025[\"Team1\"] == wfinal_teams[0]) & (wmatchups_2025[\"Team2\"] == wfinal_teams[1])) |\n",
    "    ((wmatchups_2025[\"Team1\"] == wfinal_teams[1]) & (wmatchups_2025[\"Team2\"] == wfinal_teams[0]))\n",
    "]\n",
    "\n",
    "print(wfinal_matchup)  # Now it's correctly defined\n",
    "\n",
    "# If the matchup exists, use the predicted winner\n",
    "if not wfinal_matchup.empty:\n",
    "    wfinal_winner = wfinal_matchup.iloc[0][\"Predicted_Winner\"]\n",
    "    print(f\"The 2025 NCAA Tournament Champion is: {wfinal_winner}!\")\n",
    "else:\n",
    "    print(\"⚠ No final matchup found. Predicting manually...\")\n",
    "\n",
    "    # Get team stats\n",
    "    wteam1_stats = wteam_stats[wteam_stats[\"TeamID\"] == wfinal_teams[0]]\n",
    "    wteam2_stats = wteam_stats[wteam_stats[\"TeamID\"] == wfinal_teams[1]]\n",
    "\n",
    "    if wteam1_stats.empty or wteam2_stats.empty:\n",
    "        print(\"⚠ Missing team stats. Cannot predict the final game.\")\n",
    "    else:\n",
    "        # Compute feature differences\n",
    "        wfinal_matchup_data = pd.DataFrame({\n",
    "            \"Seed_Diff\": wteam1_stats[\"WSeedNum\"].values[0] - wteam2_stats[\"WSeedNum\"].values[0],\n",
    "            \"WFG_Pct\": wteam1_stats[\"WFG_Pct\"].values[0] - wteam2_stats[\"WFG_Pct\"].values[0],\n",
    "            \"LFG_Pct\": wteam2_stats[\"WFG_Pct\"].values[0] - wteam1_stats[\"WFG_Pct\"].values[0],\n",
    "            \"W3P_Pct\": wteam1_stats[\"W3P_Pct\"].values[0] - wteam2_stats[\"W3P_Pct\"].values[0],\n",
    "            \"L3P_Pct\": wteam2_stats[\"W3P_Pct\"].values[0] - wteam1_stats[\"W3P_Pct\"].values[0],\n",
    "            \"WFT_Pct\": wteam1_stats[\"WFT_Pct\"].values[0] - wteam2_stats[\"WFT_Pct\"].values[0],\n",
    "            \"LFT_Pct\": wteam2_stats[\"WFT_Pct\"].values[0] - wteam1_stats[\"WFT_Pct\"].values[0]\n",
    "        }, index=[0])\n",
    "\n",
    "        print(\"Final matchup data for prediction:\", wfinal_matchup_data)\n",
    "\n",
    "        # Convert to DMatrix\n",
    "        wfinal_matchup_dmatrix = xgb.DMatrix(wfinal_matchup_data)\n",
    "\n",
    "        # Predict the final winner\n",
    "        wwin_prob = xgb_model.predict(wfinal_matchup_dmatrix)[0]\n",
    "        wfinal_winner = wfinal_teams[0] if wwin_prob > 0.5 else wfinal_teams[1]\n",
    "        print(f\"The manually predicted 2025 NCAA Champion is: {wfinal_winner}!\")"
   ]
  },
  {
   "cell_type": "code",
   "execution_count": 223,
   "id": "c6943ce7",
   "metadata": {
    "_cell_guid": "32938306-c645-4111-9f20-1fada844bf0b",
    "_uuid": "cb8b68a5-da63-4a99-9588-3a052d0e2538",
    "collapsed": false,
    "execution": {
     "iopub.execute_input": "2025-03-18T15:20:04.708450Z",
     "iopub.status.busy": "2025-03-18T15:20:04.708084Z",
     "iopub.status.idle": "2025-03-18T15:20:04.744947Z",
     "shell.execute_reply": "2025-03-18T15:20:04.743781Z"
    },
    "id": "1UNMb4s2WMnG",
    "jupyter": {
     "outputs_hidden": false
    },
    "papermill": {
     "duration": 0.123331,
     "end_time": "2025-03-18T15:20:04.747135",
     "exception": false,
     "start_time": "2025-03-18T15:20:04.623804",
     "status": "completed"
    },
    "tags": []
   },
   "outputs": [],
   "source": [
    "# Create a dictionary to map TeamID to TeamName\n",
    "team_name_mapping = dict(zip(tourney_results[\"WTeamID\"], tourney_results[\"WTeamName\"]))  # Adjust column names if needed"
   ]
  },
  {
   "cell_type": "code",
   "execution_count": 224,
   "id": "fb4ca9fb",
   "metadata": {
    "_cell_guid": "1e8c8f43-5c82-42d2-8c04-f52cdcae2df7",
    "_uuid": "d9a64e2e-e44c-43e6-8680-b7ac62d37714",
    "collapsed": false,
    "execution": {
     "iopub.execute_input": "2025-03-18T15:20:04.920403Z",
     "iopub.status.busy": "2025-03-18T15:20:04.919713Z",
     "iopub.status.idle": "2025-03-18T15:20:04.926038Z",
     "shell.execute_reply": "2025-03-18T15:20:04.924320Z"
    },
    "id": "MIkqd-p9WMqT",
    "jupyter": {
     "outputs_hidden": false
    },
    "papermill": {
     "duration": 0.098507,
     "end_time": "2025-03-18T15:20:04.928116",
     "exception": false,
     "start_time": "2025-03-18T15:20:04.829609",
     "status": "completed"
    },
    "tags": []
   },
   "outputs": [],
   "source": [
    "# Check the name of the champion\n",
    "final_winner_name = team_name_mapping.get(final_winner, f\"Unknown Team ({final_winner})\")"
   ]
  },
  {
   "cell_type": "code",
   "execution_count": 225,
   "id": "660fc04a",
   "metadata": {
    "_cell_guid": "e6fc091d-3754-45b0-aa6c-764d5fc82a51",
    "_uuid": "5a547a73-8b57-4e7a-9034-59a1ed9d39bd",
    "collapsed": false,
    "execution": {
     "iopub.execute_input": "2025-03-18T15:20:05.125324Z",
     "iopub.status.busy": "2025-03-18T15:20:05.124894Z",
     "iopub.status.idle": "2025-03-18T15:20:05.130700Z",
     "shell.execute_reply": "2025-03-18T15:20:05.128992Z"
    },
    "id": "zz6H_fwcWMtb",
    "jupyter": {
     "outputs_hidden": false
    },
    "outputId": "32e58b36-c762-4e94-987c-e2ffebd054fb",
    "papermill": {
     "duration": 0.092173,
     "end_time": "2025-03-18T15:20:05.133002",
     "exception": false,
     "start_time": "2025-03-18T15:20:05.040829",
     "status": "completed"
    },
    "tags": []
   },
   "outputs": [
    {
     "name": "stdout",
     "output_type": "stream",
     "text": [
      "The 2025 NCAA Tournament Champion is: Kansas!\n"
     ]
    }
   ],
   "source": [
    "print(f\"The 2025 NCAA Tournament Champion is: {final_winner_name}!\")"
   ]
  },
  {
   "cell_type": "code",
   "execution_count": 226,
   "id": "8f7d71b8",
   "metadata": {
    "_cell_guid": "5b74a7d7-47d1-4be1-a350-e208a37cdb6a",
    "_uuid": "c756c802-9d72-4b51-bda5-ec7b2baba3af",
    "collapsed": false,
    "execution": {
     "iopub.execute_input": "2025-03-18T15:20:05.318262Z",
     "iopub.status.busy": "2025-03-18T15:20:05.317796Z",
     "iopub.status.idle": "2025-03-18T15:20:05.338625Z",
     "shell.execute_reply": "2025-03-18T15:20:05.337159Z"
    },
    "id": "GJS-rzYsWMxB",
    "jupyter": {
     "outputs_hidden": false
    },
    "papermill": {
     "duration": 0.11569,
     "end_time": "2025-03-18T15:20:05.340595",
     "exception": false,
     "start_time": "2025-03-18T15:20:05.224905",
     "status": "completed"
    },
    "tags": []
   },
   "outputs": [],
   "source": [
    "# Create a dictionary to map TeamID to TeamName\n",
    "wteam_name_mapping = dict(zip(wtourney_results[\"WTeamID\"], wtourney_results[\"WTeamName\"]))  # Adjust column names if needed"
   ]
  },
  {
   "cell_type": "code",
   "execution_count": 227,
   "id": "eeed52cc",
   "metadata": {
    "_cell_guid": "48d56a81-af4d-4cf5-a305-c50cee4a5310",
    "_uuid": "4b181bdc-42ed-4096-bbfc-aa4cfd4c4981",
    "collapsed": false,
    "execution": {
     "iopub.execute_input": "2025-03-18T15:20:05.513455Z",
     "iopub.status.busy": "2025-03-18T15:20:05.512935Z",
     "iopub.status.idle": "2025-03-18T15:20:05.517999Z",
     "shell.execute_reply": "2025-03-18T15:20:05.516710Z"
    },
    "id": "47bSOr6VeeJl",
    "jupyter": {
     "outputs_hidden": false
    },
    "papermill": {
     "duration": 0.093151,
     "end_time": "2025-03-18T15:20:05.519771",
     "exception": false,
     "start_time": "2025-03-18T15:20:05.426620",
     "status": "completed"
    },
    "tags": []
   },
   "outputs": [],
   "source": [
    "# Check the name of the champion\n",
    "wfinal_winner_name = wteam_name_mapping.get(wfinal_winner, f\"Unknown Team ({wfinal_winner})\")"
   ]
  },
  {
   "cell_type": "code",
   "execution_count": 228,
   "id": "30cfce01",
   "metadata": {
    "_cell_guid": "fc0de1e7-ebd6-4b8c-a327-29012d1092fb",
    "_uuid": "213e56b8-72fc-445e-b9bd-eb81e6862bbf",
    "collapsed": false,
    "execution": {
     "iopub.execute_input": "2025-03-18T15:20:05.690972Z",
     "iopub.status.busy": "2025-03-18T15:20:05.690540Z",
     "iopub.status.idle": "2025-03-18T15:20:05.696456Z",
     "shell.execute_reply": "2025-03-18T15:20:05.694784Z"
    },
    "id": "uBouYeoWeeNg",
    "jupyter": {
     "outputs_hidden": false
    },
    "papermill": {
     "duration": 0.092297,
     "end_time": "2025-03-18T15:20:05.697919",
     "exception": false,
     "start_time": "2025-03-18T15:20:05.605622",
     "status": "completed"
    },
    "tags": []
   },
   "outputs": [
    {
     "name": "stdout",
     "output_type": "stream",
     "text": [
      "The 2025 Women's NCAA Tournament Champion is: Connecticut!\n"
     ]
    }
   ],
   "source": [
    "print(f\"The 2025 Women's NCAA Tournament Champion is: {wfinal_winner_name}!\")"
   ]
  },
  {
   "cell_type": "code",
   "execution_count": null,
   "id": "131eba26",
   "metadata": {
    "_cell_guid": "d71e2884-025c-4fba-8c41-88334c0ef229",
    "_uuid": "39e95792-21b8-43e2-b5cd-9dea1de916aa",
    "collapsed": false,
    "id": "k95fGtKjeeQt",
    "jupyter": {
     "outputs_hidden": false
    },
    "papermill": {
     "duration": 0.082846,
     "end_time": "2025-03-18T15:20:05.864346",
     "exception": false,
     "start_time": "2025-03-18T15:20:05.781500",
     "status": "completed"
    },
    "tags": []
   },
   "outputs": [],
   "source": []
  },
  {
   "cell_type": "code",
   "execution_count": null,
   "id": "0b9bb2d0",
   "metadata": {
    "_cell_guid": "a9c516c0-1332-4bb4-a2f6-3d94cc1d8f8d",
    "_uuid": "949b40cf-0791-4784-aa1f-9401f66d8a63",
    "collapsed": false,
    "id": "T5wjsgVieeVl",
    "jupyter": {
     "outputs_hidden": false
    },
    "papermill": {
     "duration": 0.086079,
     "end_time": "2025-03-18T15:20:06.036245",
     "exception": false,
     "start_time": "2025-03-18T15:20:05.950166",
     "status": "completed"
    },
    "tags": []
   },
   "outputs": [],
   "source": []
  }
 ],
 "metadata": {
  "colab": {
   "provenance": []
  },
  "kaggle": {
   "accelerator": "none",
   "dataSources": [
    {
     "databundleVersionId": 11441828,
     "sourceId": 91497,
     "sourceType": "competition"
    }
   ],
   "dockerImageVersionId": 30918,
   "isGpuEnabled": false,
   "isInternetEnabled": true,
   "language": "python",
   "sourceType": "notebook"
  },
  "kernelspec": {
   "display_name": "Python 3",
   "language": "python",
   "name": "python3"
  },
  "language_info": {
   "codemirror_mode": {
    "name": "ipython",
    "version": 3
   },
   "file_extension": ".py",
   "mimetype": "text/x-python",
   "name": "python",
   "nbconvert_exporter": "python",
   "pygments_lexer": "ipython3",
   "version": "3.10.12"
  },
  "papermill": {
   "default_parameters": {},
   "duration": 119.630014,
   "end_time": "2025-03-18T15:20:07.044311",
   "environment_variables": {},
   "exception": null,
   "input_path": "__notebook__.ipynb",
   "output_path": "__notebook__.ipynb",
   "parameters": {},
   "start_time": "2025-03-18T15:18:07.414297",
   "version": "2.6.0"
  }
 },
 "nbformat": 4,
 "nbformat_minor": 5
}
